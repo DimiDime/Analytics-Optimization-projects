{
 "cells": [
  {
   "cell_type": "markdown",
   "metadata": {},
   "source": [
    "![uc3m](img/uc3m.jpg)"
   ]
  },
  {
   "cell_type": "markdown",
   "metadata": {},
   "source": [
    "# Marketing Mix Modeling\n",
    "\n",
    "<a href=\"http://www.est.uc3m.es/nogales\" target=\"_blank\">Javier Nogales</a>"
   ]
  },
  {
   "cell_type": "markdown",
   "metadata": {},
   "source": [
    "![](img/MMM2.jpeg)"
   ]
  },
  {
   "cell_type": "markdown",
   "metadata": {},
   "source": [
    "## Summary\n",
    "\n",
    "Marketing Mix Modeling (MMM) uses statistical analysis to\n",
    "estimate the past and future impact of various\n",
    "marketing tactics on sales. \n",
    "\n",
    "These are some questions addressed by MMM:\n",
    "\n",
    "- How much media is enough?\n",
    "- Which medium is most effective?\n",
    "- What is the best media environment to use?\n",
    "- Is it better to use flighting or continuity?\n",
    "- When are ads worn out?\n",
    "\n",
    "\n",
    "In this case study, you need to help a Chief Marketing Officer (CMO) to allocate her budget across social\n",
    "media channels in order to increase the Return On Investment (ROI). To do that, you need\n",
    "to build an optimization model that recommends the allocation of several budgets across the\n",
    "following media channels: TV, Print (catalogue, bill boards, Airports etc.), Mobile Advertising,\n",
    "Google AdWords, and Facebook.\n",
    "\n",
    "The ROI from each campaign is as follows: 7% from TV, 3% from Print, 15% from Mobile\n",
    "Advertising, 12% from Google Adwords, and 5% from Facebook.\n",
    "\n",
    "Moreover, the CMO has estimated that for every euro spent on each channel, the following\n",
    "number of customers can be reached: 2 customers on TV, 3.8 on Print, 1.2 on Mobile, 1.4 on\n",
    "Google AdWords, and 2.4 on Facebook.\n",
    "\n",
    "Finally, the CMO directive is that the marketing budget should not exceed 5 million euros, and\n",
    "at least 2.5 million customers should be targeted.\n",
    "\n"
   ]
  },
  {
   "cell_type": "markdown",
   "metadata": {},
   "source": [
    "<table align=\"left\">\n",
    " <tr><td width=\"80\"><img src=\"img/question.png\" style=\"width:auto;height:auto\"></td><td style=\"text-align:left\">\n",
    "Formulate precisely an optimization problem, defining the decision variables and including the objective function and constraints\n",
    " </td></tr>\n",
    "</table>"
   ]
  },
  {
   "cell_type": "markdown",
   "metadata": {},
   "source": [
    "Add here the mathematical formulation"
   ]
  },
  {
   "cell_type": "markdown",
   "metadata": {},
   "source": [
    "<table align=\"left\">\n",
    " <tr><td width=\"80\"><img src=\"img/question.png\" style=\"width:auto;height:auto\"></td><td style=\"text-align:left\">\n",
    "Solve the problem with Pyomo\n",
    " </td></tr>\n",
    "</table>"
   ]
  },
  {
   "cell_type": "markdown",
   "metadata": {},
   "source": [
    "### Formulation with Pyomo\n",
    "\n"
   ]
  },
  {
   "cell_type": "code",
   "execution_count": 6,
   "metadata": {},
   "outputs": [],
   "source": [
    "from pyomo.environ import *\n",
    "\n",
    "# The data\n",
    "\n",
    "model = ConcreteModel('Marketing Mix Modeling')\n",
    "\n",
    "model.channel = Set(initialize=['TV', 'Print', 'Mobile', 'Google', 'Facebook'], doc='channels' )\n",
    "\n",
    "model.ROI = Param(model.channel, initialize={'TV':0.07, 'Print':0.03, 'Mobile':0.15, 'Google':0.12, 'Facebook':0.05 }, doc='ROI for each campaign' )\n",
    "\n",
    "model.customers = Param(model.channel, initialize={'TV':2, 'Print':3.8, 'Mobile':1.2, 'Google':1.4, 'Facebook':2.4 }, doc='reached customers' )\n",
    "\n",
    "model.budget = Param(initialize=5e6, doc='marketing budget')\n",
    "\n",
    "model.target = Param(initialize=2.5e6, doc='desired number of customers')\n",
    "\n",
    "# The model\n",
    "\n",
    "#### INSERT YOUR CODE BELOW\n"
   ]
  },
  {
   "cell_type": "markdown",
   "metadata": {},
   "source": [
    "### The solution\n",
    "\n"
   ]
  },
  {
   "cell_type": "code",
   "execution_count": 7,
   "metadata": {},
   "outputs": [],
   "source": [
    "Solver = SolverFactory('glpk')\n",
    "\n",
    "model.dual = Suffix(direction=Suffix.IMPORT)\n",
    "Results = Solver.solve(model)\n",
    "\n",
    "# Display solution\n",
    "model.x.display()\n",
    "\n",
    "model.display()\n"
   ]
  },
  {
   "cell_type": "markdown",
   "metadata": {},
   "source": [
    "<table align=\"left\">\n",
    " <tr><td width=\"80\"><img src=\"img/question.png\" style=\"width:auto;height:auto\"></td><td style=\"text-align:left\">\n",
    "Interpret the solution\n",
    " </td></tr>\n",
    "</table>"
   ]
  },
  {
   "cell_type": "markdown",
   "metadata": {},
   "source": [
    "### Interpretation\n",
    "\n",
    "Add here your interpretation"
   ]
  },
  {
   "cell_type": "markdown",
   "metadata": {},
   "source": [
    "<table align=\"left\">\n",
    " <tr><td width=\"80\"><img src=\"img/question.png\" style=\"width:auto;height:auto\"></td><td style=\"text-align:left\">\n",
    "Answer the following questions without solving the problem again:\n",
    " \n",
    "- If the budget is decreased by 3 million euros, what is the decrease in the ROI? Is the solution affected? \n",
    "\n",
    "- If the new ROI for the Adwords channel is 16%, would the solution be affected?\n",
    "     \n",
    " </td></tr>\n",
    "</table>\n",
    "\n"
   ]
  },
  {
   "cell_type": "markdown",
   "metadata": {},
   "source": [
    "### Lagrange multipliers"
   ]
  },
  {
   "cell_type": "code",
   "execution_count": 8,
   "metadata": {},
   "outputs": [],
   "source": [
    "#### INSERT YOUR CODE BELOW\n",
    "\n"
   ]
  },
  {
   "cell_type": "markdown",
   "metadata": {},
   "source": [
    "Add here your interpretation"
   ]
  },
  {
   "cell_type": "markdown",
   "metadata": {},
   "source": [
    "<table align=\"left\">\n",
    " <tr><td width=\"80\"><img src=\"img/question.png\" style=\"width:auto;height:auto\"></td><td style=\"text-align:left\">\n",
    "Consider the following constraints, formulate their equations and implement the new model:\n",
    "\t<br><br>\n",
    "\tBudget allocations for each media should be at least: 500K for TV, 200K for Print, 100K for Mobile, 300K for AdWords, 100K for Facebook.\n",
    "\t<br>\n",
    "\tMobile media should not account for more than 20% of the total allocation.\n",
    "\t<br>\n",
    "\tTV and Print together should account for at least 20% of the total allocation.\n",
    "\t<br>\n",
    "\tGoogle Adwords should be no more than 2 times the TV allocation.\n",
    " </td></tr>\n",
    "</table>"
   ]
  },
  {
   "cell_type": "code",
   "execution_count": 9,
   "metadata": {},
   "outputs": [],
   "source": [
    "#### INSERT YOUR CODE BELOW"
   ]
  },
  {
   "cell_type": "markdown",
   "metadata": {},
   "source": [
    "![](allocation/MMM.png)"
   ]
  },
  {
   "cell_type": "markdown",
   "metadata": {},
   "source": [
    "<table align=\"left\">\n",
    " <tr><td width=\"80\"><img src=\"img/question.png\" style=\"width:auto;height:auto\"></td><td style=\"text-align:left\">\n",
    "     You can make this exercise only after studying topic \"Discrete Models\" <br> <br>\n",
    "Ignore the constraints in the previous exercise, except for the budget allocations for each media. Now you can decide whether or not to use a channel. If a channel is used, then the media allocation should at least equal the limit stated in the previous paragraph. Otherwise, no money is allocated to the channel. Propose a new formulation where at least 3 channels should be used.\n",
    " </td></tr>\n",
    "</table>"
   ]
  },
  {
   "cell_type": "markdown",
   "metadata": {},
   "source": [
    "![](allocation/MMMbinary.png)"
   ]
  },
  {
   "cell_type": "code",
   "execution_count": 10,
   "metadata": {},
   "outputs": [],
   "source": [
    "#### INSERT YOUR CODE BELOW"
   ]
  },
  {
   "cell_type": "markdown",
   "metadata": {},
   "source": [
    "### We are done"
   ]
  },
  {
   "cell_type": "markdown",
   "metadata": {},
   "source": [
    "![uc3m](img/wedidit.png)"
   ]
  },
  {
   "cell_type": "code",
   "execution_count": null,
   "metadata": {},
   "outputs": [],
   "source": []
  }
 ],
 "metadata": {
  "kernelspec": {
   "display_name": "Python 3.10.6 64-bit",
   "language": "python",
   "name": "python3"
  },
  "language_info": {
   "codemirror_mode": {
    "name": "ipython",
    "version": 3
   },
   "file_extension": ".py",
   "mimetype": "text/x-python",
   "name": "python",
   "nbconvert_exporter": "python",
   "pygments_lexer": "ipython3",
   "version": "3.10.6"
  },
  "vscode": {
   "interpreter": {
    "hash": "369f2c481f4da34e4445cda3fffd2e751bd1c4d706f27375911949ba6bb62e1c"
   }
  }
 },
 "nbformat": 4,
 "nbformat_minor": 2
}
