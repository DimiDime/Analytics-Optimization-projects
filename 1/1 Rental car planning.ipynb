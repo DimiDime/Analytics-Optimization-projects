{
 "cells": [
  {
   "cell_type": "markdown",
   "metadata": {},
   "source": [
    "![uc3m](img/uc3m.jpg)"
   ]
  },
  {
   "cell_type": "markdown",
   "metadata": {},
   "source": [
    "# The Rental Car Planning Problem\n",
    "\n",
    "<a href=\"http://www.est.uc3m.es/nogales\" target=\"_blank\">Javier Nogales</a>\n",
    "\n"
   ]
  },
  {
   "cell_type": "markdown",
   "metadata": {},
   "source": [
    "## Summary\n",
    "\n",
    "Every week, a company must arrange rental cars for the travels of its executives\n",
    "\n",
    "For the next week, the daily car requirements of the\n",
    "executives are the following:\n",
    "\n",
    "\n",
    "|     | Sat | Sun | Mon | Tue | Wed | Thu | Fry |\n",
    "| --- | --- | --- | --- | --- | --- | --- | --- |\n",
    "| Requirement | 2 | 5 | 10 | 9 | 16 | 7 | 11 |\n",
    "\n",
    "\n",
    "A car rental agency offers the following rental prices per car (in euros) for the company:\n",
    "\n",
    "|  | Price |\n",
    "| --- | --- |\n",
    "| Daily cost Sat/Sun | 35 |\n",
    "| Daily cost weekday | 50 |\n",
    "| Three-day plan (three consecutive weekdays) | 125 |\n",
    "| Weekend plan (Sat and Sun) | 60 |\n",
    "| All-weekdays plan (Mon though Fri) | 180 |\n",
    "| All-week plan (Sat through Fri) | 200 |\n",
    "\n",
    "You need to give advice to the company about the optimal car rental for the following week\n",
    "\n",
    "![uc3m](img/rental.jpg)\n",
    "\n",
    "\n",
    "\n",
    "    \n",
    "\n",
    "\n",
    "\n",
    "\n"
   ]
  },
  {
   "cell_type": "markdown",
   "metadata": {},
   "source": [
    "## Modeling\n",
    "\n",
    "Add here the variables, objective function and constraints\n",
    "\n",
    "Xij = # cars using plan j\n",
    "\n",
    "MIN\n",
    "35(X11+X12) + 50(X23+...+X27) + 125(X33 + X34 + X35) + 60*X4 + 180*X5 + 200*X6\n"
   ]
  },
  {
   "cell_type": "markdown",
   "metadata": {},
   "source": [
    "## Formulation with Pyomo\n"
   ]
  },
  {
   "cell_type": "markdown",
   "metadata": {},
   "source": [
    "### The data\n",
    "\n"
   ]
  },
  {
   "cell_type": "code",
   "execution_count": 6,
   "metadata": {},
   "outputs": [],
   "source": [
    "### Define here the input (data)\n",
    "\n",
    "import numpy as np\n",
    "\n",
    "# enter data as numpy arrays\n",
    "\n",
    "# Prices for objective function\n",
    "# order is: x(11), x(12), x(21), ..., x(6)\n",
    "c = np.array([35, 35, 50, 50, 50, 50, 50, 125, 125, 125, 60, 180, 200])\n",
    "\n",
    "# Data matrix for constraints\n",
    "# columns are in the same order as before\n",
    "# rows go from Sat to Fri \n",
    "A = np.array([[1, 0, 0, 0, 0, 0, 0, 0, 0, 0, 1, 0, 1], \n",
    "              [0, 1, 0, 0, 0, 0, 0, 0, 0, 0, 1, 0, 1],\n",
    "              [0, 0, 1, 0, 0, 0, 0, 1, 0, 0, 0, 1, 1],\n",
    "              [0, 0, 0, 1, 0, 0, 0, 1, 1, 0, 0, 1, 1],\n",
    "              [0, 0, 0, 0, 1, 0, 0, 1, 1, 1, 0, 1, 1],\n",
    "              [0, 0, 0, 0, 0, 1, 0, 0, 1, 1, 0, 1, 1],\n",
    "              [0, 0, 0, 0, 0, 0, 1, 0, 0, 1, 0, 1, 1]\n",
    "             ])\n",
    "\n",
    "# Requirements\n",
    "b = np.array([2, 5, 10, 9, 16, 7, 11])\n",
    "\n",
    "# set of row indices\n",
    "I = range(len(A))\n",
    "\n",
    "# set of column indices\n",
    "J = range(len(A.T))"
   ]
  },
  {
   "cell_type": "code",
   "execution_count": 11,
   "metadata": {},
   "outputs": [],
   "source": [
    "### Write here the code\n",
    "\n",
    "from pyomo.environ import *\n",
    "\n",
    "model = ConcreteModel()\n",
    "\n",
    "model.x = Var(J, within = NonNegativeReals) # J: 13 Within: X>= 0\n",
    "\n",
    "model.objective = Objective(expr = sum(model.x[j] * c[j] for j in J)) # Sum product\n",
    "\n",
    "model.constraints = ConstraintList() # A * x >= b\n",
    "for i in I:\n",
    "    model.constraints.add(sum(A[i,j]*model.x[j] for j in J) >= b[i]) # pyomo does not admit numpy inside"
   ]
  },
  {
   "cell_type": "code",
   "execution_count": 12,
   "metadata": {},
   "outputs": [],
   "source": [
    "# import pyomo.environ as pyo\n",
    "# from pyomo.opt import SolverFactory"
   ]
  },
  {
   "cell_type": "code",
   "execution_count": 13,
   "metadata": {},
   "outputs": [],
   "source": [
    "# import pyomo.environ as pyo\n",
    "# from pyomo.opt import SolverFactory\n",
    "# model = pyo.ConcreteModel()\n",
    "# model.nVars = pyo.Param(initialize=4)\n",
    "# model.N = pyo.RangeSet(model.nVars)\n",
    "# model.x = pyo.Var(model.N, within=pyo.Binary)\n",
    "# model.obj = pyo.Objective(expr=pyo.summation(model.x))\n",
    "# model.cuts = pyo.ConstraintList()\n",
    "# opt = SolverFactory('glpk')\n",
    "# opt.solve(model) "
   ]
  },
  {
   "cell_type": "code",
   "execution_count": 14,
   "metadata": {},
   "outputs": [
    {
     "name": "stdout",
     "output_type": "stream",
     "text": [
      "WARNING: Could not locate the 'glpsol' executable, which is required for\n",
      "    solver 'glpk'\n"
     ]
    },
    {
     "ename": "ApplicationError",
     "evalue": "No executable found for solver 'glpk'",
     "output_type": "error",
     "traceback": [
      "\u001b[1;31m---------------------------------------------------------------------------\u001b[0m",
      "\u001b[1;31mApplicationError\u001b[0m                          Traceback (most recent call last)",
      "Input \u001b[1;32mIn [14]\u001b[0m, in \u001b[0;36m<cell line: 10>\u001b[1;34m()\u001b[0m\n\u001b[0;32m      7\u001b[0m model\u001b[38;5;241m.\u001b[39mdual \u001b[38;5;241m=\u001b[39m Suffix(direction\u001b[38;5;241m=\u001b[39mSuffix\u001b[38;5;241m.\u001b[39mIMPORT) \n\u001b[0;32m      9\u001b[0m \u001b[38;5;66;03m# Solve\u001b[39;00m\n\u001b[1;32m---> 10\u001b[0m results \u001b[38;5;241m=\u001b[39m \u001b[43mopt\u001b[49m\u001b[38;5;241;43m.\u001b[39;49m\u001b[43msolve\u001b[49m\u001b[43m(\u001b[49m\u001b[43mmodel\u001b[49m\u001b[43m)\u001b[49m  \u001b[38;5;66;03m# solve the model with the selected solver\u001b[39;00m\n\u001b[0;32m     11\u001b[0m \u001b[38;5;66;03m#opt.solve(model)\u001b[39;00m\n\u001b[0;32m     13\u001b[0m model\u001b[38;5;241m.\u001b[39mdisplay()\n",
      "File \u001b[1;32m~\\AppData\\Roaming\\Python\\Python39\\site-packages\\pyomo\\opt\\base\\solvers.py:513\u001b[0m, in \u001b[0;36mOptSolver.solve\u001b[1;34m(self, *args, **kwds)\u001b[0m\n\u001b[0;32m    510\u001b[0m \u001b[38;5;28;01mdef\u001b[39;00m \u001b[38;5;21msolve\u001b[39m(\u001b[38;5;28mself\u001b[39m, \u001b[38;5;241m*\u001b[39margs, \u001b[38;5;241m*\u001b[39m\u001b[38;5;241m*\u001b[39mkwds):\n\u001b[0;32m    511\u001b[0m     \u001b[38;5;124;03m\"\"\" Solve the problem \"\"\"\u001b[39;00m\n\u001b[1;32m--> 513\u001b[0m     \u001b[38;5;28;43mself\u001b[39;49m\u001b[38;5;241;43m.\u001b[39;49m\u001b[43mavailable\u001b[49m\u001b[43m(\u001b[49m\u001b[43mexception_flag\u001b[49m\u001b[38;5;241;43m=\u001b[39;49m\u001b[38;5;28;43;01mTrue\u001b[39;49;00m\u001b[43m)\u001b[49m\n\u001b[0;32m    514\u001b[0m     \u001b[38;5;66;03m#\u001b[39;00m\n\u001b[0;32m    515\u001b[0m     \u001b[38;5;66;03m# If the inputs are models, then validate that they have been\u001b[39;00m\n\u001b[0;32m    516\u001b[0m     \u001b[38;5;66;03m# constructed! Collect suffix names to try and import from solution.\u001b[39;00m\n\u001b[0;32m    517\u001b[0m     \u001b[38;5;66;03m#\u001b[39;00m\n\u001b[0;32m    518\u001b[0m     \u001b[38;5;28;01mfrom\u001b[39;00m \u001b[38;5;21;01mpyomo\u001b[39;00m\u001b[38;5;21;01m.\u001b[39;00m\u001b[38;5;21;01mcore\u001b[39;00m\u001b[38;5;21;01m.\u001b[39;00m\u001b[38;5;21;01mbase\u001b[39;00m\u001b[38;5;21;01m.\u001b[39;00m\u001b[38;5;21;01mblock\u001b[39;00m \u001b[38;5;28;01mimport\u001b[39;00m _BlockData\n",
      "File \u001b[1;32m~\\AppData\\Roaming\\Python\\Python39\\site-packages\\pyomo\\opt\\solver\\shellcmd.py:129\u001b[0m, in \u001b[0;36mSystemCallSolver.available\u001b[1;34m(self, exception_flag)\u001b[0m\n\u001b[0;32m    127\u001b[0m     \u001b[38;5;28;01mif\u001b[39;00m exception_flag:\n\u001b[0;32m    128\u001b[0m         msg \u001b[38;5;241m=\u001b[39m \u001b[38;5;124m\"\u001b[39m\u001b[38;5;124mNo executable found for solver \u001b[39m\u001b[38;5;124m'\u001b[39m\u001b[38;5;132;01m%s\u001b[39;00m\u001b[38;5;124m'\u001b[39m\u001b[38;5;124m\"\u001b[39m\n\u001b[1;32m--> 129\u001b[0m         \u001b[38;5;28;01mraise\u001b[39;00m ApplicationError(msg \u001b[38;5;241m%\u001b[39m \u001b[38;5;28mself\u001b[39m\u001b[38;5;241m.\u001b[39mname)\n\u001b[0;32m    130\u001b[0m     \u001b[38;5;28;01mreturn\u001b[39;00m \u001b[38;5;28;01mFalse\u001b[39;00m\n\u001b[0;32m    131\u001b[0m \u001b[38;5;28;01mreturn\u001b[39;00m \u001b[38;5;28;01mTrue\u001b[39;00m\n",
      "\u001b[1;31mApplicationError\u001b[0m: No executable found for solver 'glpk'"
     ]
    }
   ],
   "source": [
    "### Solve the problem\n",
    "\n",
    "# Define the solver\n",
    "opt = SolverFactory('glpk')\n",
    "\n",
    "# to include marginal prices\n",
    "model.dual = Suffix(direction=Suffix.IMPORT) \n",
    "\n",
    "# Solve\n",
    "results = opt.solve(model)  # solve the model with the selected solver\n",
    "#opt.solve(model)\n",
    "\n",
    "model.display()"
   ]
  },
  {
   "cell_type": "markdown",
   "metadata": {},
   "source": [
    "### Interpretation\n",
    "\n",
    "\n",
    "Write here the interpretation (the optimal cost is 2210 eur)"
   ]
  },
  {
   "cell_type": "markdown",
   "metadata": {},
   "source": [
    "Questions:\n",
    "\n",
    "- What would change if your estimated requirement for Friday would increase by one?\n",
    "\n",
    "- And if that unit increase would affect the requirement on Saturday?\n",
    "\n",
    "- Which day of the week is the most sensitive to a unit increase in the requirement?\n",
    "\n"
   ]
  },
  {
   "cell_type": "code",
   "execution_count": null,
   "metadata": {},
   "outputs": [],
   "source": []
  }
 ],
 "metadata": {
  "kernelspec": {
   "display_name": "Python 3.10.6 64-bit",
   "language": "python",
   "name": "python3"
  },
  "language_info": {
   "codemirror_mode": {
    "name": "ipython",
    "version": 3
   },
   "file_extension": ".py",
   "mimetype": "text/x-python",
   "name": "python",
   "nbconvert_exporter": "python",
   "pygments_lexer": "ipython3",
   "version": "3.10.6"
  },
  "vscode": {
   "interpreter": {
    "hash": "369f2c481f4da34e4445cda3fffd2e751bd1c4d706f27375911949ba6bb62e1c"
   }
  }
 },
 "nbformat": 4,
 "nbformat_minor": 2
}
