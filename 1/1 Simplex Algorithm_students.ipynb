{
 "cells": [
  {
   "cell_type": "markdown",
   "metadata": {},
   "source": [
    "![uc3m](img/uc3m.jpg)"
   ]
  },
  {
   "cell_type": "markdown",
   "metadata": {},
   "source": [
    "# The Simplex Algorithm\n",
    "\n",
    "<a href=\"http://www.est.uc3m.es/nogales\" target=\"_blank\">Javier Nogales</a>"
   ]
  },
  {
   "cell_type": "markdown",
   "metadata": {},
   "source": [
    "![](img/simplex.png)"
   ]
  },
  {
   "cell_type": "markdown",
   "metadata": {},
   "source": [
    "## Consider the Airline Revenue Management example (from slides)\n",
    "\n",
    "\n",
    "\n",
    "![](img/RM_matrix.png)\n",
    "\n"
   ]
  },
  {
   "cell_type": "markdown",
   "metadata": {},
   "source": [
    "Problem definition (standard formulation):"
   ]
  },
  {
   "cell_type": "code",
   "execution_count": 1,
   "metadata": {},
   "outputs": [],
   "source": [
    "import numpy as np\n",
    "\n",
    "A = np.array([[1,1,1,0,0],\n",
    "              [1,0,0,1,0],\n",
    "              [0,1,0,0,1]])\n",
    "\n",
    "b = np.array([150,75,125])\n",
    "\n",
    "c = np.array([-400,-150,0,0,0])\n",
    "\n",
    "# Define problem dimension\n",
    "(m,n)=A.shape\n"
   ]
  },
  {
   "cell_type": "markdown",
   "metadata": {},
   "source": [
    "### Step 0\n",
    "\n",
    "Start with a natural basic solution: $x=(x_3,x_4,x_5)$"
   ]
  },
  {
   "cell_type": "code",
   "execution_count": 2,
   "metadata": {},
   "outputs": [
    {
     "name": "stdout",
     "output_type": "stream",
     "text": [
      "[[1 0 0]\n",
      " [0 1 0]\n",
      " [0 0 1]]\n",
      "[[1 1]\n",
      " [1 0]\n",
      " [0 1]]\n"
     ]
    }
   ],
   "source": [
    "# Initial basis\n",
    "\n",
    "# Take care: in Python indexes start from 0\n",
    "# Select 3 columns\n",
    "iB = np.array([2,3,4])  # I\n",
    "iN = np.array([0,1])    # J\n",
    "\n",
    "# Basic and non-basic matrices\n",
    "B = A[:,iB]\n",
    "N = A[:,iN]\n",
    "\n",
    "print(B)\n",
    "\n",
    "print(N)"
   ]
  },
  {
   "cell_type": "markdown",
   "metadata": {},
   "source": [
    "Compute now the basic solution part ($x_B=B^{-1}b$) and the non-basic one ($x_N=0$)"
   ]
  },
  {
   "cell_type": "code",
   "execution_count": 3,
   "metadata": {},
   "outputs": [
    {
     "name": "stdout",
     "output_type": "stream",
     "text": [
      "[150.  75. 125.]\n",
      "[0. 0.]\n"
     ]
    }
   ],
   "source": [
    "# Compute the first vertex: x=(x_B | x_N)\n",
    "\n",
    "xB = np.linalg.solve(B,b)\n",
    "xN = np.zeros(n-m)\n",
    "\n",
    "print(xB)\n",
    "\n",
    "print(xN)"
   ]
  },
  {
   "cell_type": "markdown",
   "metadata": {},
   "source": [
    "Is it a vertex (basic feasible solution)?"
   ]
  },
  {
   "cell_type": "markdown",
   "metadata": {},
   "source": [
    "Join now the basic part with the non-basic one"
   ]
  },
  {
   "cell_type": "code",
   "execution_count": 7,
   "metadata": {},
   "outputs": [
    {
     "name": "stdout",
     "output_type": "stream",
     "text": [
      "[  0.   0. 150.  75. 125.]\n",
      "[0 1 2 3 4]\n"
     ]
    }
   ],
   "source": [
    "# The vertex (basic solution) with the componentes in the right order\n",
    "\n",
    "x = np.concatenate((xN, xB))\n",
    "index = np.concatenate((iN, iB))\n",
    "x = x[np.argsort(index)]\n",
    "\n",
    "print(x)\n",
    "print(index)"
   ]
  },
  {
   "cell_type": "markdown",
   "metadata": {},
   "source": [
    "### Step 1\n",
    "\n",
    "Compute marginal prices (Lagrange multipliers) and reduced costs"
   ]
  },
  {
   "cell_type": "code",
   "execution_count": 8,
   "metadata": {},
   "outputs": [
    {
     "name": "stdout",
     "output_type": "stream",
     "text": [
      "[0. 0. 0.] [-400. -150.]\n"
     ]
    }
   ],
   "source": [
    "## Step 1 ##\n",
    "\n",
    "lam = np.linalg.solve(B.T,c[iB]) # marginal prices (associated to equality constraints)\n",
    "\n",
    "sigmaN = c[iN]-np.dot(lam,N) # reduced costs (associated to positivity constraints)\n",
    "\n",
    "print(lam,sigmaN)"
   ]
  },
  {
   "cell_type": "markdown",
   "metadata": {},
   "source": [
    "Do we have the optimal solution?\n"
   ]
  },
  {
   "cell_type": "code",
   "execution_count": 9,
   "metadata": {},
   "outputs": [],
   "source": [
    "if np.all(sigmaN>0):\n",
    "    print(\"Stop: optimal solution found\")"
   ]
  },
  {
   "cell_type": "markdown",
   "metadata": {},
   "source": [
    "### Step 2\n",
    "\n",
    "Select the non-basic variable $j$ that is going to enter the basis"
   ]
  },
  {
   "cell_type": "code",
   "execution_count": 10,
   "metadata": {},
   "outputs": [
    {
     "name": "stdout",
     "output_type": "stream",
     "text": [
      "[1 1 0]\n",
      "0\n"
     ]
    }
   ],
   "source": [
    "## Step 2 ##\n",
    "\n",
    "j = np.argmin(sigmaN)\n",
    "\n",
    "# j-th column of N\n",
    "Nj = N[:,j]\n",
    "\n",
    "print(Nj)\n",
    "\n",
    "print(j)"
   ]
  },
  {
   "cell_type": "markdown",
   "metadata": {},
   "source": [
    "Compute now the search direction $p$"
   ]
  },
  {
   "cell_type": "code",
   "execution_count": 11,
   "metadata": {},
   "outputs": [
    {
     "name": "stdout",
     "output_type": "stream",
     "text": [
      "[-1. -1. -0.] [1. 0.]\n",
      "[ 1.  0. -1. -1. -0.]\n"
     ]
    }
   ],
   "source": [
    "# search direction\n",
    "\n",
    "# basic part: solve a linear system of equations\n",
    "pB = -np.linalg.solve(B, Nj)\n",
    "\n",
    "# non-basic part: unit vector\n",
    "pN = np.zeros(n-m)\n",
    "pN[j]=1\n",
    "\n",
    "print(pB,pN)\n",
    "\n",
    "p = np.zeros(n)\n",
    "p[iB]=pB\n",
    "p[iN]=pN\n",
    "\n",
    "print(p)"
   ]
  },
  {
   "cell_type": "markdown",
   "metadata": {},
   "source": [
    "Is the solution unbounded?"
   ]
  },
  {
   "cell_type": "markdown",
   "metadata": {},
   "source": [
    "### Step 3\n",
    "\n",
    "Select the basic variable $i$ that is going to enter the non-basic matrix"
   ]
  },
  {
   "cell_type": "code",
   "execution_count": 12,
   "metadata": {},
   "outputs": [
    {
     "name": "stdout",
     "output_type": "stream",
     "text": [
      "75.0\n",
      "1\n"
     ]
    }
   ],
   "source": [
    "## Step 3 ##\n",
    "\n",
    "# find components where basic variables could become negative\n",
    "index = np.where(pB < 0)\n",
    "\n",
    "# find possible step lengths to avoid negative basic variables\n",
    "alpha = - xB[index] / pB[index]\n",
    "\n",
    "# variable leaving basis\n",
    "i = index[0][np.argmin(alpha)]\n",
    "\n",
    "# choose the minimum alpha to avoid negative values\n",
    "alpha = np.min(alpha)\n",
    "\n",
    "print(alpha)\n",
    "\n",
    "print(i)"
   ]
  },
  {
   "cell_type": "markdown",
   "metadata": {},
   "source": [
    "### Step 4\n",
    "\n",
    "Update"
   ]
  },
  {
   "cell_type": "code",
   "execution_count": 13,
   "metadata": {},
   "outputs": [
    {
     "name": "stdout",
     "output_type": "stream",
     "text": [
      "[2 3 4] [0 1]\n",
      "[2, 0, 4] [3, 1]\n",
      "[0 2 4] [1 3]\n"
     ]
    }
   ],
   "source": [
    "## Step 4 ##\n",
    "\n",
    "print(iB,iN)\n",
    "\n",
    "iBnew=list(iB)\n",
    "iBnew[i]=iN[j]\n",
    "\n",
    "iNnew=list(iN)\n",
    "iNnew[j]=iB[i]\n",
    "\n",
    "print(iBnew,iNnew)\n",
    "\n",
    "iB = np.sort(iBnew)\n",
    "iN = np.sort(iNnew)\n",
    "\n",
    "print(iB,iN)"
   ]
  },
  {
   "cell_type": "markdown",
   "metadata": {},
   "source": [
    "Update B and N, and move to the next basic solution"
   ]
  },
  {
   "cell_type": "code",
   "execution_count": 14,
   "metadata": {},
   "outputs": [
    {
     "name": "stdout",
     "output_type": "stream",
     "text": [
      "[  0.   0. 150.  75. 125.]\n"
     ]
    }
   ],
   "source": [
    "# ADD YOUR CODE HERE\n",
    "# Most important function\n",
    "B = A[:,iB]\n",
    "N = A[:, iN]\n",
    "X=x+alpha*p\n",
    "\n",
    "print(x)"
   ]
  },
  {
   "cell_type": "markdown",
   "metadata": {},
   "source": [
    "Is the new point a vertex (basic feasible solution)?"
   ]
  },
  {
   "cell_type": "code",
   "execution_count": 15,
   "metadata": {},
   "outputs": [
    {
     "name": "stdout",
     "output_type": "stream",
     "text": [
      "[[1 1 0]\n",
      " [1 0 0]\n",
      " [0 0 1]]\n",
      "[[1 0]\n",
      " [0 1]\n",
      " [1 0]]\n",
      "75.0\n",
      "[ 1.  0. -1. -1. -0.]\n",
      "[ 75.  75. 125.]\n"
     ]
    }
   ],
   "source": [
    "print(B)\n",
    "\n",
    "print(N)\n",
    "\n",
    "print(alpha)\n",
    "\n",
    "print(p)\n",
    "\n",
    "print(np.linalg.solve(B,b))\n",
    "# new solution is a new vertex\n"
   ]
  },
  {
   "cell_type": "markdown",
   "metadata": {},
   "source": [
    "### Go to Step 1 and repeat"
   ]
  },
  {
   "cell_type": "code",
   "execution_count": null,
   "metadata": {},
   "outputs": [],
   "source": [
    "# Add here the code to make another iteration\n",
    "\n"
   ]
  }
 ],
 "metadata": {
  "kernelspec": {
   "display_name": "Python 3 (ipykernel)",
   "language": "python",
   "name": "python3"
  },
  "language_info": {
   "codemirror_mode": {
    "name": "ipython",
    "version": 3
   },
   "file_extension": ".py",
   "mimetype": "text/x-python",
   "name": "python",
   "nbconvert_exporter": "python",
   "pygments_lexer": "ipython3",
   "version": "3.9.12"
  }
 },
 "nbformat": 4,
 "nbformat_minor": 2
}
