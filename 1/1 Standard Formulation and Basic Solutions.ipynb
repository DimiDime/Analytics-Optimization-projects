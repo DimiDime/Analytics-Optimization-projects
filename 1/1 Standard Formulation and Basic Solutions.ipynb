{
 "cells": [
  {
   "cell_type": "markdown",
   "metadata": {},
   "source": [
    "![uc3m](img/uc3m.jpg)"
   ]
  },
  {
   "cell_type": "markdown",
   "metadata": {},
   "source": [
    "# Standard formulations and basic solutions\n",
    "\n",
    "<a href=\"http://www.est.uc3m.es/nogales\" target=\"_blank\">Javier Nogales</a>"
   ]
  },
  {
   "cell_type": "markdown",
   "metadata": {},
   "source": [
    "Consider the Airline Revenue Management example (from slides)\n",
    "\n",
    "![](img/RM_matrix.png)"
   ]
  },
  {
   "cell_type": "markdown",
   "metadata": {},
   "source": [
    "## Solving linear systems in Python\n",
    "\n",
    "In the example, we are going to obtain two more feasible basic solutions, S9 and S10 "
   ]
  },
  {
   "cell_type": "code",
   "execution_count": 3,
   "metadata": {},
   "outputs": [
    {
     "name": "stdout",
     "output_type": "stream",
     "text": [
      "[150.  75. 125.]\n",
      "[125.  75.  25.]\n"
     ]
    }
   ],
   "source": [
    "#      1 1 1 0 0\n",
    "#A = ( 1 0 0 1 0 )\n",
    "#      0 1 0 0 1\n",
    "    \n",
    "import numpy as np\n",
    "\n",
    "# Basic solution corresponding to (x1, x4, x5)\n",
    "# 3 Dimentions\n",
    "B = np.array([[1, 0, 0], \n",
    "              [0, 1, 0], \n",
    "              [0, 0, 1]])\n",
    "\n",
    "b = np.array([150, 75, 125])\n",
    "\n",
    "x_B = np.linalg.solve(B,b) #Solve B * X = b\n",
    "print(x_B)\n",
    "\n",
    "# Basic solution corresponding to (x2, x4, x5)\n",
    "B = np.array([[1, 0, 1], \n",
    "              [0, 1, 0], \n",
    "              [1, 0, 0]])\n",
    "b = np.array([150, 75, 125])\n",
    "x_B = np.linalg.solve(B,b)\n",
    "print(x_B)\n",
    "\n",
    "# When all values positive => CORNER"
   ]
  },
  {
   "cell_type": "markdown",
   "metadata": {},
   "source": [
    "Are they extreme points (feasible basic solutions)?"
   ]
  },
  {
   "cell_type": "markdown",
   "metadata": {},
   "source": [
    "## Standard Formulation with Pyomo\n",
    "\n",
    "We can use Pyomo to model problems with matrix format using Numpy arrays to enter the data\n",
    "\n",
    "The indices are represented by the Python range() statement.\n"
   ]
  },
  {
   "cell_type": "code",
   "execution_count": null,
   "metadata": {},
   "outputs": [],
   "source": [
    "from pyomo.environ import *\n",
    "import numpy as np\n",
    "\n",
    "A = np.array([[1,1,1,0,0],\n",
    "              [1,0,0,1,0],\n",
    "              [0,1,0,0,1]])\n",
    "\n",
    "b = np.array([150,75,125])\n",
    "\n",
    "c = np.array([-400,-150,0,0,0])\n",
    "\n",
    "# set of row indices\n",
    "I = range(len(A))\n",
    "\n",
    "# set of column indices\n",
    "J = range(len(A.T))\n",
    "\n",
    "# create a model instance\n",
    "model = ConcreteModel()\n",
    "\n",
    "# all the variables (original plus slacks)\n",
    "model.x = Var(J, domain=NonNegativeReals)\n",
    "\n",
    "# the objective\n",
    "model.objective = Objective(expr = sum(c[j]*model.x[j] for j in J), sense=minimize)\n",
    "\n",
    "# the constraints (added row by row)\n",
    "model.constraints = ConstraintList()\n",
    "for i in I:\n",
    "    model.constraints.add(sum(A[i,j]*model.x[j] for j in J) == b[i])\n",
    "\n",
    "# the solver\n",
    "solver = SolverFactory('glpk')\n",
    "\n",
    "solver.solve(model)\n",
    "\n",
    "# print solutions (in python indexes start from 0)\n",
    "for j in J:\n",
    "    print(\"x[\", j, \"] =\", model.x[j].value)\n",
    "\n",
    "model.constraints.display()\n",
    "\n",
    "model.objective()"
   ]
  },
  {
   "cell_type": "markdown",
   "metadata": {},
   "source": [
    "But remember in Pyomo there is no need to enter the problem in its standard formulation, we just need to enter the problem using the original formulation, which is easier and more natural to understand:"
   ]
  },
  {
   "cell_type": "code",
   "execution_count": null,
   "metadata": {},
   "outputs": [],
   "source": [
    "model = ConcreteModel()\n",
    "\n",
    "model.x = Var([1,2], domain=NonNegativeReals)\n",
    "model.obj = Objective(expr = 400*model.x[1]+150*model.x[2],sense = maximize)\n",
    "model.cons1 = Constraint(expr = model.x[1]+model.x[2]<=150)\n",
    "model.cons2 = Constraint(expr = model.x[1]<=75)\n",
    "model.cons3 = Constraint(expr = model.x[2]<=125)\n",
    "\n",
    "# obtain the solution \n",
    "Solver = SolverFactory('glpk')\n",
    "Results = Solver.solve(model)\n",
    "model.x.display()"
   ]
  },
  {
   "cell_type": "markdown",
   "metadata": {},
   "source": [
    "# The Simplex Algorithm using SciPy\n",
    "\n",
    "With SciPy, we can optimize a linear objective function subject to linear equality and inequality constraints of the following form:\n",
    "\n",
    "![](img/SciPy.png)"
   ]
  },
  {
   "cell_type": "code",
   "execution_count": null,
   "metadata": {},
   "outputs": [],
   "source": [
    "import numpy as np\n",
    "\n",
    "from scipy.optimize import linprog\n",
    "\n",
    "A = np.array([[1,1,1,0,0],\n",
    "              [1,0,0,1,0],\n",
    "              [0,1,0,0,1]])\n",
    "\n",
    "b = np.array([150,75,125])\n",
    "\n",
    "c = np.array([-400,-150,0,0,0])\n",
    "\n",
    "sol = linprog(c, A_eq=A, b_eq=b, bounds=(0, None))\n",
    "\n",
    "print('Optimal value:', sol.fun, '\\nX:', sol.x)\n",
    "\n"
   ]
  },
  {
   "cell_type": "markdown",
   "metadata": {},
   "source": [
    "Optimal solution: $(x_1,x_2)=(75,75)$\n",
    "\n",
    "Optimal value: 41250"
   ]
  }
 ],
 "metadata": {
  "kernelspec": {
   "display_name": "Python 3 (ipykernel)",
   "language": "python",
   "name": "python3"
  },
  "language_info": {
   "codemirror_mode": {
    "name": "ipython",
    "version": 3
   },
   "file_extension": ".py",
   "mimetype": "text/x-python",
   "name": "python",
   "nbconvert_exporter": "python",
   "pygments_lexer": "ipython3",
   "version": "3.9.12"
  }
 },
 "nbformat": 4,
 "nbformat_minor": 2
}
