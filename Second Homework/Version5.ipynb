{
 "cells": [
  {
   "cell_type": "code",
   "execution_count": 2,
   "metadata": {},
   "outputs": [],
   "source": [
    "from pyomo.environ import *\n",
    "import numpy as pd\n",
    "import pandas as pd \n",
    "import numpy as np "
   ]
  },
  {
   "cell_type": "code",
   "execution_count": 3,
   "metadata": {},
   "outputs": [],
   "source": [
    "# Load the arcs data from the excel sheet\n",
    "List_arcs = pd.read_excel('dt2.xlsx', sheet_name=\"Arcs\", index_col=False)\n",
    "\n",
    "# Load the commodities data from the excel sheet\n",
    "n_commodities = pd.read_excel('dt2.xlsx', sheet_name=\"Commodities\", index_col=False)"
   ]
  },
  {
   "cell_type": "code",
   "execution_count": 4,
   "metadata": {},
   "outputs": [
    {
     "ename": "NameError",
     "evalue": "name 'n_commodities' is not defined",
     "output_type": "error",
     "traceback": [
      "\u001b[1;31m---------------------------------------------------------------------------\u001b[0m",
      "\u001b[1;31mNameError\u001b[0m                                 Traceback (most recent call last)",
      "Cell \u001b[1;32mIn [4], line 7\u001b[0m\n\u001b[0;32m      5\u001b[0m n_nodes \u001b[39m=\u001b[39m Set(initialize\u001b[39m=\u001b[39m[\u001b[39m'\u001b[39m\u001b[39m1\u001b[39m\u001b[39m'\u001b[39m, \u001b[39m'\u001b[39m\u001b[39m2\u001b[39m\u001b[39m'\u001b[39m, \u001b[39m'\u001b[39m\u001b[39m3\u001b[39m\u001b[39m'\u001b[39m, \u001b[39m'\u001b[39m\u001b[39m4\u001b[39m\u001b[39m'\u001b[39m, \u001b[39m'\u001b[39m\u001b[39m5\u001b[39m\u001b[39m'\u001b[39m, \u001b[39m'\u001b[39m\u001b[39m6\u001b[39m\u001b[39m'\u001b[39m, \u001b[39m'\u001b[39m\u001b[39m7\u001b[39m\u001b[39m'\u001b[39m, \u001b[39m'\u001b[39m\u001b[39m8\u001b[39m\u001b[39m'\u001b[39m])\n\u001b[0;32m      6\u001b[0m \u001b[39m# Define the decision variables for the problem\u001b[39;00m\n\u001b[1;32m----> 7\u001b[0m model\u001b[39m.\u001b[39mx \u001b[39m=\u001b[39m Var(\u001b[39mrange\u001b[39m(n_commodities), \u001b[39mrange\u001b[39m(n_nodes), \u001b[39mrange\u001b[39m(n_nodes), within\u001b[39m=\u001b[39mNonNegativeReals)\n\u001b[0;32m      9\u001b[0m \u001b[39m# Define the cost parameter for the problem\u001b[39;00m\n\u001b[0;32m     10\u001b[0m model\u001b[39m.\u001b[39mcost \u001b[39m=\u001b[39m Param(\u001b[39mrange\u001b[39m(n_commodities), \u001b[39mrange\u001b[39m(n_nodes), \u001b[39mrange\u001b[39m(n_nodes), initialize\u001b[39m=\u001b[39mcost)\n",
      "\u001b[1;31mNameError\u001b[0m: name 'n_commodities' is not defined"
     ]
    }
   ],
   "source": [
    "# Create a Pyomo model\n",
    "model = ConcreteModel()\n",
    "\n",
    "# Define a set of nodes\n",
    "n_nodes = Set(initialize=['1', '2', '3', '4', '5', '6', '7', '8'])\n",
    "# Define the decision variables for the problem\n",
    "model.x = Var(range(n_commodities), range(n_nodes), range(n_nodes), within=NonNegativeReals)\n",
    "\n",
    "# Define the cost parameter for the problem\n",
    "model.cost = Param(range(n_commodities), range(n_nodes), range(n_nodes), initialize=cost)\n",
    "\n",
    "# Define the capacity parameter for the problem\n",
    "model.capac = Param(range(n_commodities), range(n_nodes), range(n_nodes), initialize=capac)\n",
    "\n",
    "# Define the supply parameter for the problem\n",
    "model.supply = Param(range(n_commodities), range(n_nodes), initialize=supply)\n",
    "\n",
    "# Define the demand parameter for the problem\n",
    "model.demand = Param(range(n_commodities), range(n_nodes), initialize=demand)\n",
    "\n",
    "# Define the objective function for the problem\n",
    "def objective_rule(model):\n",
    "    return sum(model.cost[i,j,k]*model.x[i,j,k] for i in range(n_commodities) for j in range(n_nodes) for k in range(n_nodes))\n",
    "\n",
    "model.objective = Objective(rule=objective_rule, sense=minimize)\n",
    "\n",
    "# Define the capacity constraints for the problem\n",
    "def capac_rule(model, i, j, k):\n",
    "    return model.x[i,j,k] <= model.capac[i,j,k]\n",
    "\n",
    "model.capac_constraint = Constraint(range(n_commodities), range(n_nodes), range(n_nodes), rule=capac_rule)\n",
    "\n",
    "# Define the supply constraints for the problem\n",
    "def supply_rule(model, i, j):\n",
    "    return sum(model.x[i,j,k] for k in range(n_nodes)) == model.supply[i,j]\n",
    "\n",
    "model.supply_constraint = Constraint(range(n_commodities), range(n_nodes), rule=supply_rule)\n",
    "\n",
    "# Define the demand constraints for the problem\n",
    "def demand_rule(model, i, j):\n",
    "    return sum(model.x[i,k,j] for k in range(n_nodes)) == model.demand[i,j]\n",
    "\n",
    "model.demand_constraint = Constraint(range(n_commodities), range(n_nodes), rule=demand_rule)\n",
    "\n",
    "# Solve the problem using a solver\n",
    "solver = SolverFactory('glpk')\n",
    "results = solver.solve(model)\n",
    "\n",
    "# Print the optimal solution\n",
    "print(results)\n"
   ]
  },
  {
   "cell_type": "code",
   "execution_count": null,
   "metadata": {},
   "outputs": [],
   "source": [
    "print(model.objective())\n",
    "\n",
    "for i in range(n_commodities):\n",
    "    for j in range(n_nodes):\n",
    "        for k in range(n_nodes):\n",
    "            print(f'x[{i},{j},{k}] = {model.x[i,j,k].value}')\n"
   ]
  }
 ],
 "metadata": {
  "kernelspec": {
   "display_name": "Python 3.10.6 64-bit",
   "language": "python",
   "name": "python3"
  },
  "language_info": {
   "codemirror_mode": {
    "name": "ipython",
    "version": 3
   },
   "file_extension": ".py",
   "mimetype": "text/x-python",
   "name": "python",
   "nbconvert_exporter": "python",
   "pygments_lexer": "ipython3",
   "version": "3.10.6"
  },
  "orig_nbformat": 4,
  "vscode": {
   "interpreter": {
    "hash": "369f2c481f4da34e4445cda3fffd2e751bd1c4d706f27375911949ba6bb62e1c"
   }
  }
 },
 "nbformat": 4,
 "nbformat_minor": 2
}
