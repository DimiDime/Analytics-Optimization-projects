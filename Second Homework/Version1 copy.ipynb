{
 "cells": [
  {
   "cell_type": "markdown",
   "metadata": {},
   "source": [
    "# Second Homework: Network Optimization and Non-linear Models (Topics 2, 3)"
   ]
  },
  {
   "cell_type": "markdown",
   "metadata": {},
   "source": [
    "## 1. Network optimization \n",
    "One optimization model with discrete variables and a network structure.\n",
    "\n",
    " (5 points) Formulate the network optimization problem as a discrete model (Topic 2), identifying\n",
    "mathematically the variables and constraints associated with the network. Solve and interpret the\n",
    "solution."
   ]
  },
  {
   "cell_type": "markdown",
   "metadata": {},
   "source": [
    "# Operation Barbarossa and the mercenaries\n",
    "(Imaginative scenario)\n",
    "\n",
    "On 22 June 1941, Germany began a major attack on the Soviet Union, the communist state that consisted of Russia and a number of neighbouring countries. During the first nine months of the advance, one million German soldiers were killed and many we wounded. \n",
    "\n",
    "After the significant advance of the German troops on the east front and the successful capture of Stalingrad, ... , the army started to run out of competent soldiers to hold a tight grip of its position. Due to the significant casulties to its army and the upcoming wave of soviet units the Wehrmacht had no choice but to pay mercenaries from other countries to help reinforce its positions on the cold eastern front.\n",
    "\n",
    "\n",
    "<img src=\"soldier-types.jpg\" alt=\"Drawing\" style=\"width: 500px;\"/>"
   ]
  },
  {
   "cell_type": "markdown",
   "metadata": {},
   "source": [
    "To decide what the unit needs the german leaders have given a list with possible mercenaries that they can organise and send as a back up to the main General of the Unit. The list includes the type of soldiers with the corresponding price, ability score based on multiple individual characteristics of the soldier type, and the amount they can get for that price.\n",
    "\n",
    "\n",
    "\n",
    "costs per type of soldier\n",
    "Origin - Rest - Destination\n",
    "\n",
    "Loosing the war, least amount of costs\n",
    "SEC 7.3 book"
   ]
  },
  {
   "cell_type": "code",
   "execution_count": 7,
   "metadata": {},
   "outputs": [
    {
     "data": {
      "text/html": [
       "<div>\n",
       "<style scoped>\n",
       "    .dataframe tbody tr th:only-of-type {\n",
       "        vertical-align: middle;\n",
       "    }\n",
       "\n",
       "    .dataframe tbody tr th {\n",
       "        vertical-align: top;\n",
       "    }\n",
       "\n",
       "    .dataframe thead th {\n",
       "        text-align: right;\n",
       "    }\n",
       "</style>\n",
       "<table border=\"1\" class=\"dataframe\">\n",
       "  <thead>\n",
       "    <tr style=\"text-align: right;\">\n",
       "      <th></th>\n",
       "      <th>Type</th>\n",
       "      <th>Medic</th>\n",
       "      <th>Engineer</th>\n",
       "      <th>Infantry</th>\n",
       "      <th>Commando</th>\n",
       "      <th>Ranger</th>\n",
       "      <th>Sniper</th>\n",
       "    </tr>\n",
       "  </thead>\n",
       "  <tbody>\n",
       "    <tr>\n",
       "      <th>0</th>\n",
       "      <td>Ability Score</td>\n",
       "      <td>50.00</td>\n",
       "      <td>50.00</td>\n",
       "      <td>60.00</td>\n",
       "      <td>70.00</td>\n",
       "      <td>80.00</td>\n",
       "      <td>90.00</td>\n",
       "    </tr>\n",
       "    <tr>\n",
       "      <th>1</th>\n",
       "      <td>Amount</td>\n",
       "      <td>800</td>\n",
       "      <td>100</td>\n",
       "      <td>10000</td>\n",
       "      <td>5000</td>\n",
       "      <td>4000</td>\n",
       "      <td>1000</td>\n",
       "    </tr>\n",
       "    <tr>\n",
       "      <th>2</th>\n",
       "      <td>Costs</td>\n",
       "      <td>10,000.00</td>\n",
       "      <td>10,000.00</td>\n",
       "      <td>50,000.00</td>\n",
       "      <td>60,000.00</td>\n",
       "      <td>75,000.00</td>\n",
       "      <td>90,000.00</td>\n",
       "    </tr>\n",
       "  </tbody>\n",
       "</table>\n",
       "</div>"
      ],
      "text/plain": [
       "            Type        Medic     Engineer     Infantry     Commando  \\\n",
       "0  Ability Score        50.00        50.00        60.00        70.00   \n",
       "1         Amount          800          100        10000         5000   \n",
       "2          Costs   10,000.00    10,000.00    50,000.00    60,000.00    \n",
       "\n",
       "        Ranger       Sniper  \n",
       "0        80.00        90.00  \n",
       "1         4000         1000  \n",
       "2   75,000.00    90,000.00   "
      ]
     },
     "execution_count": 7,
     "metadata": {},
     "output_type": "execute_result"
    }
   ],
   "source": [
    "import pandas as pd\n",
    "mydata = pd.read_csv('ptoposal_table.csv')\n",
    "mydata"
   ]
  },
  {
   "cell_type": "markdown",
   "metadata": {},
   "source": [
    "The government has given a budget of 1.000.000,00 DMARK for reinforcements.\n",
    "\n",
    "The general quickly needs a minimum amount of:\n",
    "- 100 Medics\n",
    "- 50 Engineers\n",
    "- 60.000 Infantry soldiers\n",
    "- 20.000 Commando\n",
    "- 2.000 Snipers\n",
    "\n",
    "How many soldiers of each type can the general request in order to maximize the total ability score of his unit???"
   ]
  },
  {
   "cell_type": "markdown",
   "metadata": {},
   "source": [
    "## Mathematical Formulation"
   ]
  },
  {
   "cell_type": "markdown",
   "metadata": {},
   "source": [
    "$ \\huge x + y \\leq 1 $\n",
    "\n",
    "$ \\huge \\sum_{i=1}^{N}c_{ij}·x_{ij} $\n",
    "\n",
    "book 367"
   ]
  },
  {
   "cell_type": "code",
   "execution_count": 1,
   "metadata": {},
   "outputs": [],
   "source": [
    "#Imports\n",
    "from pyomo.opt import SolverFactory\n",
    "import sys\n",
    "import pyomo.environ as pyo\n",
    "\n",
    "solvername='glpk'\n",
    "solverpath_folder='C:\\\\w64'\n",
    "solverpath_exe='C:\\\\w64\\\\glpsol'\n",
    "\n",
    "sys.path.append(solverpath_folder)\n",
    "solver=SolverFactory(solvername, executable=solverpath_exe)"
   ]
  },
  {
   "cell_type": "code",
   "execution_count": null,
   "metadata": {},
   "outputs": [],
   "source": [
    "from pyomo.environ import *\n",
    "\n",
    "model = ConcreteModel()\n",
    "\n",
    "# variables\n",
    "\n",
    "\n",
    "# objective function\n",
    "#model.OBJ = Objective()\n",
    "\n",
    "# constraints\n"
   ]
  },
  {
   "cell_type": "markdown",
   "metadata": {},
   "source": [
    "## 2. Non-linear optimization\n",
    "One model with a non-linear objective and at least one non-trivial\n",
    "constraint (linear or non-linear).\n",
    "\n",
    "(5 points) Formulate (mathematically) and solve a non-linear optimization problem based on real\n",
    "(or realistic) world data. Interpret the solution."
   ]
  },
  {
   "cell_type": "markdown",
   "metadata": {},
   "source": []
  }
 ],
 "metadata": {
  "kernelspec": {
   "display_name": "Python 3.10.6 64-bit",
   "language": "python",
   "name": "python3"
  },
  "language_info": {
   "codemirror_mode": {
    "name": "ipython",
    "version": 3
   },
   "file_extension": ".py",
   "mimetype": "text/x-python",
   "name": "python",
   "nbconvert_exporter": "python",
   "pygments_lexer": "ipython3",
   "version": "3.10.6"
  },
  "orig_nbformat": 4,
  "vscode": {
   "interpreter": {
    "hash": "369f2c481f4da34e4445cda3fffd2e751bd1c4d706f27375911949ba6bb62e1c"
   }
  }
 },
 "nbformat": 4,
 "nbformat_minor": 2
}
