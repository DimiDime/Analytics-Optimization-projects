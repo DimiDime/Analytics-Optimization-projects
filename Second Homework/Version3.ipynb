{
 "cells": [
  {
   "cell_type": "code",
   "execution_count": 1,
   "metadata": {},
   "outputs": [],
   "source": [
    "import gurobipy as gp\n",
    "from gurobipy import GRB, quicksum\n",
    "from openpyxl import load_workbook\n",
    "import pandas as pd"
   ]
  },
  {
   "cell_type": "code",
   "execution_count": 9,
   "metadata": {},
   "outputs": [],
   "source": [
    "# Reading input\n",
    "if __name__ == '__main__':\n",
    "  # Load file\n",
    " List_arcs = pd.read_excel('dt2.xlsx', sheet_name = \"Arcs\", index_col=False)\n",
    " List_commo = pd.read_excel('dt2.xlsx', sheet_name = \"Commodities\", index_col=False)\n",
    "\n",
    "# Defining objects with corresponding features\n",
    "class Arc:\n",
    " def __init__(self,origin,destination,cost, capacity):\n",
    "  self.From = origin\n",
    "  self.To = destination\n",
    "  self.Cost = cost\n",
    "  self.Capac = capacity\n",
    "\n",
    "Arcs = []\n",
    "for _ , row in List_arcs.iterrows():\n",
    "  new_arc = Arc(row[\"From\"], row[\"To\"], row[\"Cost\"], row[\"Capac\"])\n",
    "  Arcs.append(new_arc)\n",
    "\n",
    "class Commodity:\n",
    " def __init__(self,origin,destination, quantity):\n",
    "  self.From = origin\n",
    "  self.To = destination\n",
    "  self.Quant = quantity\n",
    "  \n",
    "Commodities=[]\n",
    "for _ , row in List_commo.iterrows():\n",
    "  new_commo = Commodity(row[\"From\"], row[\"To\"], row[\"Quant\"])\n",
    "  Commodities.append(new_commo)\n",
    "\n",
    "class Node:\n",
    " def __init__(self, outlinks, inlinks):\n",
    "  # Arcs that get in and out of the node\n",
    "  self.OutLinks = outlinks# Relationship between new arc and info about in/out-links of node\n",
    "  self.InLinks = inlinks\n",
    "  def addOutLink(self,Node):\n",
    "   self.OutLinks.appends(Node)\n",
    "  def addInLink(self,Node):\n",
    "   self.InLinks.append(Node)\n"
   ]
  },
  {
   "cell_type": "code",
   "execution_count": 18,
   "metadata": {},
   "outputs": [],
   "source": [
    "# Define the nodes in the network\n",
    "Nodes = [\n",
    "    #1\n",
    "    Node(outlinks=[3, 4], inlinks=[]),\n",
    "    #2\n",
    "    Node(outlinks=[3, 4], inlinks=[]),\n",
    "    #3\n",
    "    Node(outlinks=[3, 4], inlinks=[]),\n",
    "    #4\n",
    "    Node(outlinks=[5, 6, 7], inlinks=[0, 1, 2]),\n",
    "    #5\n",
    "    Node(outlinks=[5, 6, 7], inlinks=[0, 1, 2]),\n",
    "    #6\n",
    "    Node(outlinks = [],inlinks=[3,4]),\n",
    "    #7\n",
    "    Node(outlinks = [],inlinks=[3,4]),\n",
    "    #8\n",
    "    Node(outlinks = [],inlinks=[3,4])\n",
    "]\n"
   ]
  },
  {
   "cell_type": "code",
   "execution_count": 19,
   "metadata": {},
   "outputs": [],
   "source": [
    "# Initialize the objective function\n",
    "objective = 0\n",
    "x={}\n",
    "# Loop over each arc and commodity\n",
    "for m in range(len(Arcs)):\n",
    "    for k in range(len(Commodities)):\n",
    "        x[k, Arcs[m].From, Arcs[m].To] = 0\n",
    "        # Multiply the quantity of the commodity by the cost of the arc\n",
    "        # and add this to the objective function\n",
    "        objective += Commodities[k].Quant * Arcs[m].Cost * x[k, Arcs[m].From, Arcs[m].To]\n",
    "\n",
    "# Set the objective function to be minimized\n",
    "#model.setObjective(objective, GRB.MINIMIZE)"
   ]
  },
  {
   "cell_type": "code",
   "execution_count": 20,
   "metadata": {},
   "outputs": [],
   "source": [
    "model = gp.Model( \"Model Minimize Cost\")\n",
    "# Loop over each arc\n",
    "for m in range(len(Arcs)):\n",
    "    # Create a constraint object to enforce the capacity constraint\n",
    "    c = model.addConstr(\n",
    "        # Sum up the flow of all commodities through the arc\n",
    "        quicksum(x[k, Arcs[m].From, Arcs[m].To] for k in range(len(Commodities))),\n",
    "        # Constrain the total flow to be less than or equal to the capacity of the arc\n",
    "        \"<=\",\n",
    "        Arcs[m].Capac,\n",
    "        # Give the constraint a descriptive name\n",
    "        name=\"Capacity: (%d)\" % (m)\n",
    "    )"
   ]
  },
  {
   "cell_type": "code",
   "execution_count": 23,
   "metadata": {},
   "outputs": [
    {
     "ename": "KeyError",
     "evalue": "(4, 3, 0)",
     "output_type": "error",
     "traceback": [
      "\u001b[1;31m---------------------------------------------------------------------------\u001b[0m",
      "\u001b[1;31mKeyError\u001b[0m                                  Traceback (most recent call last)",
      "Cell \u001b[1;32mIn [23], line 12\u001b[0m\n\u001b[0;32m      6\u001b[0m \u001b[39mfor\u001b[39;00m j \u001b[39min\u001b[39;00m \u001b[39mrange\u001b[39m(\u001b[39mlen\u001b[39m(Nodes)):\n\u001b[0;32m      7\u001b[0m     \u001b[39m# If the node is the origin of the commodity, set the constraint to ensure that the total flow into the node equals the quantity of the commodity generated at the node\u001b[39;00m\n\u001b[0;32m      8\u001b[0m     \u001b[39mif\u001b[39;00m j \u001b[39m==\u001b[39m Commodities[k]\u001b[39m.\u001b[39mFrom:\n\u001b[0;32m      9\u001b[0m         \u001b[39m# Create a constraint object to enforce the flow continuity constraint\u001b[39;00m\n\u001b[0;32m     10\u001b[0m         c \u001b[39m=\u001b[39m model\u001b[39m.\u001b[39maddConstr(\n\u001b[0;32m     11\u001b[0m             \u001b[39m# Sum up the flow of the commodity into the node from all incoming arcs\u001b[39;00m\n\u001b[1;32m---> 12\u001b[0m             quicksum(x[k, j, p] \u001b[39mfor\u001b[39;49;00m p \u001b[39min\u001b[39;49;00m Nodes[j]\u001b[39m.\u001b[39;49mInLinks),\n\u001b[0;32m     13\u001b[0m             \u001b[39m# Constrain the total flow to equal the quantity of the commodity generated at the node\u001b[39;00m\n\u001b[0;32m     14\u001b[0m             \u001b[39m\"\u001b[39m\u001b[39m=\u001b[39m\u001b[39m\"\u001b[39m,\n\u001b[0;32m     15\u001b[0m             Commodities[k]\u001b[39m.\u001b[39mQuant,\n\u001b[0;32m     16\u001b[0m             \u001b[39m# Give the constraint a descriptive name\u001b[39;00m\n\u001b[0;32m     17\u001b[0m             name\u001b[39m=\u001b[39m\u001b[39m\"\u001b[39m\u001b[39mFlow continuity: (\u001b[39m\u001b[39m%d\u001b[39;00m\u001b[39m, \u001b[39m\u001b[39m%d\u001b[39;00m\u001b[39m)\u001b[39m\u001b[39m\"\u001b[39m \u001b[39m%\u001b[39m (k, j)\n\u001b[0;32m     18\u001b[0m         )\n\u001b[0;32m     19\u001b[0m         \u001b[39m# Add the constraint to the list of flow continuity constraints\u001b[39;00m\n\u001b[0;32m     20\u001b[0m         continuity\u001b[39m.\u001b[39mappend(c)\n",
      "File \u001b[1;32msrc\\gurobipy\\gurobi.pxi:3631\u001b[0m, in \u001b[0;36mgurobipy.quicksum\u001b[1;34m()\u001b[0m\n",
      "Cell \u001b[1;32mIn [23], line 12\u001b[0m, in \u001b[0;36m<genexpr>\u001b[1;34m(.0)\u001b[0m\n\u001b[0;32m      6\u001b[0m \u001b[39mfor\u001b[39;00m j \u001b[39min\u001b[39;00m \u001b[39mrange\u001b[39m(\u001b[39mlen\u001b[39m(Nodes)):\n\u001b[0;32m      7\u001b[0m     \u001b[39m# If the node is the origin of the commodity, set the constraint to ensure that the total flow into the node equals the quantity of the commodity generated at the node\u001b[39;00m\n\u001b[0;32m      8\u001b[0m     \u001b[39mif\u001b[39;00m j \u001b[39m==\u001b[39m Commodities[k]\u001b[39m.\u001b[39mFrom:\n\u001b[0;32m      9\u001b[0m         \u001b[39m# Create a constraint object to enforce the flow continuity constraint\u001b[39;00m\n\u001b[0;32m     10\u001b[0m         c \u001b[39m=\u001b[39m model\u001b[39m.\u001b[39maddConstr(\n\u001b[0;32m     11\u001b[0m             \u001b[39m# Sum up the flow of the commodity into the node from all incoming arcs\u001b[39;00m\n\u001b[1;32m---> 12\u001b[0m             quicksum(x[k, j, p] \u001b[39mfor\u001b[39;00m p \u001b[39min\u001b[39;00m Nodes[j]\u001b[39m.\u001b[39mInLinks),\n\u001b[0;32m     13\u001b[0m             \u001b[39m# Constrain the total flow to equal the quantity of the commodity generated at the node\u001b[39;00m\n\u001b[0;32m     14\u001b[0m             \u001b[39m\"\u001b[39m\u001b[39m=\u001b[39m\u001b[39m\"\u001b[39m,\n\u001b[0;32m     15\u001b[0m             Commodities[k]\u001b[39m.\u001b[39mQuant,\n\u001b[0;32m     16\u001b[0m             \u001b[39m# Give the constraint a descriptive name\u001b[39;00m\n\u001b[0;32m     17\u001b[0m             name\u001b[39m=\u001b[39m\u001b[39m\"\u001b[39m\u001b[39mFlow continuity: (\u001b[39m\u001b[39m%d\u001b[39;00m\u001b[39m, \u001b[39m\u001b[39m%d\u001b[39;00m\u001b[39m)\u001b[39m\u001b[39m\"\u001b[39m \u001b[39m%\u001b[39m (k, j)\n\u001b[0;32m     18\u001b[0m         )\n\u001b[0;32m     19\u001b[0m         \u001b[39m# Add the constraint to the list of flow continuity constraints\u001b[39;00m\n\u001b[0;32m     20\u001b[0m         continuity\u001b[39m.\u001b[39mappend(c)\n",
      "\u001b[1;31mKeyError\u001b[0m: (4, 3, 0)"
     ]
    }
   ],
   "source": [
    "# Create a list to store the flow continuity constraints\n",
    "continuity = []\n",
    "\n",
    "# Loop over each commodity and node\n",
    "for k in range(len(Commodities)):\n",
    "    for j in range(len(Nodes)):\n",
    "        # If the node is the origin of the commodity, set the constraint to ensure that the total flow into the node equals the quantity of the commodity generated at the node\n",
    "        if j == Commodities[k].From:\n",
    "            # Create a constraint object to enforce the flow continuity constraint\n",
    "            c = model.addConstr(\n",
    "                # Sum up the flow of the commodity into the node from all incoming arcs\n",
    "                quicksum(x[k, j, p] for p in Nodes[j].InLinks),\n",
    "                # Constrain the total flow to equal the quantity of the commodity generated at the node\n",
    "                \"=\",\n",
    "                Commodities[k].Quant,\n",
    "                # Give the constraint a descriptive name\n",
    "                name=\"Flow continuity: (%d, %d)\" % (k, j)\n",
    "            )\n",
    "            # Add the constraint to the list of flow continuity constraints\n",
    "            continuity.append(c)\n",
    "\n",
    "        # If the node is the destination of the commodity, set the constraint to ensure that the total flow out of the node equals the demand for the commodity at the node\n",
    "        elif j == Commodities[k].To:\n",
    "            # Create a constraint object to enforce the flow continuity constraint\n",
    "            c = model.addConstr(\n",
    "                # Sum up the flow of the commodity out of the node to all outgoing arcs\n",
    "                quicksum(x[k, j, p] for p in Nodes[j].OutLinks),\n",
    "                # Constrain the total flow to equal the demand for the commodity at the node\n",
    "                \"=\",\n",
    "                -Commodities[k].Quant,\n",
    "                # Give the constraint a descriptive name\n",
    "                name=\"Flow continuity: (%d, %d)\" % (k, j)\n",
    "            )\n",
    "            # Add the constraint to the list of flow continuity constraints\n",
    "            continuity.append(c)\n",
    "                    # If the node is a transit node, set the constraint to ensure that the total flow into the node equals the total flow out of the node\n",
    "        # else:\n",
    "        #     if 0 in x:\n",
    "        #         # Key 0 is defined, so we can safely access the value\n",
    "        #         value = x[0]\n",
    "        #     else:\n",
    "        #         # Key 0 is not defined, so we can't access the value\n",
    "        #         value = None\n",
    "        #     # Create a constraint object to enforce the flow continuity constraint\n",
    "        #     c = model.addConstr(\n",
    "        #         # Sum up the flow of the commodity into the node from all incoming arcs\n",
    "        #         quicksum(x[k, j, p] for p in Nodes[j].InLinks),\n",
    "        #         # Constrain the total flow into the node to equal the total flow out of the node\n",
    "        #         \"=\",\n",
    "        #         # Sum up the flow of the commodity out of the node to all outgoing arcs\n",
    "        #         quicksum(x[k, j, p] for p in Nodes[j].OutLinks),\n",
    "        #         # Give the constraint a descriptive name\n",
    "        #         name=\"Flow continuity: (%d, %d)\" % (k, j)\n",
    "        #     )\n",
    "        #     # Add the constraint to the list of flow continuity constraints\n",
    "        #     continuity.append(c)\n"
   ]
  },
  {
   "cell_type": "code",
   "execution_count": null,
   "metadata": {},
   "outputs": [],
   "source": []
  }
 ],
 "metadata": {
  "kernelspec": {
   "display_name": "Python 3.10.6 64-bit",
   "language": "python",
   "name": "python3"
  },
  "language_info": {
   "codemirror_mode": {
    "name": "ipython",
    "version": 3
   },
   "file_extension": ".py",
   "mimetype": "text/x-python",
   "name": "python",
   "nbconvert_exporter": "python",
   "pygments_lexer": "ipython3",
   "version": "3.10.6"
  },
  "orig_nbformat": 4,
  "vscode": {
   "interpreter": {
    "hash": "369f2c481f4da34e4445cda3fffd2e751bd1c4d706f27375911949ba6bb62e1c"
   }
  }
 },
 "nbformat": 4,
 "nbformat_minor": 2
}
