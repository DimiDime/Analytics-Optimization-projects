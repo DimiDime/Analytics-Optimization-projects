{
 "cells": [
  {
   "cell_type": "code",
   "execution_count": 1,
   "metadata": {},
   "outputs": [],
   "source": [
    "import numpy as np\n",
    "\n",
    "# Arcs\n",
    "start_nodes = [ 0, 0, 1, 1, 2, 2, 3, 3, 3, 4, 4, 4]\n",
    "end_nodes   = [ 3, 4, 3, 4, 3, 4, 5, 6, 7, 5, 6, 7]\n",
    "capacities  = [10, 20, 30, 40, 50, 60, 70, 80, 50, 20, 30, 40]\n",
    "trans_costs  = [ 1, 2, 1.5, 1, 2.5, 1, 3, 4, 5, 4.5, 3.5, 4]\n",
    "\n",
    "# Commodities\n",
    "start_node = [1, 1, 2, 2, 3, 3]\n",
    "# \n",
    "end_note = [7, 8, 6, 7, 8, 6]\n",
    "# Quantity\n",
    "supplies = [100, 120, 115, 140, 130, 100, 135]"
   ]
  },
  {
   "cell_type": "code",
   "execution_count": 2,
   "metadata": {},
   "outputs": [
    {
     "ename": "IndexError",
     "evalue": "index 7 is out of bounds for axis 0 with size 7",
     "output_type": "error",
     "traceback": [
      "\u001b[1;31m---------------------------------------------------------------------------\u001b[0m",
      "\u001b[1;31mIndexError\u001b[0m                                Traceback (most recent call last)",
      "Cell \u001b[1;32mIn [2], line 19\u001b[0m\n\u001b[0;32m     16\u001b[0m         A[i[\u001b[39m1\u001b[39m]][count] \u001b[39m=\u001b[39m \u001b[39m-\u001b[39m\u001b[39m1\u001b[39m\n\u001b[0;32m     17\u001b[0m         count\u001b[39m+\u001b[39m\u001b[39m=\u001b[39m\u001b[39m1\u001b[39m\n\u001b[1;32m---> 19\u001b[0m generateA (A,start_nodes,end_nodes)   \n\u001b[0;32m     20\u001b[0m c\u001b[39m=\u001b[39mnp\u001b[39m.\u001b[39marray(trans_costs)\n\u001b[0;32m     21\u001b[0m \u001b[39mprint\u001b[39m(c)\n",
      "Cell \u001b[1;32mIn [2], line 16\u001b[0m, in \u001b[0;36mgenerateA\u001b[1;34m(A, start_nodes, end_nodes)\u001b[0m\n\u001b[0;32m     14\u001b[0m \u001b[39mfor\u001b[39;00m i \u001b[39min\u001b[39;00m \u001b[39mzip\u001b[39m(start_nodes,end_nodes):\n\u001b[0;32m     15\u001b[0m     A[i[\u001b[39m0\u001b[39m]][count] \u001b[39m=\u001b[39m \u001b[39m1\u001b[39m\n\u001b[1;32m---> 16\u001b[0m     A[i[\u001b[39m1\u001b[39;49m]][count] \u001b[39m=\u001b[39m \u001b[39m-\u001b[39m\u001b[39m1\u001b[39m\n\u001b[0;32m     17\u001b[0m     count\u001b[39m+\u001b[39m\u001b[39m=\u001b[39m\u001b[39m1\u001b[39m\n",
      "\u001b[1;31mIndexError\u001b[0m: index 7 is out of bounds for axis 0 with size 7"
     ]
    }
   ],
   "source": [
    "# Incidence matrix (manual form)\n",
    "\n",
    "#              03 04 13 14 23 24 35 36 37 45 46 47\n",
    "#  A = np.array([[1, 1, 0, 0, 0, 0, 0, 0, 0, ], # 0\n",
    "#                [-1,0, 1, 1, 1, 0, 0, 0, 0, ], # 1\n",
    "#                [0,-1,-1, 0, 0, 1, 1, 0,-1, ], # 2 \n",
    "#                [0, 0, 0,-1, 0,-1, 0, 1, 0, ], # 3\n",
    "#                [0, 0, 0, 0,-1, 0,-1,-1, 1, ], # 4 \n",
    "#               ])\n",
    "\n",
    "A = np.zeros((len(supplies),len(start_nodes)))\n",
    "def generateA (A,start_nodes,end_nodes):\n",
    "    count = 0\n",
    "    for i in zip(start_nodes,end_nodes):\n",
    "        A[i[0]][count] = 1\n",
    "        A[i[1]][count] = -1\n",
    "        count+=1\n",
    "\n",
    "generateA (A,start_nodes,end_nodes)   \n",
    "c=np.array(trans_costs)\n",
    "print(c)\n",
    "b=np.array(supplies)\n",
    "print(b)"
   ]
  },
  {
   "cell_type": "code",
   "execution_count": null,
   "metadata": {},
   "outputs": [],
   "source": []
  }
 ],
 "metadata": {
  "kernelspec": {
   "display_name": "Python 3.10.6 64-bit",
   "language": "python",
   "name": "python3"
  },
  "language_info": {
   "codemirror_mode": {
    "name": "ipython",
    "version": 3
   },
   "file_extension": ".py",
   "mimetype": "text/x-python",
   "name": "python",
   "nbconvert_exporter": "python",
   "pygments_lexer": "ipython3",
   "version": "3.10.6"
  },
  "orig_nbformat": 4,
  "vscode": {
   "interpreter": {
    "hash": "369f2c481f4da34e4445cda3fffd2e751bd1c4d706f27375911949ba6bb62e1c"
   }
  }
 },
 "nbformat": 4,
 "nbformat_minor": 2
}
