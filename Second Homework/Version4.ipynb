{
 "cells": [
  {
   "cell_type": "markdown",
   "metadata": {},
   "source": [
    "# Operation Barbarossa\n",
    "(Imaginative scenario)\n",
    "\n",
    "On 22 June 1941, Germany began a major attack on the Soviet Union, the communist state that consisted of Russia and a number of neighbouring countries. During the first nine months of the advance, one million German soldiers were killed and many we wounded. \n",
    "\n",
    "<img src=\"operation-barbarossa.png\" alt=\"Drawing\" style=\"width: 650px;\"/>\n",
    "\n",
    "The German government is loosing a lot of money and needs the cheapest way of transporting its backup units for the occupation of Leningrad, Moscow and Stalingrad. For the transition points of the units there are two cities where the soldiers can regroup in Waschau and Budapest."
   ]
  },
  {
   "cell_type": "markdown",
   "metadata": {},
   "source": [
    "OUT: Berlin, Leipzig, Munich\n",
    "\n",
    "Transition: Warschau, Budapest\n",
    "\n",
    "IN: Leningrad, Moscow, Stalingrad"
   ]
  },
  {
   "cell_type": "markdown",
   "metadata": {},
   "source": [
    "# Mathematical definition\n",
    "- c- Costs\n",
    "- m- Arcs\n",
    "- x- Flows\n",
    "- k- Commodities\n",
    "- n- Nodes\n",
    "- Demand\n",
    "- Origin\n",
    "- Destination\n",
    "### Objective function:\n",
    "$$ minC = \\sum_{k\\epsilon K}^{} \\sum_{m\\epsilon L}^{} c_{m}^{k} \\times x_{m}^{k} $$\n",
    "\n",
    "### Set of Constraints:\n",
    "$$ \\sum_{m\\epsilon L_{i}^{out}}x_{m}^{k} - \\sum_{m\\epsilon L_{i}^{in}} x_{m}^{k} = Dem^{k} \\rightarrow i \\epsilon O(k) $$\n",
    "\n",
    "$$ \\sum_{m\\epsilon L_{i}^{out}}x_{m}^{k} - \\sum_{m\\epsilon L_{i}^{in}} x_{m}^{k} = -Dem^{k} \\rightarrow i \\epsilon D(k) $$\n",
    "\n",
    "$$ \\sum_{m\\epsilon L_{i}^{out}}x_{m}^{k} - \\sum_{m\\epsilon L_{i}^{in}} x_{m}^{k} = 0 \\rightarrow i \\epsilon N, k \\epsilon K $$\n",
    "\n",
    "### Capacity:\n",
    "$$ \\sum_{k \\epsilon K} x_{m}^{k} \\leq  Cap_{m} \\rightarrow m \\epsilon L $$\n",
    "\n",
    "$$ x_{m}^{k} \\epsilon \\mathbb{Z}_{0}^{+} $$\n",
    "\n",
    "\n",
    "\n"
   ]
  },
  {
   "cell_type": "code",
   "execution_count": 6,
   "metadata": {},
   "outputs": [],
   "source": [
    "from pyomo.environ import *\n",
    "import numpy as pd\n",
    "import pandas as pd \n",
    "import numpy as np "
   ]
  },
  {
   "cell_type": "code",
   "execution_count": 12,
   "metadata": {},
   "outputs": [
    {
     "name": "stdout",
     "output_type": "stream",
     "text": [
      "    From  To  Cost  Capac\n",
      "0      1   4   1.0     10\n",
      "1      1   5   2.0     20\n",
      "2      2   4   1.5     30\n",
      "3      2   5   1.0     40\n",
      "4      3   4   2.5     50\n",
      "5      3   5   1.0     60\n",
      "6      4   6   3.0    100\n",
      "7      4   7   4.0    130\n",
      "8      4   8   5.0    110\n",
      "9      5   6   4.5     90\n",
      "10     5   7   3.5    150\n",
      "11     5   8   4.0    100\n",
      "   From  To  Quant\n",
      "0     1   7    100\n",
      "1     1   8     40\n",
      "2     2   6     80\n",
      "3     2   7     90\n",
      "4     3   8     70\n",
      "5     3   6    120\n"
     ]
    }
   ],
   "source": [
    "# Load file\n",
    "List_arcs = pd.read_excel('dt2.xlsx', sheet_name = \"Arcs\", index_col=False)\n",
    "List_commo = pd.read_excel('dt2.xlsx', sheet_name = \"Commodities\", index_col=False)\n",
    "print(List_arcs)\n",
    "print(List_commo)"
   ]
  },
  {
   "cell_type": "code",
   "execution_count": 27,
   "metadata": {},
   "outputs": [
    {
     "name": "stdout",
     "output_type": "stream",
     "text": [
      "8\n",
      "12\n",
      "96\n"
     ]
    }
   ],
   "source": [
    "# Define a model\n",
    "model = ConcreteModel()\n",
    "\n",
    "model.r = RangeSet(1,8) # 8 Nodes\n",
    "print(len(model.r))\n",
    "model.j = RangeSet(1,len(List_arcs['From'])) # 12 Arcs\n",
    "print(len(model.j))\n",
    "# Define decision variables\n",
    "model.flow = Var(model.r, model.j,domain=NonNegativeReals)\n",
    "print(len(model.flow))"
   ]
  },
  {
   "cell_type": "code",
   "execution_count": 28,
   "metadata": {},
   "outputs": [],
   "source": [
    "# Define objective function\n",
    "def obj_expression(model):\n",
    "    return sum(model.flow[row['From'], row['To']] * row['Cost'] for _, row in List_arcs.iterrows())\n",
    "model.OBJ = Objective(rule=obj_expression, sense=minimize)"
   ]
  },
  {
   "cell_type": "code",
   "execution_count": 11,
   "metadata": {},
   "outputs": [
    {
     "ename": "RuntimeError",
     "evalue": "Cannot add component 'FlowBalance_index' (type <class 'pyomo.core.base.set.FiniteScalarSet'>) to block 'unknown': a component by that name (type <class 'pyomo.core.base.set.FiniteScalarSet'>) is already defined.",
     "output_type": "error",
     "traceback": [
      "\u001b[1;31m---------------------------------------------------------------------------\u001b[0m",
      "\u001b[1;31mRuntimeError\u001b[0m                              Traceback (most recent call last)",
      "Cell \u001b[1;32mIn [11], line 6\u001b[0m\n\u001b[0;32m      4\u001b[0m     outbound_flow \u001b[39m=\u001b[39m \u001b[39msum\u001b[39m(model\u001b[39m.\u001b[39mflow[node, row[\u001b[39m'\u001b[39m\u001b[39mTo\u001b[39m\u001b[39m'\u001b[39m]] \u001b[39mfor\u001b[39;00m _, row \u001b[39min\u001b[39;00m List_arcs\u001b[39m.\u001b[39miterrows() \u001b[39mif\u001b[39;00m row[\u001b[39m'\u001b[39m\u001b[39mFrom\u001b[39m\u001b[39m'\u001b[39m] \u001b[39m==\u001b[39m node)\n\u001b[0;32m      5\u001b[0m     \u001b[39mreturn\u001b[39;00m inbound_flow \u001b[39m==\u001b[39m outbound_flow\n\u001b[1;32m----> 6\u001b[0m model\u001b[39m.\u001b[39;49mFlowBalance \u001b[39m=\u001b[39m Constraint(List_arcs[\u001b[39m'\u001b[39m\u001b[39mTo\u001b[39m\u001b[39m'\u001b[39m]\u001b[39m.\u001b[39munique(), rule\u001b[39m=\u001b[39mflow_balance)\n\u001b[0;32m      9\u001b[0m \u001b[39mdef\u001b[39;00m \u001b[39marc_capacity\u001b[39m(model, from_node, to_node):\n\u001b[0;32m     10\u001b[0m     flow \u001b[39m=\u001b[39m model\u001b[39m.\u001b[39mflow[from_node, to_node]\n",
      "File \u001b[1;32mc:\\Python310\\lib\\site-packages\\pyomo\\core\\base\\block.py:639\u001b[0m, in \u001b[0;36m_BlockData.__setattr__\u001b[1;34m(self, name, val)\u001b[0m\n\u001b[0;32m    634\u001b[0m \u001b[39mif\u001b[39;00m name \u001b[39mnot\u001b[39;00m \u001b[39min\u001b[39;00m \u001b[39mself\u001b[39m\u001b[39m.\u001b[39m\u001b[39m__dict__\u001b[39m:\n\u001b[0;32m    635\u001b[0m     \u001b[39mif\u001b[39;00m \u001b[39misinstance\u001b[39m(val, Component):\n\u001b[0;32m    636\u001b[0m         \u001b[39m#\u001b[39;00m\n\u001b[0;32m    637\u001b[0m         \u001b[39m# Pyomo components are added with the add_component method.\u001b[39;00m\n\u001b[0;32m    638\u001b[0m         \u001b[39m#\u001b[39;00m\n\u001b[1;32m--> 639\u001b[0m         \u001b[39mself\u001b[39;49m\u001b[39m.\u001b[39;49madd_component(name, val)\n\u001b[0;32m    640\u001b[0m     \u001b[39melse\u001b[39;00m:\n\u001b[0;32m    641\u001b[0m         \u001b[39m#\u001b[39;00m\n\u001b[0;32m    642\u001b[0m         \u001b[39m# Other Python objects are added with the standard __setattr__\u001b[39;00m\n\u001b[0;32m    643\u001b[0m         \u001b[39m# method.\u001b[39;00m\n\u001b[0;32m    644\u001b[0m         \u001b[39m#\u001b[39;00m\n\u001b[0;32m    645\u001b[0m         \u001b[39msuper\u001b[39m(_BlockData, \u001b[39mself\u001b[39m)\u001b[39m.\u001b[39m\u001b[39m__setattr__\u001b[39m(name, val)\n",
      "File \u001b[1;32mc:\\Python310\\lib\\site-packages\\pyomo\\core\\base\\block.py:1083\u001b[0m, in \u001b[0;36m_BlockData.add_component\u001b[1;34m(self, name, val)\u001b[0m\n\u001b[0;32m   1072\u001b[0m val\u001b[39m.\u001b[39m_name \u001b[39m=\u001b[39m name\n\u001b[0;32m   1073\u001b[0m \u001b[39m#\u001b[39;00m\n\u001b[0;32m   1074\u001b[0m \u001b[39m# We want to add the temporary / implicit sets first so that\u001b[39;00m\n\u001b[0;32m   1075\u001b[0m \u001b[39m# they get constructed before this component\u001b[39;00m\n\u001b[1;32m   (...)\u001b[0m\n\u001b[0;32m   1081\u001b[0m \u001b[39m# components.\u001b[39;00m\n\u001b[0;32m   1082\u001b[0m \u001b[39m#\u001b[39;00m\n\u001b[1;32m-> 1083\u001b[0m \u001b[39mself\u001b[39;49m\u001b[39m.\u001b[39;49m_add_implicit_sets(val)\n\u001b[0;32m   1084\u001b[0m \u001b[39m#\u001b[39;00m\n\u001b[0;32m   1085\u001b[0m \u001b[39m# Add the component to the underlying Component store\u001b[39;00m\n\u001b[0;32m   1086\u001b[0m \u001b[39m#\u001b[39;00m\n\u001b[0;32m   1087\u001b[0m _new_idx \u001b[39m=\u001b[39m \u001b[39mlen\u001b[39m(\u001b[39mself\u001b[39m\u001b[39m.\u001b[39m_decl_order)\n",
      "File \u001b[1;32mc:\\Python310\\lib\\site-packages\\pyomo\\core\\base\\block.py:903\u001b[0m, in \u001b[0;36m_BlockData._add_implicit_sets\u001b[1;34m(self, val)\u001b[0m\n\u001b[0;32m    898\u001b[0m             \u001b[39mself\u001b[39m\u001b[39m.\u001b[39madd_component(\u001b[39m\"\u001b[39m\u001b[39m%s\u001b[39;00m\u001b[39m_index_\u001b[39m\u001b[39m%d\u001b[39;00m\u001b[39m\"\u001b[39m \u001b[39m%\u001b[39m (val\u001b[39m.\u001b[39mlocal_name, ctr), tset)\n\u001b[0;32m    899\u001b[0m \u001b[39mif\u001b[39;00m \u001b[39mgetattr\u001b[39m(val, \u001b[39m'\u001b[39m\u001b[39m_index_set\u001b[39m\u001b[39m'\u001b[39m, \u001b[39mNone\u001b[39;00m) \u001b[39mis\u001b[39;00m \u001b[39mnot\u001b[39;00m \u001b[39mNone\u001b[39;00m \\\n\u001b[0;32m    900\u001b[0m         \u001b[39mand\u001b[39;00m \u001b[39misinstance\u001b[39m(val\u001b[39m.\u001b[39m_index_set, _SetDataBase) \\\n\u001b[0;32m    901\u001b[0m         \u001b[39mand\u001b[39;00m val\u001b[39m.\u001b[39m_index_set\u001b[39m.\u001b[39mparent_component()\u001b[39m.\u001b[39mparent_block() \u001b[39mis\u001b[39;00m \u001b[39mNone\u001b[39;00m \\\n\u001b[0;32m    902\u001b[0m         \u001b[39mand\u001b[39;00m \u001b[39mnot\u001b[39;00m \u001b[39misinstance\u001b[39m(val\u001b[39m.\u001b[39m_index_set\u001b[39m.\u001b[39mparent_component(), GlobalSetBase):\n\u001b[1;32m--> 903\u001b[0m     \u001b[39mself\u001b[39;49m\u001b[39m.\u001b[39;49madd_component(\u001b[39m\"\u001b[39;49m\u001b[39m%s\u001b[39;49;00m\u001b[39m_index\u001b[39;49m\u001b[39m\"\u001b[39;49m \u001b[39m%\u001b[39;49m (val\u001b[39m.\u001b[39;49mlocal_name,), val\u001b[39m.\u001b[39;49m_index_set\u001b[39m.\u001b[39;49mparent_component())\n\u001b[0;32m    904\u001b[0m \u001b[39mif\u001b[39;00m \u001b[39mgetattr\u001b[39m(val, \u001b[39m'\u001b[39m\u001b[39minitialize\u001b[39m\u001b[39m'\u001b[39m, \u001b[39mNone\u001b[39;00m) \u001b[39mis\u001b[39;00m \u001b[39mnot\u001b[39;00m \u001b[39mNone\u001b[39;00m \\\n\u001b[0;32m    905\u001b[0m         \u001b[39mand\u001b[39;00m \u001b[39misinstance\u001b[39m(val\u001b[39m.\u001b[39minitialize, _SetDataBase) \\\n\u001b[0;32m    906\u001b[0m         \u001b[39mand\u001b[39;00m val\u001b[39m.\u001b[39minitialize\u001b[39m.\u001b[39mparent_component()\u001b[39m.\u001b[39mparent_block() \u001b[39mis\u001b[39;00m \u001b[39mNone\u001b[39;00m \\\n\u001b[0;32m    907\u001b[0m         \u001b[39mand\u001b[39;00m \u001b[39mnot\u001b[39;00m \u001b[39misinstance\u001b[39m(val\u001b[39m.\u001b[39minitialize\u001b[39m.\u001b[39mparent_component(), GlobalSetBase):\n\u001b[0;32m    908\u001b[0m     \u001b[39mself\u001b[39m\u001b[39m.\u001b[39madd_component(\u001b[39m\"\u001b[39m\u001b[39m%s\u001b[39;00m\u001b[39m_index_init\u001b[39m\u001b[39m\"\u001b[39m \u001b[39m%\u001b[39m (val\u001b[39m.\u001b[39mlocal_name,), val\u001b[39m.\u001b[39minitialize\u001b[39m.\u001b[39mparent_component())\n",
      "File \u001b[1;32mc:\\Python310\\lib\\site-packages\\pyomo\\core\\base\\block.py:1023\u001b[0m, in \u001b[0;36m_BlockData.add_component\u001b[1;34m(self, name, val)\u001b[0m\n\u001b[0;32m   1019\u001b[0m     \u001b[39mraise\u001b[39;00m \u001b[39mValueError\u001b[39;00m(\u001b[39m\"\u001b[39m\u001b[39mAttempting to declare a block component using \u001b[39m\u001b[39m\"\u001b[39m\n\u001b[0;32m   1020\u001b[0m                      \u001b[39m\"\u001b[39m\u001b[39mthe name of a reserved attribute:\u001b[39m\u001b[39m\\n\u001b[39;00m\u001b[39m\\t\u001b[39;00m\u001b[39m%s\u001b[39;00m\u001b[39m\"\u001b[39m\n\u001b[0;32m   1021\u001b[0m                      \u001b[39m%\u001b[39m (name,))\n\u001b[0;32m   1022\u001b[0m \u001b[39mif\u001b[39;00m name \u001b[39min\u001b[39;00m \u001b[39mself\u001b[39m\u001b[39m.\u001b[39m\u001b[39m__dict__\u001b[39m:\n\u001b[1;32m-> 1023\u001b[0m     \u001b[39mraise\u001b[39;00m \u001b[39mRuntimeError\u001b[39;00m(\n\u001b[0;32m   1024\u001b[0m         \u001b[39m\"\u001b[39m\u001b[39mCannot add component \u001b[39m\u001b[39m'\u001b[39m\u001b[39m%s\u001b[39;00m\u001b[39m'\u001b[39m\u001b[39m (type \u001b[39m\u001b[39m%s\u001b[39;00m\u001b[39m) to block \u001b[39m\u001b[39m'\u001b[39m\u001b[39m%s\u001b[39;00m\u001b[39m'\u001b[39m\u001b[39m: a \u001b[39m\u001b[39m\"\u001b[39m\n\u001b[0;32m   1025\u001b[0m         \u001b[39m\"\u001b[39m\u001b[39mcomponent by that name (type \u001b[39m\u001b[39m%s\u001b[39;00m\u001b[39m) is already defined.\u001b[39m\u001b[39m\"\u001b[39m\n\u001b[0;32m   1026\u001b[0m         \u001b[39m%\u001b[39m (name, \u001b[39mtype\u001b[39m(val), \u001b[39mself\u001b[39m\u001b[39m.\u001b[39mname, \u001b[39mtype\u001b[39m(\u001b[39mgetattr\u001b[39m(\u001b[39mself\u001b[39m, name))))\n\u001b[0;32m   1027\u001b[0m \u001b[39m#\u001b[39;00m\n\u001b[0;32m   1028\u001b[0m \u001b[39m# Skip the add_component() logic if this is a\u001b[39;00m\n\u001b[0;32m   1029\u001b[0m \u001b[39m# component type that is suppressed.\u001b[39;00m\n\u001b[0;32m   1030\u001b[0m \u001b[39m#\u001b[39;00m\n\u001b[0;32m   1031\u001b[0m _component \u001b[39m=\u001b[39m \u001b[39mself\u001b[39m\u001b[39m.\u001b[39mparent_component()\n",
      "\u001b[1;31mRuntimeError\u001b[0m: Cannot add component 'FlowBalance_index' (type <class 'pyomo.core.base.set.FiniteScalarSet'>) to block 'unknown': a component by that name (type <class 'pyomo.core.base.set.FiniteScalarSet'>) is already defined."
     ]
    }
   ],
   "source": [
    "# Define constraints\n",
    "def flow_balance(model, node):\n",
    "    inbound_flow = sum(model.flow[row['From'], node] for _, row in List_arcs.iterrows() if row['To'] == node)\n",
    "    outbound_flow = sum(model.flow[node, row['To']] for _, row in List_arcs.iterrows() if row['From'] == node)\n",
    "    return inbound_flow == outbound_flow\n",
    "    \n",
    "model.FlowBalance = Constraint(List_arcs['To'].unique(), rule=flow_balance)\n",
    "\n",
    "\n",
    "def arc_capacity(model, from_node, to_node):\n",
    "    flow = model.flow[from_node, to_node]\n",
    "    row = List_arcs[(List_arcs['From'] == from_node) & (List_arcs['To'] == to_node)]\n",
    "    return flow <= row['Capac'].iloc[0]\n",
    "model.ArcCapacity = Constraint(List_arcs['From'], List_arcs['To'], rule=arc_capacity)"
   ]
  },
  {
   "cell_type": "code",
   "execution_count": null,
   "metadata": {},
   "outputs": [],
   "source": [
    "# Solve the optimization problem\n",
    "solver = SolverFactory('gurobi')\n",
    "results = solver.solve(model)\n",
    "    \n",
    "# Print the results\n",
    "print(\"Objective value: \", model.OBJ())\n",
    "for _, row in List_arcs.iterrows():\n",
    "    print(\"Flow from {} to {}: {}\".format(row['From'], row['To'], model.flow[row['From'], row['To']]))\n"
   ]
  }
 ],
 "metadata": {
  "kernelspec": {
   "display_name": "Python 3.10.6 64-bit",
   "language": "python",
   "name": "python3"
  },
  "language_info": {
   "codemirror_mode": {
    "name": "ipython",
    "version": 3
   },
   "file_extension": ".py",
   "mimetype": "text/x-python",
   "name": "python",
   "nbconvert_exporter": "python",
   "pygments_lexer": "ipython3",
   "version": "3.10.6"
  },
  "orig_nbformat": 4,
  "vscode": {
   "interpreter": {
    "hash": "369f2c481f4da34e4445cda3fffd2e751bd1c4d706f27375911949ba6bb62e1c"
   }
  }
 },
 "nbformat": 4,
 "nbformat_minor": 2
}
