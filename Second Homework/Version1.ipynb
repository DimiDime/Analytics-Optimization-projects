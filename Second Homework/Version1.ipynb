{
 "cells": [
  {
   "cell_type": "markdown",
   "metadata": {},
   "source": [
    "# Second Homework: Network Optimization and Non-linear Models (Topics 2, 3)"
   ]
  },
  {
   "cell_type": "markdown",
   "metadata": {},
   "source": [
    "## 1. Network optimization \n",
    "One optimization model with discrete variables and a network structure.\n",
    "\n",
    " (5 points) Formulate the network optimization problem as a discrete model (Topic 2), identifying\n",
    "mathematically the variables and constraints associated with the network. Solve and interpret the\n",
    "solution."
   ]
  },
  {
   "cell_type": "code",
   "execution_count": null,
   "metadata": {},
   "outputs": [],
   "source": [
    "#Imports\n",
    "from pyomo.opt import SolverFactory\n",
    "import sys\n",
    "import pyomo.environ as pyo\n",
    "\n",
    "solvername='glpk'\n",
    "solverpath_folder='C:\\\\w64'\n",
    "solverpath_exe='C:\\\\w64\\\\glpsol'\n",
    "\n",
    "sys.path.append(solverpath_folder)\n",
    "solver=SolverFactory(solvername, executable=solverpath_exe)"
   ]
  },
  {
   "cell_type": "code",
   "execution_count": null,
   "metadata": {},
   "outputs": [],
   "source": [
    "from pyomo.environ import *\n",
    "\n",
    "model = ConcreteModel()\n",
    "\n",
    "# variables\n",
    "model.x = Var([1,2,3,4,5], domain=Binary)\n",
    "\n",
    "# objective function\n",
    "#model.OBJ = Objective()\n",
    "P = [20,40,20,15,30] \n",
    "I = range(len(P)) \n",
    "model.OBJ = Objective(rule=sum(model.x[i+1]*P[i] for i in I),sense=maximize,doc='profit')\n",
    "\n",
    "# constraints\n",
    "model.cons1 = Constraint(expr = 5*model.x[1]+4*model.x[2]+3*model.x[3]+7*model.x[4]+8*model.x[5] <=25)\n",
    "\n",
    "model.cons2 = Constraint(expr = 1*model.x[1]+7*model.x[2]+9*model.x[3]+4*model.x[4]+6*model.x[5] <=25)\n",
    "\n",
    "model.cons3 = Constraint(expr = 8*model.x[1]+10*model.x[2]+2*model.x[3]+1*model.x[4]+10*model.x[5] <=25)"
   ]
  },
  {
   "cell_type": "markdown",
   "metadata": {},
   "source": [
    "## 2. Non-linear optimization\n",
    "One model with a non-linear objective and at least one non-trivial\n",
    "constraint (linear or non-linear).\n",
    "\n",
    "(5 points) Formulate (mathematically) and solve a non-linear optimization problem based on real\n",
    "(or realistic) world data. Interpret the solution."
   ]
  },
  {
   "cell_type": "markdown",
   "metadata": {},
   "source": []
  }
 ],
 "metadata": {
  "kernelspec": {
   "display_name": "Python 3.10.6 64-bit",
   "language": "python",
   "name": "python3"
  },
  "language_info": {
   "name": "python",
   "version": "3.10.6"
  },
  "orig_nbformat": 4,
  "vscode": {
   "interpreter": {
    "hash": "369f2c481f4da34e4445cda3fffd2e751bd1c4d706f27375911949ba6bb62e1c"
   }
  }
 },
 "nbformat": 4,
 "nbformat_minor": 2
}
