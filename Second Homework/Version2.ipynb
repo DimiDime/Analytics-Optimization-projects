{
 "cells": [
  {
   "cell_type": "markdown",
   "metadata": {},
   "source": [
    "# Second Homework"
   ]
  },
  {
   "cell_type": "markdown",
   "metadata": {},
   "source": [
    "## 1. Network optimization - Multi commodity problem"
   ]
  },
  {
   "cell_type": "markdown",
   "metadata": {},
   "source": [
    "# Operation Barbarossa\n",
    "(Imaginative scenario)\n",
    "\n",
    "On 22 June 1941, Germany began a major attack on the Soviet Union, the communist state that consisted of Russia and a number of neighbouring countries. During the first nine months of the advance, one million German soldiers were killed and many we wounded. \n",
    "\n",
    "<img src=\"operation-barbarossa.png\" alt=\"Drawing\" style=\"width: 650px;\"/>"
   ]
  },
  {
   "cell_type": "code",
   "execution_count": 1,
   "metadata": {},
   "outputs": [],
   "source": [
    "import gurobipy as gp\n",
    "from gurobipy import GRB, quicksum\n",
    "from openpyxl import load_workbook\n",
    "import pandas as pd"
   ]
  },
  {
   "cell_type": "code",
   "execution_count": 2,
   "metadata": {},
   "outputs": [
    {
     "name": "stdout",
     "output_type": "stream",
     "text": [
      "    i (org)  j (dest)  Capacity in tausend  Cost  in mill\n",
      "0         1         4                   10            1.0\n",
      "1         1         5                   20            2.0\n",
      "2         2         4                   30            1.5\n",
      "3         2         5                   40            1.0\n",
      "4         3         4                   50            2.5\n",
      "5         3         5                   60            1.0\n",
      "6         4         6                  100            3.0\n",
      "7         4         7                  130            4.0\n",
      "8         4         8                  110            5.0\n",
      "9         5         6                   90            4.5\n",
      "10        5         7                  150            3.5\n",
      "11        5         8                  100            4.0\n",
      "\n",
      "    Origin  Dest  Quantity in tausend\n",
      "0       1     7                  100\n",
      "1       1     8                   40\n",
      "2       2     6                   80\n",
      "3       2     7                   90\n",
      "4       3     8                   70\n",
      "5       3     6                  120\n"
     ]
    }
   ],
   "source": [
    "mydata1 = pd.read_csv('arcs.csv')\n",
    "print(mydata1)\n",
    "mydata2 = pd.read_csv('commodities.csv')\n",
    "print(\"\\n\",mydata2)"
   ]
  },
  {
   "cell_type": "markdown",
   "metadata": {},
   "source": [
    "# Mathematical definition\n",
    "- c- Costs\n",
    "- m- Arcs\n",
    "- x- Flows\n",
    "- k- Commodities\n",
    "- n- Nodes\n",
    "- Demand\n",
    "- Origin\n",
    "- Destination\n",
    "### Objective function:\n",
    "$$ minC = \\sum_{k\\epsilon K}^{} \\sum_{m\\epsilon L}^{} c_{m}^{k} \\times x_{m}^{k} $$\n",
    "\n",
    "### Set of Constraints:\n",
    "$$ \\sum_{m\\epsilon L_{i}^{out}}x_{m}^{k} - \\sum_{m\\epsilon L_{i}^{in}} x_{m}^{k} = Dem^{k} \\rightarrow i \\epsilon O(k) $$\n",
    "\n",
    "$$ \\sum_{m\\epsilon L_{i}^{out}}x_{m}^{k} - \\sum_{m\\epsilon L_{i}^{in}} x_{m}^{k} = -Dem^{k} \\rightarrow i \\epsilon D(k) $$\n",
    "\n",
    "$$ \\sum_{m\\epsilon L_{i}^{out}}x_{m}^{k} - \\sum_{m\\epsilon L_{i}^{in}} x_{m}^{k} = 0 \\rightarrow i \\epsilon N, k \\epsilon K $$\n",
    "\n",
    "### Capacity:\n",
    "$$ \\sum_{k \\epsilon K} x_{m}^{k} \\leq  Cap_{m} \\rightarrow m \\epsilon L $$\n",
    "\n",
    "$$ x_{m}^{k} \\epsilon \\mathbb{Z}_{0}^{+} $$\n",
    "\n",
    "\n",
    "\n"
   ]
  },
  {
   "cell_type": "code",
   "execution_count": 61,
   "metadata": {},
   "outputs": [],
   "source": [
    "# Reading input\n",
    "if __name__ == '__main__':\n",
    "  # Load file\n",
    " List_arcs = pd.read_excel('dt2.xlsx', sheet_name = \"Arcs\", index_col=False)\n",
    " List_commo = pd.read_excel('dt2.xlsx', sheet_name = \"Commodities\", index_col=False)\n",
    " #List_arcs.values.tolist()\n",
    " #List_commo.values.tolist()\n",
    " #arcs_cols = List_arcs.columns\n",
    " #commo_cols = List_commo.columns\n",
    " #print(f\"{len(arcs_cols)}\")\n",
    " #print(f\"{arcs_cols[0]=}\")\n",
    " #print(f\"{commo_cols[0]=}\")\n",
    " \n",
    " #print(List_arcs)\n",
    " #print(List_commo)\n",
    " #print(List_commo[\"From\"])\n",
    " #print(List_commo[\"From\"].values)\n",
    " \n",
    " #print(List_arcs[\"From\"])\n",
    " #wb = load_workbook(\"dt2.xlsx\", read_only=True)\n",
    " #List_arcs = tuple(wb[\"Arcs\"].iter_rows())\n",
    " #List_commo = tuple(wb[\"Commodities\"].iter_rows())\n",
    "\n",
    "#print(len(List_arcs))\n",
    "#print(len(List_commo))\n",
    "\n",
    "# Defining objects with corresponding features\n",
    "class Arc:\n",
    " def __init__(self,origin,destination,cost, capacity):\n",
    "  self.From = origin\n",
    "  self.To = destination\n",
    "  self.Cost = cost\n",
    "  self.Capac = capacity\n",
    "\n",
    "Arcs = []\n",
    "for _ , row in List_arcs.iterrows():\n",
    "  new_arc = Arc(row[\"From\"], row[\"To\"], row[\"Cost\"], row[\"Capac\"])\n",
    "  Arcs.append(new_arc)\n",
    "\n",
    "class Commodity:\n",
    " def __init__(self,origin,destination, quantity):\n",
    "  self.From = origin\n",
    "  self.To = destination\n",
    "  self.Quant = quantity\n",
    "  \n",
    "Commodities=[]\n",
    "for _ , row in List_commo.iterrows():\n",
    "  new_commo = Commodity(row[\"From\"], row[\"To\"], row[\"Quant\"])\n",
    "  Commodities.append(new_commo)\n",
    "\n",
    "class Node:\n",
    " def __init__(self, outlinks, inlinks):\n",
    "  # Arcs that get in and out of the node\n",
    "  self.OutLinks = outlinks# Relationship between new arc and info about in/out-links of node\n",
    "  self.InLinks = inlinks\n",
    "  def addOutLink(self,Node):\n",
    "   self.OutLinks.appends(Node)\n",
    "  def addInLink(self,Node):\n",
    "   self.InLinks.append(Node)\n",
    "  \n",
    "\n",
    "Nodes= [\n",
    "  Node([0], [3,4]),\n",
    "  Node([1], [3,4]),\n",
    "  Node([2], [3,4]),\n",
    "  Node([3,4], [5,6,7])\n",
    "]\n"
   ]
  },
  {
   "cell_type": "code",
   "execution_count": 76,
   "metadata": {},
   "outputs": [
    {
     "data": {
      "text/plain": [
       "['# Reading input\\nif __name__ == \\'__main__\\':\\n  # Load file\\n List_arcs = pd.read_excel(\\'dt2.xlsx\\', sheet_name = \"Arcs\", index_col=False)\\n List_commo = pd.read_excel(\\'dt2.xlsx\\', sheet_name = \"Commodities\", index_col=False)\\n #List_arcs.values.tolist()\\n #List_commo.values.tolist()\\n #arcs_cols = List_arcs.columns\\n #commo_cols = List_commo.columns\\n #print(f\"{len(arcs_cols)}\")\\n #print(f\"{arcs_cols[0]=}\")\\n #print(f\"{commo_cols[0]=}\")\\n \\n #print(List_arcs)\\n #print(List_commo)\\n #print(List_commo[\"From\"])\\n #print(List_commo[\"From\"].values)\\n \\n #print(List_arcs[\"From\"])\\n #wb = load_workbook(\"dt2.xlsx\", read_only=True)\\n #List_arcs = tuple(wb[\"Arcs\"].iter_rows())\\n #List_commo = tuple(wb[\"Commodities\"].iter_rows())\\n\\n#print(len(List_arcs))\\n#print(len(List_commo))\\n\\n# Defining objects with corresponding features\\nclass Arc:\\n def __init__(self,origin,destination,cost, capacity):\\n  self.From = origin\\n  self.To = destination\\n  self.Cost = cost\\n  self.Capac = capacity\\n\\nArcs = []\\nfor _ , row in List_arcs.iterrows():\\n  new_arc = Arc(row[\"From\"], row[\"To\"], row[\"Cost\"], row[\"Capac\"])\\n  Arcs.append(new_arc)\\n\\nfor i in range(Arcs):\\n  print(f\"{Arcs[i].From=}\")\\n\\nclass Commodity:\\n def __init__(self,origin,destination, quantity):\\n  self.From = origin\\n  self.To = destination\\n  self.Quant = quantity\\nCommodities=[]\\nCommodities.append(Commodity)\\nprint(Commodity)\\n\\nclass Node:\\n def __init__(self):\\n  # Arcs that get in and out of the node\\n  self.InLinks = []\\n  self.OutLinks = []# Relationship between new arc and info about in/out-links of node\\n  def addInLink(self,Node):\\n   self.InLinks.append(Node)\\n  def addOutLink(self,Node):\\n   self.OutLinks.appends(Node)\\nNodes=[]\\nprint(Node)',\n",
       " '# Reading input\\nif __name__ == \\'__main__\\':\\n  # Load file\\n List_arcs = pd.read_excel(\\'dt2.xlsx\\', sheet_name = \"Arcs\", index_col=False)\\n List_commo = pd.read_excel(\\'dt2.xlsx\\', sheet_name = \"Commodities\", index_col=False)\\n #List_arcs.values.tolist()\\n #List_commo.values.tolist()\\n #arcs_cols = List_arcs.columns\\n #commo_cols = List_commo.columns\\n #print(f\"{len(arcs_cols)}\")\\n #print(f\"{arcs_cols[0]=}\")\\n #print(f\"{commo_cols[0]=}\")\\n \\n #print(List_arcs)\\n #print(List_commo)\\n #print(List_commo[\"From\"])\\n #print(List_commo[\"From\"].values)\\n \\n #print(List_arcs[\"From\"])\\n #wb = load_workbook(\"dt2.xlsx\", read_only=True)\\n #List_arcs = tuple(wb[\"Arcs\"].iter_rows())\\n #List_commo = tuple(wb[\"Commodities\"].iter_rows())\\n\\n#print(len(List_arcs))\\n#print(len(List_commo))\\n\\n# Defining objects with corresponding features\\nclass Arc:\\n def __init__(self,origin,destination,cost, capacity):\\n  self.From = origin\\n  self.To = destination\\n  self.Cost = cost\\n  self.Capac = capacity\\n\\nArcs = []\\nfor _ , row in List_arcs.iterrows():\\n  new_arc = Arc(row[\"From\"], row[\"To\"], row[\"Cost\"], row[\"Capac\"])\\n  Arcs.append(new_arc)\\n\\nfor i in len(range(Arcs)):\\n  print(f\"{Arcs[i].From=}\")\\n\\nclass Commodity:\\n def __init__(self,origin,destination, quantity):\\n  self.From = origin\\n  self.To = destination\\n  self.Quant = quantity\\nCommodities=[]\\nCommodities.append(Commodity)\\nprint(Commodity)\\n\\nclass Node:\\n def __init__(self):\\n  # Arcs that get in and out of the node\\n  self.InLinks = []\\n  self.OutLinks = []# Relationship between new arc and info about in/out-links of node\\n  def addInLink(self,Node):\\n   self.InLinks.append(Node)\\n  def addOutLink(self,Node):\\n   self.OutLinks.appends(Node)\\nNodes=[]\\nprint(Node)',\n",
       " '# Reading input\\nif __name__ == \\'__main__\\':\\n  # Load file\\n List_arcs = pd.read_excel(\\'dt2.xlsx\\', sheet_name = \"Arcs\", index_col=False)\\n List_commo = pd.read_excel(\\'dt2.xlsx\\', sheet_name = \"Commodities\", index_col=False)\\n #List_arcs.values.tolist()\\n #List_commo.values.tolist()\\n #arcs_cols = List_arcs.columns\\n #commo_cols = List_commo.columns\\n #print(f\"{len(arcs_cols)}\")\\n #print(f\"{arcs_cols[0]=}\")\\n #print(f\"{commo_cols[0]=}\")\\n \\n #print(List_arcs)\\n #print(List_commo)\\n #print(List_commo[\"From\"])\\n #print(List_commo[\"From\"].values)\\n \\n #print(List_arcs[\"From\"])\\n #wb = load_workbook(\"dt2.xlsx\", read_only=True)\\n #List_arcs = tuple(wb[\"Arcs\"].iter_rows())\\n #List_commo = tuple(wb[\"Commodities\"].iter_rows())\\n\\n#print(len(List_arcs))\\n#print(len(List_commo))\\n\\n# Defining objects with corresponding features\\nclass Arc:\\n def __init__(self,origin,destination,cost, capacity):\\n  self.From = origin\\n  self.To = destination\\n  self.Cost = cost\\n  self.Capac = capacity\\n\\nArcs = []\\nfor _ , row in List_arcs.iterrows():\\n  new_arc = Arc(row[\"From\"], row[\"To\"], row[\"Cost\"], row[\"Capac\"])\\n  Arcs.append(new_arc)\\n\\nfor i in range(len(Arcs)):\\n  print(f\"{Arcs[i].From=}\")\\n\\nclass Commodity:\\n def __init__(self,origin,destination, quantity):\\n  self.From = origin\\n  self.To = destination\\n  self.Quant = quantity\\nCommodities=[]\\nCommodities.append(Commodity)\\nprint(Commodity)\\n\\nclass Node:\\n def __init__(self):\\n  # Arcs that get in and out of the node\\n  self.InLinks = []\\n  self.OutLinks = []# Relationship between new arc and info about in/out-links of node\\n  def addInLink(self,Node):\\n   self.InLinks.append(Node)\\n  def addOutLink(self,Node):\\n   self.OutLinks.appends(Node)\\nNodes=[]\\nprint(Node)',\n",
       " '# Reading input\\nif __name__ == \\'__main__\\':\\n  # Load file\\n List_arcs = pd.read_excel(\\'dt2.xlsx\\', sheet_name = \"Arcs\", index_col=False)\\n List_commo = pd.read_excel(\\'dt2.xlsx\\', sheet_name = \"Commodities\", index_col=False)\\n #List_arcs.values.tolist()\\n #List_commo.values.tolist()\\n #arcs_cols = List_arcs.columns\\n #commo_cols = List_commo.columns\\n #print(f\"{len(arcs_cols)}\")\\n #print(f\"{arcs_cols[0]=}\")\\n #print(f\"{commo_cols[0]=}\")\\n \\n #print(List_arcs)\\n #print(List_commo)\\n #print(List_commo[\"From\"])\\n #print(List_commo[\"From\"].values)\\n \\n #print(List_arcs[\"From\"])\\n #wb = load_workbook(\"dt2.xlsx\", read_only=True)\\n #List_arcs = tuple(wb[\"Arcs\"].iter_rows())\\n #List_commo = tuple(wb[\"Commodities\"].iter_rows())\\n\\n#print(len(List_arcs))\\n#print(len(List_commo))\\n\\n# Defining objects with corresponding features\\nclass Arc:\\n def __init__(self,origin,destination,cost, capacity):\\n  self.From = origin\\n  self.To = destination\\n  self.Cost = cost\\n  self.Capac = capacity\\n\\nArcs = []\\nfor _ , row in List_arcs.iterrows():\\n  new_arc = Arc(row[\"From\"], row[\"To\"], row[\"Cost\"], row[\"Capac\"])\\n  Arcs.append(new_arc)\\n\\nclass Commodity:\\n def __init__(self,origin,destination, quantity):\\n  self.From = origin\\n  self.To = destination\\n  self.Quant = quantity\\n  \\nCommodities=[]\\nfor _ , row in List_commo.iterrows():\\n  new_commo = Commodity(row[\"From\"], row[\"To\"], row[\"Quant\"])\\n  Commodities.append(new_commo)\\n  \\nfor i in range(len(Commodities)):\\n  print(f\"{Commodities[i].From=}\")\\n\\n\\nclass Node:\\n def __init__(self):\\n  # Arcs that get in and out of the node\\n  self.InLinks = []\\n  self.OutLinks = []# Relationship between new arc and info about in/out-links of node\\n  def addInLink(self,Node):\\n   self.InLinks.append(Node)\\n  def addOutLink(self,Node):\\n   self.OutLinks.appends(Node)\\nNodes=[]\\nprint(Node)',\n",
       " '# Reading input\\nif __name__ == \\'__main__\\':\\n  # Load file\\n List_arcs = pd.read_excel(\\'dt2.xlsx\\', sheet_name = \"Arcs\", index_col=False)\\n List_commo = pd.read_excel(\\'dt2.xlsx\\', sheet_name = \"Commodities\", index_col=False)\\n #List_arcs.values.tolist()\\n #List_commo.values.tolist()\\n #arcs_cols = List_arcs.columns\\n #commo_cols = List_commo.columns\\n #print(f\"{len(arcs_cols)}\")\\n #print(f\"{arcs_cols[0]=}\")\\n #print(f\"{commo_cols[0]=}\")\\n \\n #print(List_arcs)\\n #print(List_commo)\\n #print(List_commo[\"From\"])\\n #print(List_commo[\"From\"].values)\\n \\n #print(List_arcs[\"From\"])\\n #wb = load_workbook(\"dt2.xlsx\", read_only=True)\\n #List_arcs = tuple(wb[\"Arcs\"].iter_rows())\\n #List_commo = tuple(wb[\"Commodities\"].iter_rows())\\n\\n#print(len(List_arcs))\\n#print(len(List_commo))\\n\\n# Defining objects with corresponding features\\nclass Arc:\\n def __init__(self,origin,destination,cost, capacity):\\n  self.From = origin\\n  self.To = destination\\n  self.Cost = cost\\n  self.Capac = capacity\\n\\nArcs = []\\nfor _ , row in List_arcs.iterrows():\\n  new_arc = Arc(row[\"From\"], row[\"To\"], row[\"Cost\"], row[\"Capac\"])\\n  Arcs.append(new_arc)\\n\\nclass Commodity:\\n def __init__(self,origin,destination, quantity):\\n  self.From = origin\\n  self.To = destination\\n  self.Quant = quantity\\n  \\nCommodities=[]\\nfor _ , row in List_commo.iterrows():\\n  new_commo = Commodity(row[\"From\"], row[\"To\"], row[\"Quant\"])\\n  Commodities.append(new_commo)\\n\\nclass Node:\\n def __init__(self, outlinks, inlinks):\\n  # Arcs that get in and out of the node\\n  self.OutLinks = outlinks# Relationship between new arc and info about in/out-links of node\\n  self.InLinks = inlinks\\n  def addOutLink(self,Node):\\n   self.OutLinks.appends(Node)\\n  def addInLink(self,Node):\\n   self.InLinks.append(Node)\\n  \\n\\nNodes= [\\n  Node([0], [3,4]),\\n  Node([1], [3,4]),\\n  Node([2], [3,4]),\\n  Node([3,4], [5,6,7])\\n]',\n",
       " '# Objective function and constrains\\nmodel = gp.Model( \"Model Minimize Cost\")\\n# Number of Arcs and Commodities Objects\\nnArcs = (len(List_arcs))\\nnCommo = (len(List_commo))\\nprint(nArcs)\\nprint(nCommo)\\n# Array storing OF and DV\\nx={}\\n# Defining OF and Decision variables\\nfor m in range(len(Arcs)):\\n for k in range(len(Commodities)):\\n   x[k, Arcs[m].From,Arcs[m].To] = model.addVar(obj=Arcs[m].Cost, vtype=\"C\", name = \"x(%d, %d, %d)\"%(k, Arcs[m].From,Arcs[m].To))\\n# Update with new variables and objective function\\nmodel.update()\\n# Array storing capacity number\\nCap = []\\n# Capacity constraint as num of Arcs\\nfor m in range(len(Arcs)):\\n  # Sum of k  <= Capacity\\n  Cap[Arcs[m].From, Arcs[m].To] = model.addConstr(quicksum(x[k, Arcs[m].From, Arcs[m].To] for k in range(len(Commodities))),\\'<=\\', Arcs[m].Capac, name = \"Capacity: (%d)\" %(m))\\n\\nprint(len(Cap))\\nfor i in range (len(Cap)):\\n  print(i)',\n",
       " '# Objective function and constrains\\nmodel = gp.Model( \"Model Minimize Cost\")\\n# Number of Arcs and Commodities Objects\\nnArcs = (len(List_arcs))\\nnCommo = (len(List_commo))\\nprint(nArcs)\\nprint(nCommo)\\n# Array storing OF and DV\\nx={}\\n# Defining OF and Decision variables\\nfor m in range(len(Arcs)):\\n for k in range(len(Commodities)):\\n   x[k, Arcs[m].From,Arcs[m].To] = model.addVar(obj=Arcs[m].Cost, vtype=\"C\", name = \"x(%d, %d, %d)\"%(k, Arcs[m].From,Arcs[m].To))\\n# Update with new variables and objective function\\nmodel.update()\\n# Array storing capacity number\\nCap = []\\n# Capacity constraint as num of Arcs\\nfor m in range(len(Arcs)):\\n  # Sum of k  <= Capacity\\n  print(f\"{Arcs[m].From=}\")\\n  print(f\"{Arcs[m].To=}\")\\n  Cap[Arcs[m].From, Arcs[m].To] = model.addConstr(quicksum(x[k, Arcs[m].From, Arcs[m].To] for k in range(len(Commodities))),\\'<=\\', Arcs[m].Capac, name = \"Capacity: (%d)\" %(m))\\n\\nprint(len(Cap))\\nfor i in range (len(Cap)):\\n  print(i)',\n",
       " '# Objective function and constrains\\nmodel = gp.Model( \"Model Minimize Cost\")\\n# Number of Arcs and Commodities Objects\\nnArcs = (len(List_arcs))\\nnCommo = (len(List_commo))\\nprint(nArcs)\\nprint(nCommo)\\n# Array storing OF and DV\\nx={}\\n# Defining OF and Decision variables\\nfor m in range(len(Arcs)):\\n for k in range(len(Commodities)):\\n   x[k, Arcs[m].From,Arcs[m].To] = model.addVar(obj=Arcs[m].Cost, vtype=\"C\", name = \"x(%d, %d, %d)\"%(k, Arcs[m].From,Arcs[m].To))\\n# Update with new variables and objective function\\nmodel.update()\\n# Array storing capacity number\\nCap = []\\n# Capacity constraint as num of Arcs\\nfor m in range(len(Arcs)):\\n  # Sum of k  <= Capacity\\n  print(f\"{Arcs[m].From=}\")\\n  print(f\"{Arcs[m].To=}\")\\n  Cap[int(Arcs[m].From), int(Arcs[m].To)] = model.addConstr(quicksum(x[k, Arcs[m].From, Arcs[m].To] for k in range(len(Commodities))),\\'<=\\', Arcs[m].Capac, name = \"Capacity: (%d)\" %(m))\\n\\nprint(len(Cap))\\nfor i in range (len(Cap)):\\n  print(i)',\n",
       " '# Objective function and constrains\\nmodel = gp.Model( \"Model Minimize Cost\")\\n# Number of Arcs and Commodities Objects\\nnArcs = (len(List_arcs))\\nnCommo = (len(List_commo))\\nprint(nArcs)\\nprint(nCommo)\\n# Array storing OF and DV\\nx={}\\n# Defining OF and Decision variables\\nfor m in range(len(Arcs)):\\n for k in range(len(Commodities)):\\n   x[k, Arcs[m].From,Arcs[m].To] = model.addVar(obj=Arcs[m].Cost, vtype=\"C\", name = \"x(%d, %d, %d)\"%(k, Arcs[m].From,Arcs[m].To))\\n# Update with new variables and objective function\\nmodel.update()\\n# Array storing capacity number\\nCap = []\\n# Capacity constraint as num of Arcs\\nfor m in range(len(Arcs)):\\n  # Sum of k  <= Capacity\\n  print(f\"{Arcs[m].From=}\")\\n  print(f\"{Arcs[m].To=}\")\\n  print(f\"{Arcs[m].To=}\")\\n  print(f\"{Arcs[m].Capac=}\")\\n  Cap[int(Arcs[m].From), int(Arcs[m].To)] = model.addConstr(quicksum(x[k, Arcs[m].From, Arcs[m].To] for k in range(len(Commodities))),\\'<=\\', Arcs[m].Capac, name = \"Capacity: (%d)\" %(m))\\n\\nprint(len(Cap))\\nfor i in range (len(Cap)):\\n  print(i)',\n",
       " '# Objective function and constrains\\nmodel = gp.Model( \"Model Minimize Cost\")\\n# Number of Arcs and Commodities Objects\\nnArcs = (len(List_arcs))\\nnCommo = (len(List_commo))\\nprint(nArcs)\\nprint(nCommo)\\n# Array storing OF and DV\\nx={}\\n# Defining OF and Decision variables\\nfor m in range(len(Arcs)):\\n for k in range(len(Commodities)):\\n   x[k, Arcs[m].From,Arcs[m].To] = model.addVar(obj=Arcs[m].Cost, vtype=\"C\", name = \"x(%d, %d, %d)\"%(k, Arcs[m].From,Arcs[m].To))\\n# Update with new variables and objective function\\nmodel.update()\\n# Array storing capacity number\\nCap = []\\n# Capacity constraint as num of Arcs\\nfor m in range(len(Arcs)):\\n  # Sum of k  <= Capacity\\n  print(Cap[0,1])\\n  Cap[Arcs[m].From, Arcs[m].To] = model.addConstr(quicksum(x[k, Arcs[m].From, Arcs[m].To] for k in range(len(Commodities))),\\'<=\\', Arcs[m].Capac, name = \"Capacity: (%d)\" %(m))\\n\\nprint(len(Cap))\\nfor i in range (len(Cap)):\\n  print(i)',\n",
       " '_ih[-10:]',\n",
       " '_ih[0]',\n",
       " '_ih[1]',\n",
       " '_ih[4]',\n",
       " '_ih[7]',\n",
       " '_ih[8]',\n",
       " '_ih[2]',\n",
       " '_ih[10]',\n",
       " '_ih[-10:]',\n",
       " '_ih[-20:]']"
      ]
     },
     "execution_count": 76,
     "metadata": {},
     "output_type": "execute_result"
    }
   ],
   "source": [
    "_ih[-20:]"
   ]
  },
  {
   "cell_type": "code",
   "execution_count": 97,
   "metadata": {},
   "outputs": [],
   "source": [
    "# Objective function and constrains\n",
    "model = gp.Model( \"Model Minimize Cost\")\n",
    "# Number of Arcs and Commodities Objects\n",
    "nArcs = (len(List_arcs)) # 13\n",
    "nCommo = (len(List_commo)) # 7\n",
    "# Array storing OF and DV\n",
    "x={}\n",
    "index=[]\n",
    "\n",
    "# Initialize the objective function\n",
    "objective = 0\n",
    "x={}\n",
    "# Loop over each arc and commodity\n",
    "for m in range(len(Arcs)):\n",
    "    for k in range(len(Commodities)):\n",
    "        x[k, Arcs[m].From, Arcs[m].To] = 0\n",
    "        # Multiply the quantity of the commodity by the cost of the arc\n",
    "        # and add this to the objective function\n",
    "        objective += Commodities[k].Quant * Arcs[m].Cost * x[k, Arcs[m].From, Arcs[m].To]\n",
    "\n",
    "\n",
    "\n",
    "\n",
    "\n",
    "'''\n",
    "# Defining OF and Decision variables\n",
    "for m in range(len(Arcs)): \n",
    "    for k in range(len(Commodities)):  \n",
    "        x[k, Arcs[m].From,Arcs[m].To] = model.addVar(obj=Arcs[m].Cost, vtype=\"C\", name = \"x(%d, %d, %d)\"%(k, Arcs[m].From,Arcs[m].To))\n",
    "        #print(k)\n",
    "        #print(Arcs[m].From)\n",
    "        #print(Arcs[m].To)\n",
    "        index.append((k, Arcs[m].From,Arcs[m].To))\n",
    "'''\n",
    "# Update with new variables and objective function\n",
    "model.update()\n",
    "# Array storing capacity number\n",
    "Cap = {}\n",
    "# Capacity constraint as num of Arcs\n",
    "for m in range(len(Arcs)):  \n",
    "    # Sum of k  <= Capacity\n",
    "    Cap[Arcs[m].From, Arcs[m].To] = model.addConstr(quicksum(x[k, Arcs[m].From, Arcs[m].To] for k in range(len(Commodities))),'<=', Arcs[m].Capac, name = \"Capacity: (%d)\" %(m))\n",
    "    #newCap = model.addConstr(quicksum(x[k, Arcs[m].From, Arcs[m].To] for k in range(len(Commodities))),'<=', Arcs[m].Capac, name = \"Capacity: (%d)\" %(m))\n",
    "    #Cap.append(newCap)\n",
    "# print(len(Cap))\n",
    "# for i in range (len(Cap)):\n",
    "#  print(i)"
   ]
  },
  {
   "cell_type": "code",
   "execution_count": 95,
   "metadata": {},
   "outputs": [
    {
     "ename": "KeyError",
     "evalue": "(0, 0, 0)",
     "output_type": "error",
     "traceback": [
      "\u001b[1;31m---------------------------------------------------------------------------\u001b[0m",
      "\u001b[1;31mKeyError\u001b[0m                                  Traceback (most recent call last)",
      "Cell \u001b[1;32mIn [95], line 25\u001b[0m\n\u001b[0;32m     20\u001b[0m    Continuity\u001b[39m.\u001b[39mappend(newContinuity) \n\u001b[0;32m     22\u001b[0m   \u001b[39m# Transition node\u001b[39;00m\n\u001b[0;32m     23\u001b[0m   \u001b[39melse\u001b[39;00m:\n\u001b[0;32m     24\u001b[0m    \u001b[39m# Out - In = 0\u001b[39;00m\n\u001b[1;32m---> 25\u001b[0m    Continuity[k,j] \u001b[39m=\u001b[39m model\u001b[39m.\u001b[39maddConstr(quicksum(x[k,j,p] \u001b[39mfor\u001b[39;49;00m p \u001b[39min\u001b[39;49;00m Nodes[j]\u001b[39m.\u001b[39;49mOutLinks) \u001b[39m-\u001b[39m quicksum(x[k,p,j] \u001b[39mfor\u001b[39;00m p \u001b[39min\u001b[39;00m Nodes[j]\u001b[39m.\u001b[39mInLinks),\u001b[39m'\u001b[39m\u001b[39m=\u001b[39m\u001b[39m'\u001b[39m, \u001b[39m0\u001b[39m, name\u001b[39m=\u001b[39m\u001b[39m'\u001b[39m\u001b[39mContinuity (\u001b[39m\u001b[39m%d\u001b[39;00m\u001b[39m, \u001b[39m\u001b[39m%d\u001b[39;00m\u001b[39m)\u001b[39m\u001b[39m'\u001b[39m\u001b[39m%\u001b[39m(k,j))\n\u001b[0;32m     26\u001b[0m    \u001b[39m#newContinuity = model.addConstr(quicksum(x[k,j,p] for p in Nodes[j].OutLinks) - quicksum(x[k,p,j] for p in Nodes[j].InLinks),'=', 0, name='Continuity (%d, %d)'%(k,j))\u001b[39;00m\n\u001b[0;32m     27\u001b[0m    \u001b[39m#Continuity.append(newContinuity)\u001b[39;00m\n\u001b[0;32m     28\u001b[0m \n\u001b[0;32m     29\u001b[0m \u001b[39m# Update model with rest constraints\u001b[39;00m\n\u001b[0;32m     30\u001b[0m  model\u001b[39m.\u001b[39mupdate()\n",
      "File \u001b[1;32msrc\\gurobipy\\gurobi.pxi:3631\u001b[0m, in \u001b[0;36mgurobipy.quicksum\u001b[1;34m()\u001b[0m\n",
      "Cell \u001b[1;32mIn [95], line 25\u001b[0m, in \u001b[0;36m<genexpr>\u001b[1;34m(.0)\u001b[0m\n\u001b[0;32m     20\u001b[0m    Continuity\u001b[39m.\u001b[39mappend(newContinuity) \n\u001b[0;32m     22\u001b[0m   \u001b[39m# Transition node\u001b[39;00m\n\u001b[0;32m     23\u001b[0m   \u001b[39melse\u001b[39;00m:\n\u001b[0;32m     24\u001b[0m    \u001b[39m# Out - In = 0\u001b[39;00m\n\u001b[1;32m---> 25\u001b[0m    Continuity[k,j] \u001b[39m=\u001b[39m model\u001b[39m.\u001b[39maddConstr(quicksum(x[k,j,p] \u001b[39mfor\u001b[39;00m p \u001b[39min\u001b[39;00m Nodes[j]\u001b[39m.\u001b[39mOutLinks) \u001b[39m-\u001b[39m quicksum(x[k,p,j] \u001b[39mfor\u001b[39;00m p \u001b[39min\u001b[39;00m Nodes[j]\u001b[39m.\u001b[39mInLinks),\u001b[39m'\u001b[39m\u001b[39m=\u001b[39m\u001b[39m'\u001b[39m, \u001b[39m0\u001b[39m, name\u001b[39m=\u001b[39m\u001b[39m'\u001b[39m\u001b[39mContinuity (\u001b[39m\u001b[39m%d\u001b[39;00m\u001b[39m, \u001b[39m\u001b[39m%d\u001b[39;00m\u001b[39m)\u001b[39m\u001b[39m'\u001b[39m\u001b[39m%\u001b[39m(k,j))\n\u001b[0;32m     26\u001b[0m    \u001b[39m#newContinuity = model.addConstr(quicksum(x[k,j,p] for p in Nodes[j].OutLinks) - quicksum(x[k,p,j] for p in Nodes[j].InLinks),'=', 0, name='Continuity (%d, %d)'%(k,j))\u001b[39;00m\n\u001b[0;32m     27\u001b[0m    \u001b[39m#Continuity.append(newContinuity)\u001b[39;00m\n\u001b[0;32m     28\u001b[0m \n\u001b[0;32m     29\u001b[0m \u001b[39m# Update model with rest constraints\u001b[39;00m\n\u001b[0;32m     30\u001b[0m  model\u001b[39m.\u001b[39mupdate()\n",
      "\u001b[1;31mKeyError\u001b[0m: (0, 0, 0)"
     ]
    }
   ],
   "source": [
    "# Set of Commodity Flow Constraints\n",
    "Continuity = {}\n",
    "# Num of nodes\n",
    "nCommo = len(Commodities)\n",
    "nNodes = len(Nodes)\n",
    "# Iterate through each commodity and node\n",
    "for k in range (nCommo):\n",
    " for j in range (nNodes):\n",
    "  # Node is origin of commodity k\n",
    "  if j == Commodities[k].From:\n",
    "   # Out links - In links = Quantity generated in origin node\n",
    "   #Continuity[k,j] = model.addConstr(quicksum(x[k,j,p] for p in Nodes[j].OutLinks) - quicksum(x[k,p,j] for p in Nodes[j].InLinks),'=', Commodities[k].Quant, name = 'Continuity(%d, %d)'%(k,j))\n",
    "   newContinuity = model.addConstr(quicksum (x [k,j,p] for p in Nodes [j]. OutLinks) - quicksum (x [k, p,j] for p in Nodes [j]. InLinks),'=', Commodities [k].Quant, name = 'Continuity(%d, %d)' %(k,j) )\n",
    "   Continuity.append(newContinuity)\n",
    "  # Destination Node\n",
    "  elif j == Commodities[k].To:\n",
    "   # Out - In = - Demand (if node i is a destination)\n",
    "   #Continuity[k,j] = model.addConstr(quicksum(x[k,j,p] for p in Nodes[j].OutLinks) - quicksum(x[k,p,j] for p in Nodes[j].InLinks),'=', - Commodities[k].Quant, name='Continuity(%d, %d)'%(k,j))\n",
    "   newContinuity = model.addConstr(quicksum(x[k,j,p] for p in Nodes[j].OutLinks) - quicksum(x[k,p,j] for p in Nodes[j].InLinks),'=', - Commodities[k].Quant, name='Continuity(%d, %d)'%(k,j))\n",
    "   Continuity.append(newContinuity) \n",
    "  \n",
    "  # Transition node\n",
    "  else:\n",
    "   # Out - In = 0\n",
    "   Continuity[k,j] = model.addConstr(quicksum(x[k,j,p] for p in Nodes[j].OutLinks) - quicksum(x[k,p,j] for p in Nodes[j].InLinks),'=', 0, name='Continuity (%d, %d)'%(k,j))\n",
    "   #newContinuity = model.addConstr(quicksum(x[k,j,p] for p in Nodes[j].OutLinks) - quicksum(x[k,p,j] for p in Nodes[j].InLinks),'=', 0, name='Continuity (%d, %d)'%(k,j))\n",
    "   #Continuity.append(newContinuity)\n",
    "\n",
    "# Update model with rest constraints\n",
    " model.update()"
   ]
  },
  {
   "cell_type": "code",
   "execution_count": 98,
   "metadata": {},
   "outputs": [
    {
     "name": "stdout",
     "output_type": "stream",
     "text": [
      "Gurobi Optimizer version 9.5.2 build v9.5.2rc0 (win64)\n",
      "Thread count: 6 physical cores, 6 logical processors, using up to 6 threads\n",
      "Optimize a model with 0 rows, 0 columns and 0 nonzeros\n",
      "Model fingerprint: 0xf9715da1\n",
      "Coefficient statistics:\n",
      "  Matrix range     [0e+00, 0e+00]\n",
      "  Objective range  [0e+00, 0e+00]\n",
      "  Bounds range     [0e+00, 0e+00]\n",
      "  RHS range        [0e+00, 0e+00]\n",
      "Presolve time: 0.01s\n",
      "Presolve: All rows and columns removed\n",
      "Iteration    Objective       Primal Inf.    Dual Inf.      Time\n",
      "       0    0.0000000e+00   0.000000e+00   0.000000e+00      0s\n",
      "\n",
      "Solved in 0 iterations and 0.01 seconds (0.00 work units)\n",
      "Optimal objective  0.000000000e+00\n"
     ]
    }
   ],
   "source": [
    "# RUN\n",
    "# Create lp file for better debugging\n",
    "model.write(\"Model.lp\")\n",
    "model.optimize()\n",
    "\n",
    "# Check status\n",
    " # Optimal\n",
    " # Unbouded\n",
    " # Infeasable\n",
    " # Sub-optimal\n",
    "status = model.status\n",
    "if status!= GRB.Status.OPTIMAL:\n",
    "  if status == GRB. Status.UNBOUNDED:\n",
    "   print('The model cannot be solved because it is unbounded')\n",
    "  elif status ==GRB.Status.INFEASIBLE:\n",
    "    print('The model is infeasible; computing IIS')\n",
    "    model.computeIIS()\n",
    "    print('\\nThe following constraint (s) cannot be satisfied: ')\n",
    "    for c in model.getConstrs():\n",
    "      if c.IISConstr:\n",
    "        print('%s' % c.constrName)\n",
    "  elif status!=GRB.Status.INF_OR_UNBD:\n",
    "     print('Optimization was stopped with status %d' % status)\n",
    "  exit(0)"
   ]
  },
  {
   "cell_type": "markdown",
   "metadata": {},
   "source": [
    "### Conclusion\n",
    "- ..."
   ]
  },
  {
   "cell_type": "markdown",
   "metadata": {},
   "source": [
    "### 2. Non-linear optimization"
   ]
  },
  {
   "cell_type": "markdown",
   "metadata": {},
   "source": []
  }
 ],
 "metadata": {
  "kernelspec": {
   "display_name": "Python 3.10.6 64-bit",
   "language": "python",
   "name": "python3"
  },
  "language_info": {
   "codemirror_mode": {
    "name": "ipython",
    "version": 3
   },
   "file_extension": ".py",
   "mimetype": "text/x-python",
   "name": "python",
   "nbconvert_exporter": "python",
   "pygments_lexer": "ipython3",
   "version": "3.10.6"
  },
  "orig_nbformat": 4,
  "vscode": {
   "interpreter": {
    "hash": "369f2c481f4da34e4445cda3fffd2e751bd1c4d706f27375911949ba6bb62e1c"
   }
  }
 },
 "nbformat": 4,
 "nbformat_minor": 2
}
