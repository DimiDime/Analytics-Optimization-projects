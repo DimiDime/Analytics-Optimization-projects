{
 "cells": [
  {
   "cell_type": "markdown",
   "metadata": {},
   "source": [
    "![uc3m](img/uc3m.jpg)"
   ]
  },
  {
   "cell_type": "markdown",
   "metadata": {},
   "source": [
    "# The diet problem\n",
    "\n",
    "<a href=\"http://www.est.uc3m.es/nogales\" target=\"_blank\">Javier Nogales</a>"
   ]
  },
  {
   "cell_type": "markdown",
   "metadata": {},
   "source": [
    "## Summary\n",
    "\n",
    "Suppose we want to design a *good* weekly diet at McDonalds. What could we do? \n",
    "\n",
    "For good diet, we mean some weekly nutritional requirements are satisfied, and we do not want to spend too much money.\n",
    "\n",
    "Data: McDonald’s provides a brochure with detailed nutritional information for every item on the menu\n",
    "\n",
    "See this calculator: https://www.mcdonalds.com/us/en-us/about-our-food/nutrition-calculator.html\n",
    "\n",
    "In addition, we know the prices for McDonald's items\n",
    "\n",
    "![](img/macdonalds.png)\n",
    "\n",
    "The goal of the Diet Problem is to select foods that satisfy weekly nutritional requirements at minimum cost. This problem can be formulated as a linear model, where constraints limit the number of calories and the amount of vitamins, minerals, fats, sodium, and cholesterol in the diet. \n",
    "\n",
    "This problem was used by the US Army in the World War II to minimize the cost of feeding soldiers in the field while still providing a healthy diet.\n",
    "\n",
    "## Problem Statement\n",
    "\n",
    "The Diet Problem can be formulated mathematically as a linear programming problem using the following model.  \n",
    "\n",
    "### Sets\n",
    "\n",
    " $F$ = set of foods  \n",
    " $N$ = set of nutrients\n",
    "\n",
    "### Parameters\n",
    "\n",
    " $c_i$ = cost per serving of food $i$, $\\forall i \\in F$  \n",
    " $a_{ij}$ = amount of nutrient $j$ in food $i$, $\\forall i \\in F, \\forall j \\in N$  \n",
    " $Nmin_j$ = minimum level of nutrient $j$, $\\forall j \\in N$  \n",
    " $Nmax_j$ = maximum level of nutrient $j$, $\\forall j \\in N$  \n",
    "\n",
    " \n",
    "### Variables\n",
    " $x_i$ = number of servings of food $i$ to consume\n",
    "\n",
    "### Objective\n",
    "\n",
    "Minimize the total cost of the food  \n",
    " $\\min \\sum_{i \\in F} c_i x_i$\n",
    "\n",
    "### Constraints\n",
    "\n",
    "Limit nutrient consumption for each nutrient $j \\in N$.  \n",
    " $Nmin_j \\leq \\sum_{i \\in F} a_{ij} x_i \\leq Nmax_j$, $\\forall j \\in N$\n",
    "\n",
    " \n",
    "Consumption lower bound  \n",
    " $x_i \\geq 0$, $\\forall i \\in F$"
   ]
  },
  {
   "cell_type": "markdown",
   "metadata": {},
   "source": [
    "## Formulation with Pyomo\n",
    "\n",
    "In this case, will use the AbstractModel() to separate the model from the data"
   ]
  },
  {
   "cell_type": "markdown",
   "metadata": {},
   "source": [
    "### The data\n",
    "\n",
    "We write a .py file for the model, or we can load our own .py file\n",
    "\n"
   ]
  },
  {
   "cell_type": "code",
   "execution_count": null,
   "metadata": {},
   "outputs": [],
   "source": [
    "%%writefile diet.dat\n",
    "\n",
    "# enter data using dictionary format: \n",
    "\n",
    "# prices/costs for items (as in 2000)\n",
    "param:  F:                       c :=\n",
    "  \"Cheeseburger\"                 1.84    \n",
    "  \"Ham Sandwich\"                 2.19    \n",
    "  \"Hamburger\"                    1.84    \n",
    "  \"Fish Sandwich\"                1.44    \n",
    "  \"Chicken Sandwich\"             2.29    \n",
    "  \"Fries\"                         .77    \n",
    "  \"Sausage Biscuit\"              1.29    \n",
    "  \"Lowfat Milk\"                   .60   \n",
    "  \"Orange Juice\"                  .72 ;\n",
    "\n",
    "# nutritional limits\n",
    "param:  N:       Nmin   Nmax :=\n",
    "        Cal      2000      .\n",
    "        Carbo     350    375\n",
    "        Protein    55      .\n",
    "        VitA      100      .\n",
    "        VitC      100      .\n",
    "        Calc      100      .\n",
    "        Iron      100      . ;\n",
    "\n",
    "# nutritional information for each item\n",
    "param a:\n",
    "                               Cal  Carbo Protein   VitA   VitC  Calc  Iron :=\n",
    "  \"Cheeseburger\"               510     34     28     15      6    30    20\n",
    "  \"Ham Sandwich\"               370     35     24     15     10    20    20\n",
    "  \"Hamburger\"                  500     42     25      6      2    25    20\n",
    "  \"Fish Sandwich\"              370     38     14      2      0    15    10\n",
    "  \"Chicken Sandwich\"           400     42     31      8     15    15     8\n",
    "  \"Fries\"                      220     26      3      0     15     0     2\n",
    "  \"Sausage Biscuit\"            345     27     15      4      0    20    15\n",
    "  \"Lowfat Milk\"                110     12      9     10      4    30     0\n",
    "  \"Orange Juice\"                80     20      1      2    120     2     2 ;\n"
   ]
  },
  {
   "cell_type": "markdown",
   "metadata": {},
   "source": [
    "### The model\n",
    "\n",
    "We are going to assume the variables are real, that is we can have 72% of a sandwich\n",
    "\n",
    "We write a .dat file for the data, or we can load our .dat file"
   ]
  },
  {
   "cell_type": "code",
   "execution_count": null,
   "metadata": {},
   "outputs": [],
   "source": [
    "%%writefile diet.py\n",
    "\n",
    "from pyomo.environ import *\n",
    "\n",
    "# define the infinity number\n",
    "infinity = float('inf')\n",
    "\n",
    "# Use here the abstract way\n",
    "model = AbstractModel()\n",
    "\n",
    "# Definition of data (sets and params)\n",
    "\n",
    "# Foods\n",
    "model.F = Set()\n",
    "# Nutrients\n",
    "model.N = Set()\n",
    "\n",
    "# Cost of each food\n",
    "model.c    = Param(model.F, within=PositiveReals)\n",
    "\n",
    "# Amount of nutrient in each food\n",
    "model.a    = Param(model.F, model.N, within=NonNegativeReals)\n",
    "\n",
    "# Lower and upper bound on each nutrient\n",
    "model.Nmin = Param(model.N, within=NonNegativeReals, default=0.0)\n",
    "model.Nmax = Param(model.N, within=NonNegativeReals, default=infinity)\n",
    "\n",
    "# Definition of model (vars, obj, and constraints)\n",
    "\n",
    "# Number of servings consumed of each food\n",
    "model.x = Var(model.F, within=NonNegativeReals)\n",
    "\n",
    "# Minimize the cost of food that is consumed\n",
    "def cost_rule(model):\n",
    "    return sum(model.c[i]*model.x[i] for i in model.F)\n",
    "model.cost = Objective(rule=cost_rule)\n",
    "\n",
    "# Lower limit nutrient consumption for each nutrient\n",
    "def lower_nutrient_rule(model, j):\n",
    "    value = sum(model.a[i,j]*model.x[i] for i in model.F)\n",
    "    return value >= model.Nmin[j]\n",
    "model.lower_nutrient_limit = Constraint(model.N, rule=lower_nutrient_rule)\n",
    "\n",
    "# Upper limit nutrient consumption for each nutrient\n",
    "def upper_nutrient_rule(model, j):\n",
    "    value = sum(model.a[i,j]*model.x[i] for i in model.F)\n",
    "    return value <= model.Nmax[j]\n",
    "model.upper_nutrient_limit = Constraint(model.N, rule=upper_nutrient_rule)\n",
    "\n"
   ]
  },
  {
   "cell_type": "markdown",
   "metadata": {},
   "source": [
    "### The solution\n",
    "\n",
    "Pyomo includes a command that automates the construction and optimization of models\n",
    "\n",
    "We can use it to join the data and the model in the solution process\n",
    "\n",
    "The GLPK solver (free) can be used as the LP algorithm"
   ]
  },
  {
   "cell_type": "code",
   "execution_count": null,
   "metadata": {},
   "outputs": [],
   "source": [
    "!pyomo solve --solver=glpk diet.py diet.dat --summary"
   ]
  },
  {
   "cell_type": "markdown",
   "metadata": {},
   "source": [
    "By default, the optimization results are stored in the file results.yml, which is a human friendly data serialization standard. To read it in Python, you need to install first the yaml package (in case you don't have it):\n",
    "\n",
    "    conda install -c anaconda pyyaml"
   ]
  },
  {
   "cell_type": "code",
   "execution_count": null,
   "metadata": {},
   "outputs": [],
   "source": [
    "cat results.yml"
   ]
  },
  {
   "cell_type": "markdown",
   "metadata": {},
   "source": [
    "### Interpretation\n",
    "\n",
    "This solution shows that for about 15 eur per week, a person can have around 4.38 cheeseburgers, 6.15 fries, and 3.4 lowfat milks\n",
    "\n",
    "This seems a reasonable trade-off between a cheap and healthy diet"
   ]
  },
  {
   "cell_type": "markdown",
   "metadata": {},
   "source": [
    "\n",
    "What would be the cost if the maximum ammount of calories is 3500?\n"
   ]
  },
  {
   "cell_type": "code",
   "execution_count": null,
   "metadata": {},
   "outputs": [],
   "source": [
    "#### INSERT YOUR CODE BELOW"
   ]
  },
  {
   "cell_type": "code",
   "execution_count": null,
   "metadata": {},
   "outputs": [],
   "source": []
  },
  {
   "cell_type": "code",
   "execution_count": null,
   "metadata": {},
   "outputs": [],
   "source": []
  },
  {
   "cell_type": "markdown",
   "metadata": {},
   "source": [
    "\n",
    "Try to improve the diet with two new foods. To do that, investigate other foods and think how they can afect the result. Can you attain a new diet satisfying the original constraints but with less than 3000 calories?\n"
   ]
  },
  {
   "cell_type": "code",
   "execution_count": null,
   "metadata": {},
   "outputs": [],
   "source": [
    "#### INSERT YOUR CODE BELOW"
   ]
  },
  {
   "cell_type": "markdown",
   "metadata": {},
   "source": [
    "\n",
    "What is the most critical nutrient? To answer, you can relax the minimum amount of each nutrient by 10% and see how the total cost of the diet varies\n"
   ]
  },
  {
   "cell_type": "code",
   "execution_count": null,
   "metadata": {},
   "outputs": [],
   "source": [
    "#### INSERT YOUR CODE BELOW"
   ]
  },
  {
   "cell_type": "code",
   "execution_count": null,
   "metadata": {
    "scrolled": true
   },
   "outputs": [],
   "source": []
  },
  {
   "cell_type": "markdown",
   "metadata": {},
   "source": [
    "### We are done"
   ]
  },
  {
   "cell_type": "markdown",
   "metadata": {},
   "source": [
    "![uc3m](img/wedidit.png)"
   ]
  },
  {
   "cell_type": "code",
   "execution_count": null,
   "metadata": {},
   "outputs": [],
   "source": []
  }
 ],
 "metadata": {
  "kernelspec": {
   "display_name": "Python 3",
   "language": "python",
   "name": "python3"
  },
  "language_info": {
   "codemirror_mode": {
    "name": "ipython",
    "version": 3
   },
   "file_extension": ".py",
   "mimetype": "text/x-python",
   "name": "python",
   "nbconvert_exporter": "python",
   "pygments_lexer": "ipython3",
   "version": "3.7.4"
  }
 },
 "nbformat": 4,
 "nbformat_minor": 2
}
