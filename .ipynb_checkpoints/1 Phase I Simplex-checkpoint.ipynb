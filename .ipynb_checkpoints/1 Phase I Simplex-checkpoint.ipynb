{
 "cells": [
  {
   "cell_type": "markdown",
   "metadata": {},
   "source": [
    "![uc3m](img/uc3m.jpg)"
   ]
  },
  {
   "cell_type": "markdown",
   "metadata": {},
   "source": [
    "# Simplex Initialization\n",
    "\n",
    "<a href=\"http://www.est.uc3m.es/nogales\" target=\"_blank\">Javier Nogales</a>"
   ]
  },
  {
   "cell_type": "markdown",
   "metadata": {},
   "source": [
    "![](img/PhaseI.png)"
   ]
  },
  {
   "cell_type": "markdown",
   "metadata": {},
   "source": [
    "### Example\n",
    "\n",
    "maximize $x_1 + x_2$\n",
    "\n",
    "subject to $3x_1+2x_2\\leq 4$\n",
    "\n",
    "&nbsp;  &nbsp;  &nbsp;  &nbsp; $-x_2\\geq -3$\n",
    "\n",
    "&nbsp;  &nbsp;  &nbsp;  &nbsp; $x_1, x_2\\geq 0$\n",
    "\n",
    "    # A= ( 2 2 1 0 )\n",
    "        #  1 0 0 1\n",
    "\n"
   ]
  },
  {
   "cell_type": "code",
   "execution_count": 4,
   "metadata": {},
   "outputs": [
    {
     "name": "stdout",
     "output_type": "stream",
     "text": [
      "[[3 2 1 0]\n",
      " [0 1 0 1]] [4 3] [-1 -1  0  0]\n"
     ]
    }
   ],
   "source": [
    "import numpy as np\n",
    "\n",
    "# INSERT THE INPUT HERE\n",
    "A = np.array([[3, 2, 1, 0], [0, 1, 0, 1]])\n",
    "b = np.array([4, 3])\n",
    "c = np.array([-1, -1, 0, 0])\n",
    "\n",
    "# Define problem dimension\n",
    "(m,n)=A.shape\n",
    "\n",
    "# Take care: vector b must be positive, otherwise multiply the row by -1\n",
    "A[[i for i in range(m) if b[i] < 0]] *= -1\n",
    "b = np.abs(b)  \n",
    "\n",
    "# We are assuming rank(A)==m\n",
    "if np.linalg.matrix_rank(A) < m:\n",
    "    print(\"Warning: degenerate problem\")\n",
    "\n",
    "print(A,b,c)"
   ]
  },
  {
   "cell_type": "markdown",
   "metadata": {},
   "source": [
    "### Auxiliary problem\n",
    "\n",
    "The dimension is now: $(x,z)$\n",
    "\n",
    "Cost vector is: $(0,e)$\n",
    "\n",
    "Constraint matrix is $(A\\ I)$"
   ]
  },
  {
   "cell_type": "code",
   "execution_count": 5,
   "metadata": {},
   "outputs": [
    {
     "name": "stdout",
     "output_type": "stream",
     "text": [
      "[[3. 2. 1. 0. 1. 0.]\n",
      " [0. 1. 0. 1. 0. 1.]]\n",
      "[4 3]\n",
      "[0. 0. 0. 0. 1. 1.]\n",
      "Optimization terminated successfully.\n",
      "         Current function value: 0.000000    \n",
      "         Iterations: 3\n",
      "Optimal value: 0.0 \n",
      "X: [0. 2. 0. 1. 0. 0.]\n"
     ]
    }
   ],
   "source": [
    "# Auxiliary definition\n",
    "\n",
    "A_aux = np.concatenate((A, np.identity(m)), axis=1) \n",
    "b_aux = b\n",
    "c_aux = np.concatenate((np.zeros(n), np.ones(m)))  \n",
    "\n",
    "print(A_aux)\n",
    "print(b_aux)\n",
    "print(c_aux)\n",
    "\n",
    "from scipy.optimize import linprog\n",
    "\n",
    "sol = linprog(c_aux, A_eq=A_aux, b_eq=b_aux, bounds=(0, None), method=\"simplex\",options={\"disp\": True})\n",
    "\n",
    "print('Optimal value:', sol.fun, '\\nX:', sol.x)\n",
    "# if one of the last two numbers in not 0 -> impossible to find corner!!!!"
   ]
  },
  {
   "cell_type": "markdown",
   "metadata": {},
   "source": [
    "We can get now $x_0$ from previous solution"
   ]
  },
  {
   "cell_type": "code",
   "execution_count": 4,
   "metadata": {},
   "outputs": [
    {
     "name": "stdout",
     "output_type": "stream",
     "text": [
      "[0. 2. 0. 1.]\n",
      "Optimization terminated successfully.\n",
      "         Current function value: -2.000000   \n",
      "         Iterations: 3\n",
      "Optimal value: -2.0 \n",
      "X: [0. 2. 0. 1.]\n",
      "[-1 -1  0  0]\n"
     ]
    }
   ],
   "source": [
    "x0 = sol.x[range(n)]\n",
    "print(x0)\n",
    "\n",
    "# INSERT YOUR SOLUTION HERE\n",
    "sol = \n",
    "\n",
    "print('Optimal value:', sol.fun, '\\nX:', sol.x)\n",
    "\n",
    "print(c)"
   ]
  },
  {
   "cell_type": "code",
   "execution_count": null,
   "metadata": {},
   "outputs": [],
   "source": []
  }
 ],
 "metadata": {
  "kernelspec": {
   "display_name": "Python 3 (ipykernel)",
   "language": "python",
   "name": "python3"
  },
  "language_info": {
   "codemirror_mode": {
    "name": "ipython",
    "version": 3
   },
   "file_extension": ".py",
   "mimetype": "text/x-python",
   "name": "python",
   "nbconvert_exporter": "python",
   "pygments_lexer": "ipython3",
   "version": "3.9.12"
  }
 },
 "nbformat": 4,
 "nbformat_minor": 2
}
