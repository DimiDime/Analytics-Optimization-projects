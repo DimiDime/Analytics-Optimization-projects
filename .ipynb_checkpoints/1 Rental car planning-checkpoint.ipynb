{
 "cells": [
  {
   "cell_type": "markdown",
   "metadata": {},
   "source": [
    "![uc3m](img/uc3m.jpg)"
   ]
  },
  {
   "cell_type": "markdown",
   "metadata": {},
   "source": [
    "# The Rental Car Planning Problem\n",
    "\n",
    "<a href=\"http://www.est.uc3m.es/nogales\" target=\"_blank\">Javier Nogales</a>\n",
    "\n"
   ]
  },
  {
   "cell_type": "markdown",
   "metadata": {},
   "source": [
    "## Summary\n",
    "\n",
    "Every week, a company must arrange rental cars for the travels of its executives\n",
    "\n",
    "For the next week, the daily car requirements of the\n",
    "executives are the following:\n",
    "\n",
    "\n",
    "|     | Sat | Sun | Mon | Tue | Wed | Thu | Fry |\n",
    "| --- | --- | --- | --- | --- | --- | --- | --- |\n",
    "| Requirement | 2 | 5 | 10 | 9 | 16 | 7 | 11 |\n",
    "\n",
    "\n",
    "A car rental agency offers the following rental prices per car (in euros) for the company:\n",
    "\n",
    "|  | Price |\n",
    "| --- | --- |\n",
    "| Daily cost Sat/Sun | 35 |\n",
    "| Daily cost weekday | 50 |\n",
    "| Three-day plan (three consecutive weekdays) | 125 |\n",
    "| Weekend plan (Sat and Sun) | 60 |\n",
    "| All-weekdays plan (Mon though Fri) | 180 |\n",
    "| All-week plan (Sat through Fri) | 200 |\n",
    "\n",
    "You need to give advice to the company about the optimal car rental for the following week\n",
    "\n",
    "![uc3m](img/rental.jpg)\n",
    "\n",
    "\n",
    "\n",
    "    \n",
    "\n",
    "\n",
    "\n",
    "\n"
   ]
  },
  {
   "cell_type": "markdown",
   "metadata": {},
   "source": [
    "## Modeling\n",
    "\n",
    "Add here the variables, objective function and constraints\n",
    "\n",
    "Xij = # cars using plan j\n",
    "\n",
    "MIN\n",
    "35(X11+X12) + 50(X23+...+X27) + 125(X33 + X34 + X35) + 60*X4 + 180*X5 + 200*X6\n"
   ]
  },
  {
   "cell_type": "markdown",
   "metadata": {},
   "source": [
    "## Formulation with Pyomo\n"
   ]
  },
  {
   "cell_type": "markdown",
   "metadata": {},
   "source": [
    "### The data\n",
    "\n"
   ]
  },
  {
   "cell_type": "code",
   "execution_count": 1,
   "metadata": {},
   "outputs": [],
   "source": [
    "### Define here the input (data)\n",
    "\n",
    "import numpy as np\n",
    "\n",
    "# enter data as numpy arrays\n",
    "\n",
    "# Prices for objective function\n",
    "# order is: x(11), x(12), x(21), ..., x(6)\n",
    "c = np.array([35, 35, 50, 50, 50, 50, 50, 125, 125, 125, 60, 180, 200])\n",
    "\n",
    "# Data matrix for constraints\n",
    "# columns are in the same order as before\n",
    "# rows go from Sat to Fri \n",
    "A = np.array([[1, 0, 0, 0, 0, 0, 0, 0, 0, 0, 1, 0, 1], \n",
    "              [0, 1, 0, 0, 0, 0, 0, 0, 0, 0, 1, 0, 1],\n",
    "              [0, 0, 1, 0, 0, 0, 0, 1, 0, 0, 0, 1, 1],\n",
    "              [0, 0, 0, 1, 0, 0, 0, 1, 1, 0, 0, 1, 1],\n",
    "              [0, 0, 0, 0, 1, 0, 0, 1, 1, 1, 0, 1, 1],\n",
    "              [0, 0, 0, 0, 0, 1, 0, 0, 1, 1, 0, 1, 1],\n",
    "              [0, 0, 0, 0, 0, 0, 1, 0, 0, 1, 0, 1, 1]\n",
    "             ])\n",
    "\n",
    "# Requirements\n",
    "b = np.array([2, 5, 10, 9, 16, 7, 11])\n",
    "\n",
    "# set of row indices\n",
    "I = range(len(A))\n",
    "\n",
    "# set of column indices\n",
    "J = range(len(A.T))"
   ]
  },
  {
   "cell_type": "code",
   "execution_count": 7,
   "metadata": {},
   "outputs": [],
   "source": [
    "### Write here the code\n",
    "\n",
    "from pyomo.environ import *\n",
    "\n",
    "model = ConcreteModel()\n",
    "\n",
    "model.x = Var(J, within = NonNegativeReals) # J: 13 Within: X>= 0\n",
    "\n",
    "model.objective = Objective(expr = sum(model.x[j] * c[j] for j in J)) # Sum product\n",
    "\n",
    "model.constraints = ConstraintList()\n",
    "for i in I:\n",
    "    model.constraints.add(sum(A[i,j]*model.x[j] for j in J) >= b[i]) # pyomo does not admit numpy inside"
   ]
  },
  {
   "cell_type": "code",
   "execution_count": null,
   "metadata": {
    "scrolled": true
   },
   "outputs": [],
   "source": [
    "### Solve the problem\n",
    "\n",
    "# Define the solver\n",
    "opt = SolverFactory('glpk')\n",
    "\n",
    "# to include marginal prices\n",
    "model.dual = Suffix(direction=Suffix.IMPORT) \n",
    "\n",
    "# Solve\n",
    "results = opt.solve(model)  # solve the model with the selected solver\n",
    " \n",
    "model.display()"
   ]
  },
  {
   "cell_type": "markdown",
   "metadata": {},
   "source": [
    "### Interpretation\n",
    "\n",
    "\n",
    "Write here the interpretation (the optimal cost is 2210 eur)"
   ]
  },
  {
   "cell_type": "markdown",
   "metadata": {},
   "source": [
    "Questions:\n",
    "\n",
    "- What would change if your estimated requirement for Friday would increase by one?\n",
    "\n",
    "- And if that unit increase would affect the requirement on Saturday?\n",
    "\n",
    "- Which day of the week is the most sensitive to a unit increase in the requirement?\n",
    "\n"
   ]
  },
  {
   "cell_type": "code",
   "execution_count": null,
   "metadata": {},
   "outputs": [],
   "source": []
  }
 ],
 "metadata": {
  "kernelspec": {
   "display_name": "Python 3 (ipykernel)",
   "language": "python",
   "name": "python3"
  },
  "language_info": {
   "codemirror_mode": {
    "name": "ipython",
    "version": 3
   },
   "file_extension": ".py",
   "mimetype": "text/x-python",
   "name": "python",
   "nbconvert_exporter": "python",
   "pygments_lexer": "ipython3",
   "version": "3.9.12"
  }
 },
 "nbformat": 4,
 "nbformat_minor": 2
}
