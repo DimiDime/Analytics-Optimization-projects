{
 "cells": [
  {
   "cell_type": "markdown",
   "metadata": {},
   "source": [
    "![uc3m](img/uc3m.jpg)"
   ]
  },
  {
   "cell_type": "markdown",
   "metadata": {},
   "source": [
    "# Project Selection\n",
    "\n",
    "<a href=\"http://www.est.uc3m.es/nogales\" target=\"_blank\">Javier Nogales</a>"
   ]
  },
  {
   "cell_type": "markdown",
   "metadata": {},
   "source": [
    "## Summary\n",
    "\n",
    "<li>A company is evaluating 5 projects to develop during the next 3 years.\n",
    "\n",
    "<li>These projects require an investment during the 3 years period.\n",
    "\n",
    "<li>There is a maximum budget per year of $25$ million euros.\n",
    "\n",
    "<li>Which are the projects to be selected to <font color=\"red\">maximize</font> total profits?\n",
    "\n",
    "<li>The expected profit from each project (millions of euros) and the investment that needs to be made for each project \n",
    "and year (millions of euros) are:\n",
    "\n",
    " Project | Inv. t=1 | Inv. t=2 | Inv. t=3 | Profit\n",
    " -------|--------|--|--|---------\n",
    "  1 |  5 | 1 | 8  | 20\n",
    "  2 |  4 | 7 | 10 | 40\n",
    "  3 |  3 | 9 | 2  |  20\n",
    "  4 |  7 | 4 | 1  |  15\n",
    "  5 |  8 | 6 | 10 |  30\n",
    "\n",
    "\n",
    "<li> <font color=\"blue\">Decision variables:</font>\n",
    "$$\n",
    "x_i =\n",
    "\\left\\{\\begin{array}{ll} \n",
    "1, & \\text{if project $i$ is selected,}\\\\\n",
    "0, & \\text{if project $i$ is not selected}\n",
    "\\end{array} \\right.\\quad i=1,2,3,4,5\n",
    "$$\n",
    "\n",
    "<li> <font color=\"blue\">Objective:</font> maximize total expected profit.\n",
    "$$\n",
    "20 x_1 + 40 x_2 + 20 x_3 + 15 x_4 + 30 x_5\n",
    "$$\n",
    "\n",
    "\n",
    "<li><font color=\"blue\">Constraints:</font>\n",
    "<ul>\n",
    "\n",
    "<li>Anual project's budget:\n",
    "$$\n",
    "\\begin{array}{ll}\n",
    "5x_1 + 4 x_2 + 3 x_3 + 7 x_4 + 8 x_5 \\leq 25 & \\text{(year 1 budget)}\n",
    "\\\\\n",
    "1x_1 + 7 x_2 + 9 x_3 + 4 x_4 + 6 x_5 \\leq 25 & \\text{(year 2 budget)}\n",
    "\\\\\n",
    "8 x_1 + 10 x_2 + 2 x_3 + 1 x_4 + 10 x_5 \\leq 25 &\n",
    "\\text{(year 3 budget)}\n",
    "\\end{array}\n",
    "$$\n",
    "\n",
    "<li>Binary variables:\n",
    "$$\n",
    "x_i \\in \\{ 0,1\\}, i=1,2,3,4,5\n",
    "$$\n",
    "</ul>\n",
    "\n",
    "\n"
   ]
  },
  {
   "cell_type": "markdown",
   "metadata": {},
   "source": [
    "## Formulation with Pyomo\n",
    "\n"
   ]
  },
  {
   "cell_type": "code",
   "execution_count": 1,
   "metadata": {},
   "outputs": [
    {
     "ename": "KeyError",
     "evalue": "\"Index '0' is not valid for indexed component 'x'\"",
     "output_type": "error",
     "traceback": [
      "\u001b[1;31m---------------------------------------------------------------------------\u001b[0m",
      "\u001b[1;31mKeyError\u001b[0m                                  Traceback (most recent call last)",
      "Input \u001b[1;32mIn [1]\u001b[0m, in \u001b[0;36m<cell line: 12>\u001b[1;34m()\u001b[0m\n\u001b[0;32m     10\u001b[0m P \u001b[38;5;241m=\u001b[39m [\u001b[38;5;241m20\u001b[39m,\u001b[38;5;241m40\u001b[39m,\u001b[38;5;241m20\u001b[39m,\u001b[38;5;241m15\u001b[39m,\u001b[38;5;241m30\u001b[39m] \n\u001b[0;32m     11\u001b[0m I \u001b[38;5;241m=\u001b[39m \u001b[38;5;28mrange\u001b[39m(\u001b[38;5;28mlen\u001b[39m(P)) \n\u001b[1;32m---> 12\u001b[0m model\u001b[38;5;241m.\u001b[39mOBJ \u001b[38;5;241m=\u001b[39m Objective(rule\u001b[38;5;241m=\u001b[39m\u001b[38;5;28;43msum\u001b[39;49m\u001b[43m(\u001b[49m\u001b[43mmodel\u001b[49m\u001b[38;5;241;43m.\u001b[39;49m\u001b[43mx\u001b[49m\u001b[43m[\u001b[49m\u001b[43mi\u001b[49m\u001b[43m]\u001b[49m\u001b[38;5;241;43m*\u001b[39;49m\u001b[43mP\u001b[49m\u001b[43m[\u001b[49m\u001b[43mi\u001b[49m\u001b[43m]\u001b[49m\u001b[43m \u001b[49m\u001b[38;5;28;43;01mfor\u001b[39;49;00m\u001b[43m \u001b[49m\u001b[43mi\u001b[49m\u001b[43m \u001b[49m\u001b[38;5;129;43;01min\u001b[39;49;00m\u001b[43m \u001b[49m\u001b[43mI\u001b[49m\u001b[43m)\u001b[49m,sense\u001b[38;5;241m=\u001b[39mmaximize,doc\u001b[38;5;241m=\u001b[39m\u001b[38;5;124m'\u001b[39m\u001b[38;5;124mprofit\u001b[39m\u001b[38;5;124m'\u001b[39m)\n\u001b[0;32m     14\u001b[0m \u001b[38;5;66;03m# constraints\u001b[39;00m\n\u001b[0;32m     15\u001b[0m model\u001b[38;5;241m.\u001b[39mcons1 \u001b[38;5;241m=\u001b[39m Constraint(expr \u001b[38;5;241m=\u001b[39m \u001b[38;5;241m5\u001b[39m\u001b[38;5;241m*\u001b[39mmodel\u001b[38;5;241m.\u001b[39mx[\u001b[38;5;241m1\u001b[39m]\u001b[38;5;241m+\u001b[39m\u001b[38;5;241m4\u001b[39m\u001b[38;5;241m*\u001b[39mmodel\u001b[38;5;241m.\u001b[39mx[\u001b[38;5;241m2\u001b[39m]\u001b[38;5;241m+\u001b[39m\u001b[38;5;241m3\u001b[39m\u001b[38;5;241m*\u001b[39mmodel\u001b[38;5;241m.\u001b[39mx[\u001b[38;5;241m3\u001b[39m]\u001b[38;5;241m+\u001b[39m\u001b[38;5;241m7\u001b[39m\u001b[38;5;241m*\u001b[39mmodel\u001b[38;5;241m.\u001b[39mx[\u001b[38;5;241m4\u001b[39m]\u001b[38;5;241m+\u001b[39m\u001b[38;5;241m8\u001b[39m\u001b[38;5;241m*\u001b[39mmodel\u001b[38;5;241m.\u001b[39mx[\u001b[38;5;241m5\u001b[39m] \u001b[38;5;241m<\u001b[39m\u001b[38;5;241m=\u001b[39m\u001b[38;5;241m25\u001b[39m)\n",
      "Input \u001b[1;32mIn [1]\u001b[0m, in \u001b[0;36m<genexpr>\u001b[1;34m(.0)\u001b[0m\n\u001b[0;32m     10\u001b[0m P \u001b[38;5;241m=\u001b[39m [\u001b[38;5;241m20\u001b[39m,\u001b[38;5;241m40\u001b[39m,\u001b[38;5;241m20\u001b[39m,\u001b[38;5;241m15\u001b[39m,\u001b[38;5;241m30\u001b[39m] \n\u001b[0;32m     11\u001b[0m I \u001b[38;5;241m=\u001b[39m \u001b[38;5;28mrange\u001b[39m(\u001b[38;5;28mlen\u001b[39m(P)) \n\u001b[1;32m---> 12\u001b[0m model\u001b[38;5;241m.\u001b[39mOBJ \u001b[38;5;241m=\u001b[39m Objective(rule\u001b[38;5;241m=\u001b[39m\u001b[38;5;28msum\u001b[39m(\u001b[43mmodel\u001b[49m\u001b[38;5;241;43m.\u001b[39;49m\u001b[43mx\u001b[49m\u001b[43m[\u001b[49m\u001b[43mi\u001b[49m\u001b[43m]\u001b[49m\u001b[38;5;241m*\u001b[39mP[i] \u001b[38;5;28;01mfor\u001b[39;00m i \u001b[38;5;129;01min\u001b[39;00m I),sense\u001b[38;5;241m=\u001b[39mmaximize,doc\u001b[38;5;241m=\u001b[39m\u001b[38;5;124m'\u001b[39m\u001b[38;5;124mprofit\u001b[39m\u001b[38;5;124m'\u001b[39m)\n\u001b[0;32m     14\u001b[0m \u001b[38;5;66;03m# constraints\u001b[39;00m\n\u001b[0;32m     15\u001b[0m model\u001b[38;5;241m.\u001b[39mcons1 \u001b[38;5;241m=\u001b[39m Constraint(expr \u001b[38;5;241m=\u001b[39m \u001b[38;5;241m5\u001b[39m\u001b[38;5;241m*\u001b[39mmodel\u001b[38;5;241m.\u001b[39mx[\u001b[38;5;241m1\u001b[39m]\u001b[38;5;241m+\u001b[39m\u001b[38;5;241m4\u001b[39m\u001b[38;5;241m*\u001b[39mmodel\u001b[38;5;241m.\u001b[39mx[\u001b[38;5;241m2\u001b[39m]\u001b[38;5;241m+\u001b[39m\u001b[38;5;241m3\u001b[39m\u001b[38;5;241m*\u001b[39mmodel\u001b[38;5;241m.\u001b[39mx[\u001b[38;5;241m3\u001b[39m]\u001b[38;5;241m+\u001b[39m\u001b[38;5;241m7\u001b[39m\u001b[38;5;241m*\u001b[39mmodel\u001b[38;5;241m.\u001b[39mx[\u001b[38;5;241m4\u001b[39m]\u001b[38;5;241m+\u001b[39m\u001b[38;5;241m8\u001b[39m\u001b[38;5;241m*\u001b[39mmodel\u001b[38;5;241m.\u001b[39mx[\u001b[38;5;241m5\u001b[39m] \u001b[38;5;241m<\u001b[39m\u001b[38;5;241m=\u001b[39m\u001b[38;5;241m25\u001b[39m)\n",
      "File \u001b[1;32m~\\AppData\\Roaming\\Python\\Python39\\site-packages\\pyomo\\core\\base\\indexed_component.py:575\u001b[0m, in \u001b[0;36mIndexedComponent.__getitem__\u001b[1;34m(self, index)\u001b[0m\n\u001b[0;32m    573\u001b[0m \u001b[38;5;28;01mif\u001b[39;00m index\u001b[38;5;241m.\u001b[39m\u001b[38;5;18m__class__\u001b[39m \u001b[38;5;129;01mis\u001b[39;00m EXPR\u001b[38;5;241m.\u001b[39mGetItemExpression:\n\u001b[0;32m    574\u001b[0m     \u001b[38;5;28;01mreturn\u001b[39;00m index\n\u001b[1;32m--> 575\u001b[0m validated_index \u001b[38;5;241m=\u001b[39m \u001b[38;5;28;43mself\u001b[39;49m\u001b[38;5;241;43m.\u001b[39;49m\u001b[43m_validate_index\u001b[49m\u001b[43m(\u001b[49m\u001b[43mindex\u001b[49m\u001b[43m)\u001b[49m\n\u001b[0;32m    576\u001b[0m \u001b[38;5;28;01mif\u001b[39;00m validated_index \u001b[38;5;129;01mis\u001b[39;00m \u001b[38;5;129;01mnot\u001b[39;00m index:\n\u001b[0;32m    577\u001b[0m     index \u001b[38;5;241m=\u001b[39m validated_index\n",
      "File \u001b[1;32m~\\AppData\\Roaming\\Python\\Python39\\site-packages\\pyomo\\core\\base\\indexed_component.py:800\u001b[0m, in \u001b[0;36mIndexedComponent._validate_index\u001b[1;34m(self, idx)\u001b[0m\n\u001b[0;32m    794\u001b[0m     \u001b[38;5;28;01mraise\u001b[39;00m \u001b[38;5;167;01mKeyError\u001b[39;00m(\n\u001b[0;32m    795\u001b[0m         \u001b[38;5;124m\"\u001b[39m\u001b[38;5;124mCannot treat the scalar component \u001b[39m\u001b[38;5;124m'\u001b[39m\u001b[38;5;132;01m%s\u001b[39;00m\u001b[38;5;124m'\u001b[39m\u001b[38;5;124m \u001b[39m\u001b[38;5;124m\"\u001b[39m\n\u001b[0;32m    796\u001b[0m         \u001b[38;5;124m\"\u001b[39m\u001b[38;5;124mas an indexed component\u001b[39m\u001b[38;5;124m\"\u001b[39m \u001b[38;5;241m%\u001b[39m ( \u001b[38;5;28mself\u001b[39m\u001b[38;5;241m.\u001b[39mname, ))\n\u001b[0;32m    797\u001b[0m \u001b[38;5;66;03m#\u001b[39;00m\n\u001b[0;32m    798\u001b[0m \u001b[38;5;66;03m# Raise an exception\u001b[39;00m\n\u001b[0;32m    799\u001b[0m \u001b[38;5;66;03m#\u001b[39;00m\n\u001b[1;32m--> 800\u001b[0m \u001b[38;5;28;01mraise\u001b[39;00m \u001b[38;5;167;01mKeyError\u001b[39;00m(\n\u001b[0;32m    801\u001b[0m     \u001b[38;5;124m\"\u001b[39m\u001b[38;5;124mIndex \u001b[39m\u001b[38;5;124m'\u001b[39m\u001b[38;5;132;01m%s\u001b[39;00m\u001b[38;5;124m'\u001b[39m\u001b[38;5;124m is not valid for indexed component \u001b[39m\u001b[38;5;124m'\u001b[39m\u001b[38;5;132;01m%s\u001b[39;00m\u001b[38;5;124m'\u001b[39m\u001b[38;5;124m\"\u001b[39m\n\u001b[0;32m    802\u001b[0m     \u001b[38;5;241m%\u001b[39m ( idx, \u001b[38;5;28mself\u001b[39m\u001b[38;5;241m.\u001b[39mname, ))\n",
      "\u001b[1;31mKeyError\u001b[0m: \"Index '0' is not valid for indexed component 'x'\""
     ]
    }
   ],
   "source": [
    "from pyomo.environ import *\n",
    "\n",
    "model = ConcreteModel()\n",
    "\n",
    "# variables\n",
    "model.x = Var([1,2,3,4,5], domain=Binary)\n",
    "\n",
    "# objective function\n",
    "#model.OBJ = Objective()\n",
    "P = [20,40,20,15,30] \n",
    "I = range(len(P)) \n",
    "model.OBJ = Objective(rule=sum(model.x[i+1]*P[i] for i in I),sense=maximize,doc='profit')\n",
    "\n",
    "# constraints\n",
    "model.cons1 = Constraint(expr = 5*model.x[1]+4*model.x[2]+3*model.x[3]+7*model.x[4]+8*model.x[5] <=25)\n",
    "\n",
    "model.cons2 = Constraint(expr = 1*model.x[1]+7*model.x[2]+9*model.x[3]+4*model.x[4]+6*model.x[5] <=25)\n",
    "\n",
    "model.cons3 = Constraint(expr = 8*model.x[1]+10*model.x[2]+2*model.x[3]+1*model.x[4]+10*model.x[5] <=25)\n"
   ]
  },
  {
   "cell_type": "markdown",
   "metadata": {},
   "source": [
    "### Solution\n"
   ]
  },
  {
   "cell_type": "code",
   "execution_count": 2,
   "metadata": {},
   "outputs": [
    {
     "name": "stdout",
     "output_type": "stream",
     "text": [
      "Model unknown\n",
      "\n",
      "  Variables:\n",
      "    x : Size=5, Index=x_index\n",
      "        Key : Lower : Value : Upper : Fixed : Stale : Domain\n",
      "          1 :     0 :   1.0 :     1 : False : False : Binary\n",
      "          2 :     0 :   1.0 :     1 : False : False : Binary\n",
      "          3 :     0 :   1.0 :     1 : False : False : Binary\n",
      "          4 :     0 :   1.0 :     1 : False : False : Binary\n",
      "          5 :     0 :   0.0 :     1 : False : False : Binary\n",
      "\n",
      "  Objectives:\n",
      "    OBJ : Size=1, Index=None, Active=True\n",
      "        Key  : Active : Value\n",
      "        None :   True :  95.0\n",
      "\n",
      "  Constraints:\n",
      "    cons1 : Size=1\n",
      "        Key  : Lower : Body : Upper\n",
      "        None :  None : 19.0 :  25.0\n",
      "    cons2 : Size=1\n",
      "        Key  : Lower : Body : Upper\n",
      "        None :  None : 21.0 :  25.0\n",
      "    cons3 : Size=1\n",
      "        Key  : Lower : Body : Upper\n",
      "        None :  None : 21.0 :  25.0\n"
     ]
    }
   ],
   "source": [
    "Solver = SolverFactory('glpk')\n",
    "#Solver = SolverFactory('gurobi')\n",
    "\n",
    "Results = Solver.solve(model)\n",
    "\n",
    "# Display solution\n",
    "display(model)"
   ]
  },
  {
   "cell_type": "code",
   "execution_count": null,
   "metadata": {},
   "outputs": [],
   "source": []
  }
 ],
 "metadata": {
  "kernelspec": {
   "display_name": "Python 3 (ipykernel)",
   "language": "python",
   "name": "python3"
  },
  "language_info": {
   "codemirror_mode": {
    "name": "ipython",
    "version": 3
   },
   "file_extension": ".py",
   "mimetype": "text/x-python",
   "name": "python",
   "nbconvert_exporter": "python",
   "pygments_lexer": "ipython3",
   "version": "3.9.12"
  }
 },
 "nbformat": 4,
 "nbformat_minor": 2
}
