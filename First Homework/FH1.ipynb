{
 "cells": [
  {
   "cell_type": "markdown",
   "metadata": {},
   "source": [
    "![uc3m](img/uc3m.jpg)"
   ]
  },
  {
   "cell_type": "markdown",
   "metadata": {},
   "source": [
    "# Optimization and Analytics\n",
    "## Bachelor in Data Science and Engineering \n",
    "## First homework: Linear and Discrete Models (Topics 1,2)\n",
    "\n",
    "\n",
    "Dimitar Ilev"
   ]
  },
  {
   "cell_type": "markdown",
   "metadata": {},
   "source": [
    " ### General Objectives\n",
    "\n",
    " - Find and describe a realistic problem where the decision making process requires of the formulation\n",
    "of a linear optimization model\n",
    " - The problem must have at least 20 decision variables and more than 3 non-trivial constraints\n",
    " - The bigger the problem, the better"
   ]
  },
  {
   "cell_type": "markdown",
   "metadata": {},
   "source": [
    " #### Evaluation \n",
    " \n",
    " a) (2 points) Formulate the problem as a linear optimization model (general formulation). Identify the\n",
    "model sets, parameters, variables, objective function and constraints.\n",
    "\n",
    "b) (3 points) Implement the model in a notebook (preferably using Pyomo, but not mandatory) and\n",
    "solve it for an input based on real (or realistic) world data. Interpret the solution.\n",
    "\n",
    "c) (1 point) Compute the sensitivities associated with each constraint, and interpret their values.\n",
    "\n",
    "d) (4 points) Modify the problem in a) to impose some logical and conditional constraints that require\n",
    "the use of binary or integer variables. The more integer variables or constraints, the better.\n",
    "Implement and solve this new model and interpret the results.\n",
    "\n",
    "Remember the deadline: November 3, 2022 at 23:00\n",
    "\n",
    "IMPORTANT: Present the code in a Jupyter notebook and name it as “Surname-Name-HW1.ipynb”.\n",
    "Upload also the corresponding complied version “Surname-Name-HW1.html”, and the datasets that are\n",
    "needed (if any) to reproduce your results."
   ]
  },
  {
   "cell_type": "markdown",
   "metadata": {},
   "source": [
    "## Idea\n",
    "- Maximising the profit of a resale business for industrial electronis\n",
    "### Intro\n",
    "- Peter is a software developer and in his free time he likes to buy and sell tech producs on the resell market in small manegable quantities. He is considerring to open up his own business and wants to find out how he can maximize the profits of his investments. Therefore, he is in desperate need of a model, that can help him figure it out.\n",
    "### Description\n",
    "- For the solution of Peter's problem the implementation of a linear and discrete algorithm will be used, thus allowing the evaluation of his current financial and economical situation, for determining whether he should start his own business or not.\n",
    "### Steps\n",
    "1. Decission variables\n",
    "2. Parameters\n",
    "3. Objectives\n",
    "4. Constraints\n",
    "### Use\n"
   ]
  },
  {
   "cell_type": "markdown",
   "metadata": {},
   "source": [
    "## Statement\n",
    "\n",
    "We have a set of factories I = [1,2] and set of demand markets J = [1,2,3]. Each market has some product demand $d_j$ and each factory has production capacity $M_i$. There are also transportation costs to deliver one unit from factory i to market j. The goal is to satisfy the demand with minimum cost.\n",
    "\n",
    "  Distance      | M1 | M2 | M3 | offer\n",
    "  --------------|-----|---|----|--\n",
    "  F1  | 2.5 | 1.7 | 1.8 | 350\n",
    "  F2  | 2.5 | 1.7 | 1.8 | 350\n",
    "  demand  | 325 | 300 | 275 |"
   ]
  },
  {
   "cell_type": "markdown",
   "metadata": {},
   "source": [
    "### Import of the Pyomo module"
   ]
  },
  {
   "cell_type": "code",
   "execution_count": 5,
   "metadata": {},
   "outputs": [],
   "source": [
    "from pyomo.opt import SolverFactory\n",
    "import sys\n",
    "from pyomo.environ import *  # import environment\n",
    "import pyomo.environ as pyo\n",
    "\n",
    "solvername='glpk'\n",
    "solverpath_folder='C:\\\\w64'\n",
    "solverpath_exe='C:\\\\w64\\\\glpsol'\n",
    "\n",
    "sys.path.append(solverpath_folder)\n",
    "solver=SolverFactory(solvername, executable=solverpath_exe)"
   ]
  },
  {
   "cell_type": "markdown",
   "metadata": {},
   "source": [
    "### Optimization framework"
   ]
  },
  {
   "cell_type": "markdown",
   "metadata": {},
   "source": [
    "Input (data) $\\rightarrow$ Model (var, obj, const) $\\rightarrow$ Output (solution)"
   ]
  },
  {
   "cell_type": "markdown",
   "metadata": {},
   "source": [
    "### Define problem data: sets and parameters\n",
    "\n",
    "Sets are created as attributes object of the main model objects \n",
    "\n",
    "Parameter objects are created specifying the sets over which they are defined and are initialised with either a python dictionary or a scalar"
   ]
  },
  {
   "cell_type": "code",
   "execution_count": 6,
   "metadata": {},
   "outputs": [
    {
     "name": "stdout",
     "output_type": "stream",
     "text": [
      "    VFD-Type Nr.  Sell-Price  Material cost  Net-Profit  \\\n",
      "0           1503          35             13          22   \n",
      "1           1462          98             14          84   \n",
      "2           1168          57              7          50   \n",
      "3           1612          27              8          19   \n",
      "4           1280          30             12          18   \n",
      "5           1088          74             12          62   \n",
      "6           1414          32              9          23   \n",
      "7           1235          64              5          59   \n",
      "8           1301          96              8          88   \n",
      "9           1581          93             15          78   \n",
      "10          1587          53              8          45   \n",
      "11          1440          51             14          37   \n",
      "12          1503          37             10          27   \n",
      "13          1993          90              9          81   \n",
      "14          1776          22             12          10   \n",
      "15          1703          65             15          50   \n",
      "16          1761          69             10          59   \n",
      "17          1441          30             13          17   \n",
      "18          1793          78             10          68   \n",
      "19          1560          52              9          43   \n",
      "20          1126          86              8          78   \n",
      "21          1702          60              5          55   \n",
      "\n",
      "    Labour hours per Unit(in Minutes)  Maximum demand (in Units)  Unnamed: 6  \\\n",
      "0                                  22                         56         NaN   \n",
      "1                                  15                         92         NaN   \n",
      "2                                  23                         50         NaN   \n",
      "3                                  24                         91         NaN   \n",
      "4                                  18                         99         NaN   \n",
      "5                                  10                         58         NaN   \n",
      "6                                  24                         97         NaN   \n",
      "7                                  21                         78         NaN   \n",
      "8                                  11                         93         NaN   \n",
      "9                                  23                         51         NaN   \n",
      "10                                 21                         70         NaN   \n",
      "11                                 18                         88         NaN   \n",
      "12                                 20                         60         NaN   \n",
      "13                                 13                         77         NaN   \n",
      "14                                 25                         52         NaN   \n",
      "15                                 13                         63         NaN   \n",
      "16                                 21                         75         NaN   \n",
      "17                                 19                         76         NaN   \n",
      "18                                 21                         78         NaN   \n",
      "19                                 15                         86         NaN   \n",
      "20                                 21                         79         NaN   \n",
      "21                                 11                         75         NaN   \n",
      "\n",
      "    Unnamed: 7  Unnamed: 8 Unnamed: 9  \n",
      "0          NaN         NaN        NaN  \n",
      "1          NaN         NaN        NaN  \n",
      "2          NaN         NaN        NaN  \n",
      "3          NaN         NaN        NaN  \n",
      "4          NaN         NaN        NaN  \n",
      "5          NaN         NaN        NaN  \n",
      "6          NaN         NaN        NaN  \n",
      "7          NaN         NaN        NaN  \n",
      "8          NaN         NaN        NaN  \n",
      "9          NaN         NaN        NaN  \n",
      "10         NaN         NaN        NaN  \n",
      "11         NaN         NaN        NaN  \n",
      "12         NaN         NaN        NaN  \n",
      "13         NaN         NaN        NaN  \n",
      "14         NaN         NaN        NaN  \n",
      "15         NaN         NaN             \n",
      "16         NaN         NaN        NaN  \n",
      "17         NaN         NaN        NaN  \n",
      "18         NaN         NaN        NaN  \n",
      "19         NaN         NaN        NaN  \n",
      "20         NaN         NaN        NaN  \n",
      "21         NaN         NaN        NaN  \n"
     ]
    }
   ],
   "source": [
    "# Import data set\n",
    "import pandas as pd\n",
    "mydata = pd.read_csv(\"C:\\\\BSc in EIB\\\\5. Semester\\\\Repos\\Repo - Optimization and Analytics\\\\dt1.csv\")\n",
    "\n",
    "print(mydata)"
   ]
  },
  {
   "cell_type": "code",
   "execution_count": 7,
   "metadata": {},
   "outputs": [],
   "source": [
    "# The data\n",
    "\n",
    "mTransport = ConcreteModel('Transportation Problem')\n",
    "#Define i and j\n",
    "mTransport.i = Set(initialize=['P1', 'P2'], doc='origins' )\n",
    "mTransport.j = Set(initialize=['M1', 'M2', 'M3'], doc='destinations')\n",
    "\n",
    "#Define capacity and demand\n",
    "mTransport.Cap = Param(mTransport.i, initialize={'P1' : 350, 'P2': 600 }, doc='origin capacity' )\n",
    "mTransport.Dem = Param(mTransport.j, initialize={'M1': 325, 'M2': 300, 'M3': 275}, doc='destination demand')\n",
    "\n",
    "TransportationCost = {\n",
    "    ('P1', 'M1' ): 2.5,\n",
    "    ('P1', 'M2'): 1.7,\n",
    "    ('P1', 'M3' ): 1.8,\n",
    "    ('P2', 'M1' ): 2.5,\n",
    "    ('P2', 'M2'): 1.8,\n",
    "    ('P2', 'M3' ): 1.4\n",
    "    }\n",
    "\n",
    "\n",
    "mTransport.Dist = Param(mTransport.i, mTransport.j, initialize=TransportationCost, doc='Distance in hundreds of km')\n",
    "mTransport.f = 90 # Fixed cost per 100 km in euros\n",
    "\n",
    "#  Parameter c(i,j)  transport cost in thousands of dollars per case\n",
    "#            c(i,j) = f * Dist(i,j) \n",
    "\n",
    "def cost_euro(mTransport, i, j):\n",
    "  return mTransport.f * mTransport.Dist[i,j] \n",
    "\n",
    "mTransport.Cost = Param(mTransport.i, mTransport.j, initialize=cost_euro, doc='Transportation cost per 100 km in eur')"
   ]
  },
  {
   "cell_type": "code",
   "execution_count": 1,
   "metadata": {},
   "outputs": [
    {
     "ename": "NameError",
     "evalue": "name 'mTransport' is not defined",
     "output_type": "error",
     "traceback": [
      "\u001b[1;31m---------------------------------------------------------------------------\u001b[0m",
      "\u001b[1;31mNameError\u001b[0m                                 Traceback (most recent call last)",
      "Cell \u001b[1;32mIn [1], line 1\u001b[0m\n\u001b[1;32m----> 1\u001b[0m mTransport\u001b[39m.\u001b[39mpprint()\n",
      "\u001b[1;31mNameError\u001b[0m: name 'mTransport' is not defined"
     ]
    }
   ],
   "source": [
    "mTransport.pprint()"
   ]
  },
  {
   "cell_type": "markdown",
   "metadata": {},
   "source": [
    "### General formulation for the transportation problem\n",
    "\n",
    "\\begin{align*}\n",
    "\\underset{x_{ij}}{\\min} & \\quad \\sum_{i=1}^{n}\\sum_{j=1}^{m}c_{ij}x_{ij}\\\\\n",
    "\\text{s.t.:}&\\\\\n",
    "  &\\sum_{i=1}^{n} x_{ij} \\geq D_{j} \\quad \\forall j\\\\\n",
    "  &\\sum_{j=1}^{m} x_{ij} \\leq \\bar{C}_{i} \\quad \\forall i\\\\\n",
    "  &x_{ij} \\geq 0 \\quad \\forall ij \n",
    "\\end{align*}"
   ]
  },
  {
   "cell_type": "markdown",
   "metadata": {},
   "source": [
    "### 1. Define the variables"
   ]
  },
  {
   "cell_type": "code",
   "execution_count": 9,
   "metadata": {},
   "outputs": [],
   "source": [
    "# define x(i,j)\n",
    "mTransport.x = Var(mTransport.i, mTransport.j, doc='units transported', within=NonNegativeReals)"
   ]
  },
  {
   "cell_type": "markdown",
   "metadata": {},
   "source": [
    "### 2. Define the objective function"
   ]
  },
  {
   "cell_type": "code",
   "execution_count": 10,
   "metadata": {},
   "outputs": [],
   "source": [
    "def objective_rule(mTransport):\n",
    "  return sum(mTransport.Cost[i,j]*mTransport.x[i,j] for i in mTransport.i for j in mTransport.j)\n",
    "\n",
    "mTransport.objective = Objective(rule=objective_rule, sense=minimize, doc='transportation cost')\n"
   ]
  },
  {
   "cell_type": "markdown",
   "metadata": {},
   "source": [
    "### 3. Define the constraints"
   ]
  },
  {
   "cell_type": "code",
   "execution_count": 11,
   "metadata": {},
   "outputs": [],
   "source": [
    "def Capacity(mTransport, i):\n",
    "  return sum(mTransport.x[i,j] for j in mTransport.j) <= mTransport.Cap[i]\n",
    "\n",
    "mTransport.Capacity = Constraint(mTransport.i, rule=Capacity, doc='capacity at origin')\n",
    "    \n",
    "def Demand (mTransport, j):\n",
    "  return sum(mTransport.x[i,j] for i in mTransport.i) >= mTransport.Dem[j]\n",
    "\n",
    "mTransport.Demand = Constraint(mTransport.j, rule=Demand, doc='demand at destination' )\n",
    "\n",
    "\n"
   ]
  },
  {
   "cell_type": "markdown",
   "metadata": {},
   "source": [
    "### Let's see the solution"
   ]
  },
  {
   "cell_type": "code",
   "execution_count": 12,
   "metadata": {
    "scrolled": true
   },
   "outputs": [
    {
     "name": "stdout",
     "output_type": "stream",
     "text": [
      "x : units transported\n",
      "    Size=6, Index=x_index\n",
      "    Key          : Lower : Value : Upper : Fixed : Stale : Domain\n",
      "    ('P1', 'M1') :     0 :  50.0 :  None : False : False : NonNegativeReals\n",
      "    ('P1', 'M2') :     0 : 300.0 :  None : False : False : NonNegativeReals\n",
      "    ('P1', 'M3') :     0 :   0.0 :  None : False : False : NonNegativeReals\n",
      "    ('P2', 'M1') :     0 : 275.0 :  None : False : False : NonNegativeReals\n",
      "    ('P2', 'M2') :     0 :   0.0 :  None : False : False : NonNegativeReals\n",
      "    ('P2', 'M3') :     0 : 275.0 :  None : False : False : NonNegativeReals\n"
     ]
    }
   ],
   "source": [
    "#Solver = pyo.SolverFactory(solvername,executable=solverpath_exe)#('glpk')\n",
    "solvername='glpk'\n",
    "solverpath_folder='C:\\\\w64'\n",
    "solverpath_exe='C:\\\\w64\\\\glpsol'\n",
    "\n",
    "sys.path.append(solverpath_folder)\n",
    "solver=SolverFactory(solvername, executable=solverpath_exe)\n",
    "Results = solver.solve(mTransport)\n",
    "\n",
    "# Display solution\n",
    "mTransport.x.display()\n"
   ]
  },
  {
   "cell_type": "markdown",
   "metadata": {},
   "source": [
    "Display solution using pandas"
   ]
  },
  {
   "cell_type": "code",
   "execution_count": 13,
   "metadata": {},
   "outputs": [
    {
     "name": "stdout",
     "output_type": "stream",
     "text": [
      "       M1     M2     M3\n",
      "P1   50.0  300.0    0.0\n",
      "P2  275.0    0.0  275.0\n"
     ]
    }
   ],
   "source": [
    "import pandas as pd\n",
    "\n",
    "transp_results = pd.DataFrame()\n",
    "\n",
    "for i in mTransport.i:\n",
    "    for j in mTransport.j:\n",
    "        transp_results.loc[i,j] = mTransport.x[i,j]()\n",
    "        \n",
    "        \n",
    "print(transp_results)"
   ]
  },
  {
   "cell_type": "markdown",
   "metadata": {},
   "source": [
    "### Now the minimum cost"
   ]
  },
  {
   "cell_type": "code",
   "execution_count": 14,
   "metadata": {
    "scrolled": true
   },
   "outputs": [
    {
     "data": {
      "text/plain": [
       "153675.0"
      ]
     },
     "execution_count": 14,
     "metadata": {},
     "output_type": "execute_result"
    }
   ],
   "source": [
    "mTransport.objective()"
   ]
  },
  {
   "cell_type": "markdown",
   "metadata": {},
   "source": [
    "### Interpretation\n",
    "\n",
    "In order to attain the minimum transport costs, 50 units should be sent from P1 to M1, 300 from P1 to M2, 275 from P2 to M1, and 275 from P2 to M3\n",
    "\n",
    "The total transport costs will be 153675 euros"
   ]
  },
  {
   "cell_type": "markdown",
   "metadata": {},
   "source": [
    "### We are done"
   ]
  },
  {
   "cell_type": "markdown",
   "metadata": {},
   "source": [
    "![uc3m](img/wedidit.png)"
   ]
  }
 ],
 "metadata": {
  "kernelspec": {
   "display_name": "Python 3.10.6 64-bit",
   "language": "python",
   "name": "python3"
  },
  "language_info": {
   "codemirror_mode": {
    "name": "ipython",
    "version": 3
   },
   "file_extension": ".py",
   "mimetype": "text/x-python",
   "name": "python",
   "nbconvert_exporter": "python",
   "pygments_lexer": "ipython3",
   "version": "3.10.6"
  },
  "vscode": {
   "interpreter": {
    "hash": "369f2c481f4da34e4445cda3fffd2e751bd1c4d706f27375911949ba6bb62e1c"
   }
  }
 },
 "nbformat": 4,
 "nbformat_minor": 2
}
