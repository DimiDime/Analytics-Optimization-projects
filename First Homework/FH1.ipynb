{
 "cells": [
  {
   "cell_type": "markdown",
   "metadata": {},
   "source": [
    "![uc3m](img/uc3m.jpg)"
   ]
  },
  {
   "cell_type": "markdown",
   "metadata": {},
   "source": [
    "# Optimization and Analytics\n",
    "## Bachelor in Data Science and Engineering \n",
    "## First homework: Linear and Discrete Models (Topics 1,2)\n",
    "\n",
    "\n",
    "Dimitar Ilev"
   ]
  },
  {
   "cell_type": "markdown",
   "metadata": {},
   "source": [
    " ### General Objectives\n",
    "\n",
    " - Find and describe a realistic problem where the decision making process requires of the formulation\n",
    "of a linear optimization model\n",
    " - The problem must have at least 20 decision variables and more than 3 non-trivial constraints\n",
    " - The bigger the problem, the better"
   ]
  },
  {
   "cell_type": "markdown",
   "metadata": {},
   "source": [
    " #### Evaluation \n",
    " \n",
    " a) (2 points) Formulate the problem as a linear optimization model (general formulation). Identify the\n",
    "model sets, parameters, variables, objective function and constraints.\n",
    "\n",
    "b) (3 points) Implement the model in a notebook (preferably using Pyomo, but not mandatory) and\n",
    "solve it for an input based on real (or realistic) world data. Interpret the solution.\n",
    "\n",
    "c) (1 point) Compute the sensitivities associated with each constraint, and interpret their values.\n",
    "\n",
    "d) (4 points) Modify the problem in a) to impose some logical and conditional constraints that require\n",
    "the use of binary or integer variables. The more integer variables or constraints, the better.\n",
    "Implement and solve this new model and interpret the results.\n",
    "\n",
    "Remember the deadline: November 3, 2022 at 23:00\n",
    "\n",
    "IMPORTANT: Present the code in a Jupyter notebook and name it as “Surname-Name-HW1.ipynb”.\n",
    "Upload also the corresponding complied version “Surname-Name-HW1.html”, and the datasets that are\n",
    "needed (if any) to reproduce your results."
   ]
  },
  {
   "cell_type": "markdown",
   "metadata": {},
   "source": [
    "## Idea\n",
    "- Maximising the profit of a resale business for industrial electronis\n",
    "### Intro\n",
    "- Peter is a software developer and in his free time he likes to buy and sell tech producs on the resell market in small manegable quantities. He is considerring to open up his own business and wants to find out how he can maximize the profits from his investments. Therefore, he is in desperate need of a model, that can help him figure it out.\n",
    "### Description\n",
    "- For the solution of Peter's problem the implementation of a linear and discrete algorithm will be used, thus allowing the evaluation of his current financial and economical situation, for determining whether he should start his own business or not.\n",
    "### Steps\n",
    "1. Decission variables\n",
    "2. Parameters\n",
    "3. Objectives\n",
    "4. Constraints\n",
    "### Use\n"
   ]
  },
  {
   "cell_type": "markdown",
   "metadata": {},
   "source": [
    "## Statement\n",
    "\n",
    "We have a set of factories I = [1,2] and set of demand markets J = [1,2,3]. Each market has some product demand $d_j$ and each factory has production capacity $M_i$. There are also transportation costs to deliver one unit from factory i to market j. The goal is to satisfy the demand with minimum cost.\n",
    "\n",
    "  Distance      | M1 | M2 | M3 | offer\n",
    "  --------------|-----|---|----|--\n",
    "  F1  | 2.5 | 1.7 | 1.8 | 350\n",
    "  F2  | 2.5 | 1.7 | 1.8 | 350\n",
    "  demand  | 325 | 300 | 275 |"
   ]
  },
  {
   "cell_type": "markdown",
   "metadata": {},
   "source": [
    "### Import of the Pyomo module"
   ]
  },
  {
   "cell_type": "code",
   "execution_count": 23,
   "metadata": {},
   "outputs": [],
   "source": [
    "from pyomo.environ import *\n",
    "from pyomo.opt import SolverFactory\n",
    "import pyomo.environ as pyo"
   ]
  },
  {
   "cell_type": "markdown",
   "metadata": {},
   "source": [
    "### Optimization framework"
   ]
  },
  {
   "cell_type": "markdown",
   "metadata": {},
   "source": [
    "Input (data) $\\rightarrow$ Model (var, obj, const) $\\rightarrow$ Output (solution)"
   ]
  },
  {
   "cell_type": "markdown",
   "metadata": {},
   "source": [
    "### Define problem data: sets and parameters\n",
    "\n",
    "Sets are created as attributes object of the main model objects \n",
    "\n",
    "Parameter objects are created specifying the sets over which they are defined and are initialised with either a python dictionary or a scalar"
   ]
  },
  {
   "cell_type": "code",
   "execution_count": 24,
   "metadata": {},
   "outputs": [],
   "source": [
    "# The data\n",
    "\n",
    "mTransport = ConcreteModel('Transportation Problem')\n",
    "#Define i and j\n",
    "mTransport.i = Set(initialize=['P1', 'P2'], doc='origins' )\n",
    "mTransport.j = Set(initialize=['M1', 'M2', 'M3'], doc='destinations')\n",
    "#Define capacity and demand\n",
    "mTransport.Cap = Param(mTransport.i, initialize={'P1' : 350, 'P2': 600 }, doc='origin capacity' )\n",
    "mTransport.Dem = Param(mTransport.j, initialize={'M1': 325, 'M2': 300, 'M3': 275}, doc='destination demand')\n",
    "\n",
    "TransportationCost = {\n",
    "    ('P1', 'M1' ): 2.5,\n",
    "    ('P1', 'M2'): 1.7,\n",
    "    ('P1', 'M3' ): 1.8,\n",
    "    ('P2', 'M1' ): 2.5,\n",
    "    ('P2', 'M2'): 1.8,\n",
    "    ('P2', 'M3' ): 1.4\n",
    "    }\n",
    "\n",
    "\n",
    "mTransport.Dist = Param(mTransport.i, mTransport.j, initialize=TransportationCost, doc='Distance in hundreds of km')\n",
    "mTransport.f = 90 # Fixed cost per 100 km in euros\n",
    "\n",
    "#  Parameter c(i,j)  transport cost in thousands of dollars per case\n",
    "#            c(i,j) = f * Dist(i,j) \n",
    "\n",
    "def cost_euro(mTransport, i, j):\n",
    "  return mTransport.f * mTransport.Dist[i,j] \n",
    "\n",
    "mTransport.Cost = Param(mTransport.i, mTransport.j, initialize=cost_euro, doc='Transportation cost per 100 km in eur')"
   ]
  },
  {
   "cell_type": "code",
   "execution_count": 25,
   "metadata": {},
   "outputs": [
    {
     "name": "stdout",
     "output_type": "stream",
     "text": [
      "4 Set Declarations\n",
      "    Cost_index : Size=1, Index=None, Ordered=True\n",
      "        Key  : Dimen : Domain : Size : Members\n",
      "        None :     2 :    i*j :    6 : {('P1', 'M1'), ('P1', 'M2'), ('P1', 'M3'), ('P2', 'M1'), ('P2', 'M2'), ('P2', 'M3')}\n",
      "    Dist_index : Size=1, Index=None, Ordered=True\n",
      "        Key  : Dimen : Domain : Size : Members\n",
      "        None :     2 :    i*j :    6 : {('P1', 'M1'), ('P1', 'M2'), ('P1', 'M3'), ('P2', 'M1'), ('P2', 'M2'), ('P2', 'M3')}\n",
      "    i : origins\n",
      "        Size=1, Index=None, Ordered=Insertion\n",
      "        Key  : Dimen : Domain : Size : Members\n",
      "        None :     1 :    Any :    2 : {'P1', 'P2'}\n",
      "    j : destinations\n",
      "        Size=1, Index=None, Ordered=Insertion\n",
      "        Key  : Dimen : Domain : Size : Members\n",
      "        None :     1 :    Any :    3 : {'M1', 'M2', 'M3'}\n",
      "\n",
      "4 Param Declarations\n",
      "    Cap : origin capacity\n",
      "        Size=2, Index=i, Domain=Any, Default=None, Mutable=False\n",
      "        Key : Value\n",
      "         P1 :   350\n",
      "         P2 :   600\n",
      "    Cost : Transportation cost per 100 km in eur\n",
      "        Size=6, Index=Cost_index, Domain=Any, Default=None, Mutable=False\n",
      "        Key          : Value\n",
      "        ('P1', 'M1') :              225.0\n",
      "        ('P1', 'M2') :              153.0\n",
      "        ('P1', 'M3') :              162.0\n",
      "        ('P2', 'M1') :              225.0\n",
      "        ('P2', 'M2') :              162.0\n",
      "        ('P2', 'M3') : 125.99999999999999\n",
      "    Dem : destination demand\n",
      "        Size=3, Index=j, Domain=Any, Default=None, Mutable=False\n",
      "        Key : Value\n",
      "         M1 :   325\n",
      "         M2 :   300\n",
      "         M3 :   275\n",
      "    Dist : Distance in hundreds of km\n",
      "        Size=6, Index=Dist_index, Domain=Any, Default=None, Mutable=False\n",
      "        Key          : Value\n",
      "        ('P1', 'M1') :   2.5\n",
      "        ('P1', 'M2') :   1.7\n",
      "        ('P1', 'M3') :   1.8\n",
      "        ('P2', 'M1') :   2.5\n",
      "        ('P2', 'M2') :   1.8\n",
      "        ('P2', 'M3') :   1.4\n",
      "\n",
      "8 Declarations: i j Cap Dem Dist_index Dist Cost_index Cost\n"
     ]
    }
   ],
   "source": [
    "mTransport.pprint()"
   ]
  },
  {
   "cell_type": "markdown",
   "metadata": {},
   "source": [
    "### General formulation for the transportation problem\n",
    "\n",
    "\\begin{align*}\n",
    "\\underset{x_{ij}}{\\min} & \\quad \\sum_{i=1}^{n}\\sum_{j=1}^{m}c_{ij}x_{ij}\\\\\n",
    "\\text{s.t.:}&\\\\\n",
    "  &\\sum_{i=1}^{n} x_{ij} \\geq D_{j} \\quad \\forall j\\\\\n",
    "  &\\sum_{j=1}^{m} x_{ij} \\leq \\bar{C}_{i} \\quad \\forall i\\\\\n",
    "  &x_{ij} \\geq 0 \\quad \\forall ij \n",
    "\\end{align*}"
   ]
  },
  {
   "cell_type": "markdown",
   "metadata": {},
   "source": [
    "### 1. Define the variables"
   ]
  },
  {
   "cell_type": "code",
   "execution_count": 26,
   "metadata": {},
   "outputs": [],
   "source": [
    "# define x(i,j)\n",
    "mTransport.x = Var(mTransport.i, mTransport.j, doc='units transported', within=NonNegativeReals)"
   ]
  },
  {
   "cell_type": "markdown",
   "metadata": {},
   "source": [
    "### 2. Define the objective function"
   ]
  },
  {
   "cell_type": "code",
   "execution_count": 27,
   "metadata": {},
   "outputs": [],
   "source": [
    "def objective_rule(mTransport):\n",
    "  return sum(mTransport.Cost[i,j]*mTransport.x[i,j] for i in mTransport.i for j in mTransport.j)\n",
    "\n",
    "mTransport.objective = Objective(rule=objective_rule, sense=minimize, doc='transportation cost')\n"
   ]
  },
  {
   "cell_type": "markdown",
   "metadata": {},
   "source": [
    "### 3. Define the constraints"
   ]
  },
  {
   "cell_type": "code",
   "execution_count": 28,
   "metadata": {},
   "outputs": [],
   "source": [
    "def Capacity(mTransport, i):\n",
    "  return sum(mTransport.x[i,j] for j in mTransport.j) <= mTransport.Cap[i]\n",
    "\n",
    "mTransport.Capacity = Constraint(mTransport.i, rule=Capacity, doc='capacity at origin')\n",
    "    \n",
    "def Demand (mTransport, j):\n",
    "  return sum(mTransport.x[i,j] for i in mTransport.i) >= mTransport.Dem[j]\n",
    "\n",
    "mTransport.Demand = Constraint(mTransport.j, rule=Demand, doc='demand at destination' )\n",
    "\n"
   ]
  },
  {
   "cell_type": "markdown",
   "metadata": {},
   "source": [
    "### Let's see the solution"
   ]
  },
  {
   "cell_type": "code",
   "execution_count": 37,
   "metadata": {
    "scrolled": true
   },
   "outputs": [
    {
     "name": "stdout",
     "output_type": "stream",
     "text": [
      "WARNING: Failed to create solver with name '_glpk_shell': Failed to set\n",
      "    executable for solver glpk. File with\n",
      "    name=C:\\Users\\Dimi\\.conda\\pkgs\\pyomo-6.4.2-py39h415ef7b_0\\Lib\\site-\n",
      "    packages\\pyomo\\solvers\\plugins\\converter\\glpsol either does not exist or\n",
      "    it is not executable. To skip this validation, call set_executable with\n",
      "    validate=False.\n",
      "Traceback (most recent call last):\n",
      "  File \"c:\\Python310\\lib\\site-packages\\pyomo\\opt\\base\\solvers.py\", line 153, in __call__\n",
      "    opt = self._cls[_name](**kwds)\n",
      "  File \"c:\\Python310\\lib\\site-packages\\pyomo\\solvers\\plugins\\solvers\\GLPK.py\", line 85, in __init__\n",
      "    SystemCallSolver.__init__(self, **kwargs)\n",
      "  File \"c:\\Python310\\lib\\site-packages\\pyomo\\opt\\solver\\shellcmd.py\", line 56, in __init__\n",
      "    self.set_executable(name=executable, validate=validate)\n",
      "  File \"c:\\Python310\\lib\\site-packages\\pyomo\\opt\\solver\\shellcmd.py\", line 104, in set_executable\n",
      "    raise ValueError(\n",
      "ValueError: Failed to set executable for solver glpk. File with name=C:\\Users\\Dimi\\.conda\\pkgs\\pyomo-6.4.2-py39h415ef7b_0\\Lib\\site-packages\\pyomo\\solvers\\plugins\\converter\\glpsol either does not exist or it is not executable. To skip this validation, call set_executable with validate=False.\n"
     ]
    },
    {
     "ename": "RuntimeError",
     "evalue": "Attempting to use an unavailable solver.\n\nThe SolverFactory was unable to create the solver \"_glpk_shell\"\nand returned an UnknownSolver object.  This error is raised at the point\nwhere the UnknownSolver object was used as if it were valid (by calling\nmethod \"solve\").\n\nThe original solver was created with the following parameters:\n\texecutable: C:\\Users\\Dimi\\.conda\\pkgs\\pyomo-6.4.2-py39h415ef7b_0\\Lib\\site-packages\\pyomo\\solvers\\plugins\\converter\\glpsol\n\ttype: _glpk_shell\n\t_args: ()\n\toptions: {}",
     "output_type": "error",
     "traceback": [
      "\u001b[1;31m---------------------------------------------------------------------------\u001b[0m",
      "\u001b[1;31mRuntimeError\u001b[0m                              Traceback (most recent call last)",
      "Cell \u001b[1;32mIn [37], line 5\u001b[0m\n\u001b[0;32m      3\u001b[0m solverpath_folder \u001b[39m=\u001b[39m \u001b[39m'\u001b[39m\u001b[39mC:\u001b[39m\u001b[39m\\\\\u001b[39;00m\u001b[39mUsers\u001b[39m\u001b[39m\\\\\u001b[39;00m\u001b[39mDimi\u001b[39m\u001b[39m\\\\\u001b[39;00m\u001b[39mElse\u001b[39m\u001b[39m\\\\\u001b[39;00m\u001b[39m.conda\u001b[39m\u001b[39m\\\\\u001b[39;00m\u001b[39mpkgs\u001b[39m\u001b[39m\\\\\u001b[39;00m\u001b[39mpyomo-6.4.2-py39h415ef7b_0\u001b[39m\u001b[39m\\\\\u001b[39;00m\u001b[39mLib\u001b[39m\u001b[39m\\\\\u001b[39;00m\u001b[39msite-packages\u001b[39m\u001b[39m\\\\\u001b[39;00m\u001b[39mpyomo\u001b[39m\u001b[39m\\\\\u001b[39;00m\u001b[39msolvers\u001b[39m\u001b[39m\\\\\u001b[39;00m\u001b[39mplugins\u001b[39m\u001b[39m\\\\\u001b[39;00m\u001b[39msolvers\u001b[39m\u001b[39m\\\\\u001b[39;00m\u001b[39mGLPK\u001b[39m\u001b[39m'\u001b[39m\n\u001b[0;32m      4\u001b[0m Solver \u001b[39m=\u001b[39m pyo\u001b[39m.\u001b[39mSolverFactory(\u001b[39m'\u001b[39m\u001b[39mglpk\u001b[39m\u001b[39m'\u001b[39m, executable\u001b[39m=\u001b[39msolverpath_exe)\n\u001b[1;32m----> 5\u001b[0m Results \u001b[39m=\u001b[39m Solver\u001b[39m.\u001b[39;49msolve(mTransport)\n\u001b[0;32m      7\u001b[0m \u001b[39m# Display solution\u001b[39;00m\n\u001b[0;32m      8\u001b[0m mTransport\u001b[39m.\u001b[39mx\u001b[39m.\u001b[39mdisplay()\n",
      "File \u001b[1;32mc:\\Python310\\lib\\site-packages\\pyomo\\opt\\base\\solvers.py:106\u001b[0m, in \u001b[0;36mUnknownSolver.solve\u001b[1;34m(self, *args, **kwds)\u001b[0m\n\u001b[0;32m    104\u001b[0m \u001b[39mdef\u001b[39;00m \u001b[39msolve\u001b[39m(\u001b[39mself\u001b[39m, \u001b[39m*\u001b[39margs, \u001b[39m*\u001b[39m\u001b[39m*\u001b[39mkwds):\n\u001b[0;32m    105\u001b[0m     \u001b[39m\"\"\"Perform optimization and return an SolverResults object.\"\"\"\u001b[39;00m\n\u001b[1;32m--> 106\u001b[0m     \u001b[39mself\u001b[39;49m\u001b[39m.\u001b[39;49m_solver_error(\u001b[39m'\u001b[39;49m\u001b[39msolve\u001b[39;49m\u001b[39m'\u001b[39;49m)\n",
      "File \u001b[1;32mc:\\Python310\\lib\\site-packages\\pyomo\\opt\\base\\solvers.py:123\u001b[0m, in \u001b[0;36mUnknownSolver._solver_error\u001b[1;34m(self, method_name)\u001b[0m\n\u001b[0;32m    122\u001b[0m     \u001b[39mdef\u001b[39;00m \u001b[39m_solver_error\u001b[39m(\u001b[39mself\u001b[39m, method_name):\n\u001b[1;32m--> 123\u001b[0m         \u001b[39mraise\u001b[39;00m \u001b[39mRuntimeError\u001b[39;00m(\u001b[39m\"\"\"\u001b[39m\u001b[39mAttempting to use an unavailable solver.\u001b[39m\n\u001b[0;32m    124\u001b[0m \n\u001b[0;32m    125\u001b[0m \u001b[39mThe SolverFactory was unable to create the solver \u001b[39m\u001b[39m\"\u001b[39m\u001b[39m%s\u001b[39;00m\u001b[39m\"\u001b[39m\n\u001b[0;32m    126\u001b[0m \u001b[39mand returned an UnknownSolver object.  This error is raised at the point\u001b[39m\n\u001b[0;32m    127\u001b[0m \u001b[39mwhere the UnknownSolver object was used as if it were valid (by calling\u001b[39m\n\u001b[0;32m    128\u001b[0m \u001b[39mmethod \u001b[39m\u001b[39m\"\u001b[39m\u001b[39m%s\u001b[39;00m\u001b[39m\"\u001b[39m\u001b[39m).\u001b[39m\n\u001b[0;32m    129\u001b[0m \n\u001b[0;32m    130\u001b[0m \u001b[39mThe original solver was created with the following parameters:\u001b[39m\n\u001b[0;32m    131\u001b[0m \u001b[39m\\t\u001b[39;00m\u001b[39m\"\"\"\u001b[39m \u001b[39m%\u001b[39m ( \u001b[39mself\u001b[39m\u001b[39m.\u001b[39mtype, method_name )\n\u001b[0;32m    132\u001b[0m \u001b[39m+\u001b[39m \u001b[39m\"\u001b[39m\u001b[39m\\n\u001b[39;00m\u001b[39m\\t\u001b[39;00m\u001b[39m\"\u001b[39m\u001b[39m.\u001b[39mjoin(\u001b[39m\"\u001b[39m\u001b[39m%s\u001b[39;00m\u001b[39m: \u001b[39m\u001b[39m%s\u001b[39;00m\u001b[39m\"\u001b[39m \u001b[39m%\u001b[39m i \u001b[39mfor\u001b[39;00m i \u001b[39min\u001b[39;00m \u001b[39msorted\u001b[39m(\u001b[39mself\u001b[39m\u001b[39m.\u001b[39m_kwds\u001b[39m.\u001b[39mitems()))\n\u001b[0;32m    133\u001b[0m \u001b[39m+\u001b[39m \u001b[39m\"\u001b[39m\u001b[39m\\n\u001b[39;00m\u001b[39m\\t\u001b[39;00m\u001b[39m_args: \u001b[39m\u001b[39m%s\u001b[39;00m\u001b[39m\"\u001b[39m \u001b[39m%\u001b[39m ( \u001b[39mself\u001b[39m\u001b[39m.\u001b[39m_args, )\n\u001b[0;32m    134\u001b[0m \u001b[39m+\u001b[39m \u001b[39m\"\u001b[39m\u001b[39m\\n\u001b[39;00m\u001b[39m\\t\u001b[39;00m\u001b[39moptions: \u001b[39m\u001b[39m%s\u001b[39;00m\u001b[39m\"\u001b[39m \u001b[39m%\u001b[39m ( \u001b[39mself\u001b[39m\u001b[39m.\u001b[39moptions, ) )\n",
      "\u001b[1;31mRuntimeError\u001b[0m: Attempting to use an unavailable solver.\n\nThe SolverFactory was unable to create the solver \"_glpk_shell\"\nand returned an UnknownSolver object.  This error is raised at the point\nwhere the UnknownSolver object was used as if it were valid (by calling\nmethod \"solve\").\n\nThe original solver was created with the following parameters:\n\texecutable: C:\\Users\\Dimi\\.conda\\pkgs\\pyomo-6.4.2-py39h415ef7b_0\\Lib\\site-packages\\pyomo\\solvers\\plugins\\converter\\glpsol\n\ttype: _glpk_shell\n\t_args: ()\n\toptions: {}"
     ]
    }
   ],
   "source": [
    "#Solver = pyo.SolverFactory(solvername,executable=solverpath_exe)#('glpk')\n",
    "solverpath_exe='C:\\\\Users\\\\Dimi\\\\.conda\\\\pkgs\\\\pyomo-6.4.2-py39h415ef7b_0\\\\Lib\\\\site-packages\\\\pyomo\\\\solvers\\\\plugins\\\\converter\\\\glpsol'\n",
    "solverpath_folder = 'C:\\\\Users\\\\Dimi\\\\Else\\\\.conda\\\\pkgs\\\\pyomo-6.4.2-py39h415ef7b_0\\\\Lib\\\\site-packages\\\\pyomo\\\\solvers\\\\plugins\\\\solvers\\\\GLPK'\n",
    "Solver = pyo.SolverFactory('glpk', executable=solverpath_exe)\n",
    "Results = Solver.solve(mTransport)\n",
    "\n",
    "# Display solution\n",
    "mTransport.x.display()\n"
   ]
  },
  {
   "cell_type": "markdown",
   "metadata": {},
   "source": [
    "Display solution using pandas"
   ]
  },
  {
   "cell_type": "code",
   "execution_count": 30,
   "metadata": {},
   "outputs": [
    {
     "name": "stdout",
     "output_type": "stream",
     "text": [
      "    M1  M2  M3\n",
      "P1 NaN NaN NaN\n",
      "P2 NaN NaN NaN\n"
     ]
    }
   ],
   "source": [
    "import pandas as pd\n",
    "\n",
    "transp_results = pd.DataFrame()\n",
    "\n",
    "for i in mTransport.i:\n",
    "    for j in mTransport.j:\n",
    "        transp_results.loc[i,j] = mTransport.x[i,j]()\n",
    "        \n",
    "        \n",
    "print(transp_results)"
   ]
  },
  {
   "cell_type": "markdown",
   "metadata": {},
   "source": [
    "### Now the minimum cost"
   ]
  },
  {
   "cell_type": "code",
   "execution_count": 32,
   "metadata": {
    "scrolled": true
   },
   "outputs": [
    {
     "name": "stdout",
     "output_type": "stream",
     "text": [
      "ERROR: evaluating object as numeric value: x[P1,M1]\n",
      "        (object: <class 'pyomo.core.base.var._GeneralVarData'>)\n",
      "    No value for uninitialized NumericValue object x[P1,M1]\n"
     ]
    },
    {
     "ename": "ValueError",
     "evalue": "No value for uninitialized NumericValue object x[P1,M1]",
     "output_type": "error",
     "traceback": [
      "\u001b[1;31m---------------------------------------------------------------------------\u001b[0m",
      "\u001b[1;31mValueError\u001b[0m                                Traceback (most recent call last)",
      "Cell \u001b[1;32mIn [32], line 1\u001b[0m\n\u001b[1;32m----> 1\u001b[0m mTransport\u001b[39m.\u001b[39;49mobjective()\n",
      "File \u001b[1;32mc:\\Python310\\lib\\site-packages\\pyomo\\core\\base\\expression.py:56\u001b[0m, in \u001b[0;36m_ExpressionData.__call__\u001b[1;34m(self, exception)\u001b[0m\n\u001b[0;32m     54\u001b[0m \u001b[39mif\u001b[39;00m \u001b[39mself\u001b[39m\u001b[39m.\u001b[39mexpr \u001b[39mis\u001b[39;00m \u001b[39mNone\u001b[39;00m:\n\u001b[0;32m     55\u001b[0m     \u001b[39mreturn\u001b[39;00m \u001b[39mNone\u001b[39;00m\n\u001b[1;32m---> 56\u001b[0m \u001b[39mreturn\u001b[39;00m \u001b[39mself\u001b[39;49m\u001b[39m.\u001b[39;49mexpr(exception\u001b[39m=\u001b[39;49mexception)\n",
      "File \u001b[1;32mpyomo\\core\\expr\\numeric_expr.pyx:210\u001b[0m, in \u001b[0;36mpyomo.core.expr.numeric_expr.ExpressionBase.__call__\u001b[1;34m()\u001b[0m\n",
      "File \u001b[1;32mc:\\Python310\\lib\\site-packages\\pyomo\\core\\expr\\visitor.py:1206\u001b[0m, in \u001b[0;36mevaluate_expression\u001b[1;34m(exp, exception, constant)\u001b[0m\n\u001b[0;32m   1203\u001b[0m         clear_active \u001b[39m=\u001b[39m \u001b[39mTrue\u001b[39;00m\n\u001b[0;32m   1205\u001b[0m \u001b[39mtry\u001b[39;00m:\n\u001b[1;32m-> 1206\u001b[0m     \u001b[39mreturn\u001b[39;00m visitor\u001b[39m.\u001b[39;49mdfs_postorder_stack(exp)\n\u001b[0;32m   1207\u001b[0m \u001b[39mexcept\u001b[39;00m ( TemplateExpressionError, \u001b[39mValueError\u001b[39;00m, \u001b[39mTypeError\u001b[39;00m,\n\u001b[0;32m   1208\u001b[0m          NonConstantExpressionError, FixedExpressionError ):\n\u001b[0;32m   1209\u001b[0m     \u001b[39m# Errors that we want to be able to suppress:\u001b[39;00m\n\u001b[1;32m   (...)\u001b[0m\n\u001b[0;32m   1217\u001b[0m     \u001b[39m#   TypeError: This can be raised in Python3 when evaluating a\u001b[39;00m\n\u001b[0;32m   1218\u001b[0m     \u001b[39m#      operation returns a complex number (e.g., sqrt(-1))\u001b[39;00m\n\u001b[0;32m   1219\u001b[0m     \u001b[39mif\u001b[39;00m exception:\n",
      "File \u001b[1;32mc:\\Python310\\lib\\site-packages\\pyomo\\core\\expr\\visitor.py:880\u001b[0m, in \u001b[0;36mExpressionValueVisitor.dfs_postorder_stack\u001b[1;34m(self, node)\u001b[0m\n\u001b[0;32m    878\u001b[0m _sub \u001b[39m=\u001b[39m _argList[_idx]\n\u001b[0;32m    879\u001b[0m _idx \u001b[39m+\u001b[39m\u001b[39m=\u001b[39m \u001b[39m1\u001b[39m\n\u001b[1;32m--> 880\u001b[0m flag, value \u001b[39m=\u001b[39m \u001b[39mself\u001b[39;49m\u001b[39m.\u001b[39;49mvisiting_potential_leaf(_sub)\n\u001b[0;32m    881\u001b[0m \u001b[39mif\u001b[39;00m flag:\n\u001b[0;32m    882\u001b[0m     _result\u001b[39m.\u001b[39mappend( value )\n",
      "File \u001b[1;32mc:\\Python310\\lib\\site-packages\\pyomo\\core\\expr\\visitor.py:1108\u001b[0m, in \u001b[0;36m_EvaluationVisitor.visiting_potential_leaf\u001b[1;34m(self, node)\u001b[0m\n\u001b[0;32m   1105\u001b[0m     \u001b[39mreturn\u001b[39;00m \u001b[39mFalse\u001b[39;00m, \u001b[39mNone\u001b[39;00m\n\u001b[0;32m   1107\u001b[0m \u001b[39mif\u001b[39;00m node\u001b[39m.\u001b[39mis_numeric_type():\n\u001b[1;32m-> 1108\u001b[0m     \u001b[39mreturn\u001b[39;00m \u001b[39mTrue\u001b[39;00m, value(node, exception\u001b[39m=\u001b[39;49m\u001b[39mself\u001b[39;49m\u001b[39m.\u001b[39;49mexception)\n\u001b[0;32m   1109\u001b[0m \u001b[39melif\u001b[39;00m node\u001b[39m.\u001b[39mis_logical_type():\n\u001b[0;32m   1110\u001b[0m     \u001b[39mreturn\u001b[39;00m \u001b[39mTrue\u001b[39;00m, value(node, exception\u001b[39m=\u001b[39m\u001b[39mself\u001b[39m\u001b[39m.\u001b[39mexception)\n",
      "File \u001b[1;32mpyomo\\core\\expr\\numvalue.pyx:156\u001b[0m, in \u001b[0;36mpyomo.core.expr.numvalue.value\u001b[1;34m()\u001b[0m\n",
      "File \u001b[1;32mpyomo\\core\\expr\\numvalue.pyx:143\u001b[0m, in \u001b[0;36mpyomo.core.expr.numvalue.value\u001b[1;34m()\u001b[0m\n",
      "\u001b[1;31mValueError\u001b[0m: No value for uninitialized NumericValue object x[P1,M1]"
     ]
    }
   ],
   "source": [
    "mTransport.objective()"
   ]
  },
  {
   "cell_type": "markdown",
   "metadata": {},
   "source": [
    "### Interpretation\n",
    "\n",
    "In order to attain the minimum transport costs, 50 units should be sent from P1 to M1, 300 from P1 to M2, 275 from P2 to M1, and 275 from P2 to M3\n",
    "\n",
    "The total transport costs will be 153675 euros"
   ]
  },
  {
   "cell_type": "markdown",
   "metadata": {},
   "source": [
    "### We are done"
   ]
  },
  {
   "cell_type": "markdown",
   "metadata": {},
   "source": [
    "![uc3m](img/wedidit.png)"
   ]
  }
 ],
 "metadata": {
  "kernelspec": {
   "display_name": "Python 3.10.6 64-bit",
   "language": "python",
   "name": "python3"
  },
  "language_info": {
   "codemirror_mode": {
    "name": "ipython",
    "version": 3
   },
   "file_extension": ".py",
   "mimetype": "text/x-python",
   "name": "python",
   "nbconvert_exporter": "python",
   "pygments_lexer": "ipython3",
   "version": "3.10.6"
  },
  "vscode": {
   "interpreter": {
    "hash": "369f2c481f4da34e4445cda3fffd2e751bd1c4d706f27375911949ba6bb62e1c"
   }
  }
 },
 "nbformat": 4,
 "nbformat_minor": 2
}
