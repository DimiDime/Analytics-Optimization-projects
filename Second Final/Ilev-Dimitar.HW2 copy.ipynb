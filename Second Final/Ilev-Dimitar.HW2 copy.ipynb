{
 "cells": [
  {
   "cell_type": "markdown",
   "metadata": {},
   "source": [
    "# Second Homework\n",
    "## Dimitar Ilev\n",
    "## 1. Network optimization - Multi commodity problem\n",
    "# Operation Barbarossa and the Backup\n",
    "(Imaginative scenario)\n",
    "\n",
    "On 22 June 1941, Germany began a major attack on the Soviet Union, the communist state that consisted of Russia and a number of neighbouring countries. During the first nine months of the advance, one million German soldiers were killed and many we wounded. \n",
    "\n",
    "The German government has been loosing a lot of money due to the lenght of the war. What was expected to be a quick victory over the soviet state turned into a long lasting battle. Therefore, the government needs to find the cheapest way of transporting its backup units for the occupation of Leningrad, Moscow and Stalingrad. For the transition of the units there are the two cities Warschau and Budapest where the soldiers can regroup before continuing to their final destination.\n",
    "\n",
    "<img src=\"operation-barbarossa.png\" alt=\"Drawing\" style=\"width: 650px;\"/>\n",
    "\n",
    "For the transport of the different army units the generals have estimated the costs per soldier per route between the cities of origin, the transitional points and the final destinations. Through communication with the front lines they have gotten requests for few hundred thousand soldiers, which is 75.000 to Leningrad, 60.000 to Moscow and 90.000 to Stalingrad. \n",
    "\n",
    "They know that it is not strategic to generate this amount of soldiers from only one army base in big german cities. But it is smarter to collectively put the necessary number together from the two or three major military bases in the east of the empire: Berlin, Leipzig and Munic. To have a better understanding of the situatuion the generals have created an overview including the transportation costs per soldier in Reichsmark(RMARK), possible capacities(at each location) and the demands.\n",
    "\n",
    "<img src=\"OverviewBarbarossa1.png\" alt=\"Drawing\" style=\"width: 699px;\"/>"
   ]
  },
  {
   "cell_type": "markdown",
   "metadata": {},
   "source": [
    "# Mathematical definition\n",
    "### Decision Variable\n",
    "- Flows = x\n",
    "\n",
    "### Parameters\n",
    "- Costs = c\n",
    "- Arcs = L\n",
    "- Commodities (Soldiers) = k\n",
    "- Nodes (Cities) = n\n",
    "- Demand = Dem\n",
    "- Origin = O\n",
    "- Destination = D\n",
    "### Objective function: \n",
    "- Sums of costs multiplied with number of flows resulting in the total costs, that the model is minimizing.\n",
    "$$ minC = \\sum_{k\\epsilon K}^{} \\sum_{m\\epsilon L}^{} c_{m}^{k} \\times x_{m}^{k} $$\n",
    "\n",
    "### Set of Constraints:\n",
    "$$ x_{m}^{k} \\epsilon \\mathbb{Z}_{0}^{+} $$\n",
    "- Origin node: Positive demand, since noce is the origin of the commodities.\n",
    "$$ \\sum_{m\\epsilon L_{i}^{out}}x_{m}^{k} - \\sum_{m\\epsilon L_{i}^{in}} x_{m}^{k} = Dem^{k} \\rightarrow i \\epsilon O(k) $$\n",
    "\n",
    "- Destination node: Expects input and hence the demand is negative.\n",
    "$$ \\sum_{m\\epsilon L_{i}^{out}}x_{m}^{k} - \\sum_{m\\epsilon L_{i}^{in}} x_{m}^{k} = -Dem^{k} \\rightarrow i \\epsilon D(k) $$\n",
    "\n",
    "- Transition node: Input has to be equal to output since it is only a transitional point.\n",
    "$$ \\sum_{m\\epsilon L_{i}^{out}}x_{m}^{k} - \\sum_{m\\epsilon L_{i}^{in}} x_{m}^{k} = 0 \\rightarrow i \\epsilon N, k \\epsilon K $$\n",
    "\n",
    "- Capacity constraint: The flow at each node has to be less equal to the set capacity of that node\n",
    "$$ \\sum_{k \\epsilon K} x_{m}^{k} \\leq  Cap_{m} \\rightarrow m \\epsilon L $$"
   ]
  },
  {
   "cell_type": "markdown",
   "metadata": {},
   "source": [
    "### Data input"
   ]
  },
  {
   "cell_type": "code",
   "execution_count": 92,
   "metadata": {},
   "outputs": [
    {
     "name": "stdout",
     "output_type": "stream",
     "text": [
      "Overwriting mincost.dat\n"
     ]
    }
   ],
   "source": [
    "%%writefile mincost.dat\n",
    "# Nodes set\n",
    "set N := Berlin Leipzig Munic Warschau Budapest Leningrad Moscow Stalingrad;\n",
    "# Arcs set\n",
    "set A := (Berlin, Warschau) (Berlin,Budapest) (Leipzig, Warschau) (Leipzig, Budapest) (Munic, Warschau) (Munic, Budapest) (Warschau, Leningrad) (Warschau, Moscow) (Warschau, Stalingrad) (Budapest, Leningrad) (Budapest, Moscow) (Budapest, Stalingrad);\n",
    "\n",
    "param origin := Berlin Leipzig Munic;\n",
    "#param destination := Leningrad Moscow Stalingrad;\n",
    "#param transition := Warschau Budapest;\n",
    "\n",
    "# List of estimated costs for the transportation of one unit between each of the nodes\n",
    "# Transport costs in RMARK per soldier\n",
    "param: costs:= \n",
    "Berlin Warschau 3.4\n",
    "Leipzig Warschau 2.1\n",
    "Munic Warschau 1.3\n",
    "\n",
    "Berlin Budapest 4.2\n",
    "Leipzig Budapest 2.5\n",
    "Munic Budapest 1.2\n",
    "\n",
    "Warschau Leningrad 4.1\n",
    "Budapest Leningrad 4.5\n",
    "\n",
    "Warschau Moscow 4.8\n",
    "Budapest Moscow 3.5\n",
    "\n",
    "Warschau Stalingrad 5.1\n",
    "Budapest Stalingrad 3.8;\n",
    "\n",
    "# The capacity at each arc in thousand units \n",
    "param: capacity:= \n",
    "Berlin Warschau 65000\n",
    "Leipzig Warschau 50000\n",
    "Munic Warschau 45000\n",
    "\n",
    "Berlin Budapest 45000\n",
    "Leipzig Budapest 65000\n",
    "Munic Budapest 70000\n",
    "\n",
    "Warschau Leningrad 50000\n",
    "Budapest Leningrad 45000\n",
    "\n",
    "Warschau Moscow 55000\n",
    "Budapest Moscow 50000\n",
    "\n",
    "Warschau Stalingrad 60000\n",
    "Budapest Stalingrad 75000;\n",
    "\n",
    "# The demand of soldiers at each target\n",
    "param: demand:=\n",
    "Leningrad 75000\n",
    "Moscow 60000\n",
    "Stalingrad 90000;"
   ]
  },
  {
   "cell_type": "markdown",
   "metadata": {},
   "source": [
    "### The Model"
   ]
  },
  {
   "cell_type": "code",
   "execution_count": 93,
   "metadata": {},
   "outputs": [
    {
     "name": "stdout",
     "output_type": "stream",
     "text": [
      "Overwriting mincost.py\n"
     ]
    }
   ],
   "source": [
    "%%writefile mincost.py\n",
    "# Inports\n",
    "from pyomo.core import Constraint\n",
    "from pyomo.environ import *\n",
    "\n",
    "# Create an instance of the model\n",
    "model = AbstractModel()\n",
    "\n",
    "# Set Nodes list\n",
    "model.N = Set()\n",
    "# Set Arcs\n",
    "model.A = Set(within = model.N * model.N)\n",
    "\n",
    "# Set origin\n",
    "model.origin = Param(within = model.N)\n",
    "# Set destination\n",
    "#model.destination = Param(model.N)\n",
    "# Set transition\n",
    "#model.transition = Param(model.A)\n",
    "# Set costs\n",
    "model.costs = Param(model.A)\n",
    "# Set capacity\n",
    "model.capacity = Param(model.A)\n",
    "# Set demand\n",
    "model.demand = Param(model.N)\n",
    "\n",
    "# Set the decission variables => number of flows\n",
    "model.flow = Var(model.A,within=NonNegativeReals)\n",
    "\n",
    "# Define objective function\n",
    "def minCost_rule(model):\n",
    "    '''\n",
    "    Defines the objective functions, which ensure that the objective of the model is properly calculated. The constraint multiplies the cost of the chosed arc with the flow of the commodities. The function is defined over the set of costs and flows using the Objective class.\n",
    "    '''\n",
    "    return sum((model.flow[i,j] * model.costs[i,j]) for (i,j) in model.A)\n",
    "model.minCost = Objective(rule=minCost_rule, sense=minimize)\n",
    "\n",
    "#Define minimum demand constraint\n",
    "def demand_rule(model,i):\n",
    "    '''\n",
    "    Defines the demand constraints, which ensure that the final Nodes receives the necessary amount of units. This constraint is defined over the set of nodes using the Constraint class.\n",
    "    '''\n",
    "    if i == \"Leningrad\" or i == \"Moscow\" or i == \"Stalingrad\":\n",
    "        return sum(model.flow[s,d] for (s,d) in model.A if d==i)>=model.demand[i]\n",
    "    else: \n",
    "        return Constraint.Skip\n",
    "model.demandConstraint = Constraint(model.N, rule=demand_rule)\n",
    "\n",
    "# Create the capacity constraints\n",
    "def capacity_rule(model,i,j):\n",
    "    '''\n",
    "    Defines the capacity constraints, which ensure that the flow on each arc does not exceed the capacity of that arc. This constraint is defined over the set of arcs (model.A) using the Constraint class.\n",
    "    '''\n",
    "    return model.flow[i,j] <= model.capacity[i,j]\n",
    "\n",
    "model.capacityConstraint = Constraint(model.A, rule=capacity_rule)\n",
    "\n",
    "\n",
    "# Create the flow conservation constraints\n",
    "def conservation_rule(model, node):\n",
    "    '''\n",
    "    Defines the flow conservation constraints, which ensure that flow is conserved at each node. This constraint is defined over the set of nodes (model.N) using the Constraint class.\n",
    "    '''\n",
    "    if node == \"Berlin\" or node == \"Laipzig\" or node == \"Munic\":\n",
    "        return Constraint.Skip\n",
    "    if node == \"Leningrad\" or node == \"Moscow\" or node == \"Stalingrad\":\n",
    "        #return sum(model.flow[arc] for arc in model.A if arc[1] == node) == 1\n",
    "        return Constraint.Skip\n",
    "    # Incoming node\n",
    "    incoming = sum(model.flow[i,j] for (i,j) in model.A if node==i) # in\n",
    "    # Outgoing node\n",
    "    outgoing = sum(model.flow[i,j] for (i,j) in model.A if node==j) # out\n",
    "    return incoming == outgoing\n",
    "\n",
    "model.conservationConstraint = Constraint(model.N, rule=conservation_rule)"
   ]
  },
  {
   "cell_type": "code",
   "execution_count": 94,
   "metadata": {},
   "outputs": [
    {
     "name": "stdout",
     "output_type": "stream",
     "text": [
      "[    0.00] Setting up Pyomo environment\n",
      "[    0.00] Applying Pyomo preprocessing actions\n",
      "[    0.01] Creating model\n",
      "[    0.02] Applying solver\n",
      "[    0.10] Processing results\n",
      "    Number of solutions: 1\n",
      "    Solution Information\n",
      "      Gap: 0.0\n",
      "      Status: feasible\n",
      "      Function Value: 1500000.0\n",
      "    Solver results file: results.yml\n",
      "[    0.10] Applying Pyomo postprocessing actions\n",
      "[    0.10] Pyomo Finished\n"
     ]
    }
   ],
   "source": [
    "!pyomo solve --solver=glpk mincost.py mincost.dat"
   ]
  },
  {
   "cell_type": "markdown",
   "metadata": {},
   "source": [
    "## SOLVER RESULTS\n",
    "\n",
    "  Lower bound: 1500000.0  ---  Upper bound: 1500000.0  ---  Number of objectives: 1\n",
    "\n",
    "  Number of constraints: 19 ---  Number of variables: 13 ---  Number of nonzeros: 33\n",
    "\n",
    "Solution Objective minCost: 1.500.000 RMARK\n",
    "\n",
    "  Variables:\n",
    "  \n",
    "    flow[Berlin,Budapest]:\n",
    "      Value: 45000\n",
    "    \n",
    "    flow[Berlin,Warschau]:\n",
    "      Value: 65000\n",
    "    \n",
    "    flow[Budapest,Leningrad]:\n",
    "      Value: 25000\n",
    "    \n",
    "    flow[Budapest,Moscow]:\n",
    "      Value: 15000\n",
    "    \n",
    "    flow[Budapest,Stalingrad]:\n",
    "      Value: 75000\n",
    "    \n",
    "    flow[Munic,Budapest]:\n",
    "      Value: 70000\n",
    "    \n",
    "    flow[Munic,Warschau]:\n",
    "      Value: 45000\n",
    "    \n",
    "    flow[Warschau,Leningrad]:\n",
    "      Value: 50000\n",
    "    \n",
    "    flow[Warschau,Moscow]:\n",
    "      Value: 45000\n",
    "    \n",
    "    flow[Warschau,Stalingrad]:\n",
    "      Value: 15000\n"
   ]
  },
  {
   "cell_type": "markdown",
   "metadata": {},
   "source": [
    "## Conclusion\n",
    "As we can see in the solver output the total minimum costs for the transportation of the soldiers is 1.500.000,00 RMARK. For the number of soldiers we can see the most optimal way to save money between the locations, thus the amount that has to be send. \n",
    "\n",
    "The lower and upper bound account to the same value of 1.500.000 which is great, this means that we have generated the necessary number of flows to move from city to city and thus generated the minnimum cost value. We have used a total number of 19 constraints and 13 variables. \n",
    "\n",
    "- There are 65.000 soldiers going from Berlin to Warschau and 45.000 to Budapest.\n",
    "- Munich sends 45.000 to Warschau and 70.000 to Budapest.\n",
    "- Leipzig has been compromized in this solution.\n",
    "- Warschau sends 50.000 to Leningrad, 45.000 to Moscow and 15.000 to Stalingrad.\n",
    "- Budapest sends 25.000 to Leningrad, 15.000 to Moscow and 75.000 to Stalingrad.\n",
    "\n",
    "Through these combinations we get the required demand at each of the final locations."
   ]
  },
  {
   "cell_type": "markdown",
   "metadata": {},
   "source": [
    "<img src=\"FinalBarbarossa.png\" alt=\"Drawing\" style=\"width: 700px;\"/>"
   ]
  },
  {
   "cell_type": "markdown",
   "metadata": {},
   "source": [
    "### Interpretation\n",
    "As we can see in the final outcome graphic, we reach the total demand by transporting the units from the two origins Berlin and Munich to the two transition points Warschau and Budapest. There we split up the units between the three destinations.\n",
    "The model has estimated the best way of moving the provided number of units at each arc at the minimum cost possible. The set constrains have been respected and we do not exceed the maximum capacity at any of the arcs.\n",
    "\n",
    "The reason for not sending any troops out from Leipzig is due to the transportation costs. It is cheaper to transport troops from Munic but then to reach the necessary capacity at the transition nodes the rest of the troops have to come from Berlin. Here we have a conflict between the objective and the capacity constraint, since we are trying to minimize the costs but we are also trying to reach the requested capacity at each node in order to satisfy the final demand. Hence, based on the given specifications the model has decided that it is cheapest to skip Leipzig to reach the objective locations, in order to satisfy the demand constraint. Even if the transport costs from Leipzig are way less than the costs from Berlin.\n",
    "\n",
    "This solution satisfies the generals, as they can save money for further special military operations on the west front.\n",
    "\n",
    "If it is enough to win the war on the east front we will have to see..."
   ]
  },
  {
   "cell_type": "markdown",
   "metadata": {},
   "source": []
  },
  {
   "cell_type": "markdown",
   "metadata": {},
   "source": [
    "## Non-linear optimization problem"
   ]
  },
  {
   "cell_type": "markdown",
   "metadata": {},
   "source": []
  },
  {
   "cell_type": "code",
   "execution_count": null,
   "metadata": {},
   "outputs": [],
   "source": []
  }
 ],
 "metadata": {
  "kernelspec": {
   "display_name": "Python 3.10.6 64-bit",
   "language": "python",
   "name": "python3"
  },
  "language_info": {
   "codemirror_mode": {
    "name": "ipython",
    "version": 3
   },
   "file_extension": ".py",
   "mimetype": "text/x-python",
   "name": "python",
   "nbconvert_exporter": "python",
   "pygments_lexer": "ipython3",
   "version": "3.10.6"
  },
  "orig_nbformat": 4,
  "vscode": {
   "interpreter": {
    "hash": "369f2c481f4da34e4445cda3fffd2e751bd1c4d706f27375911949ba6bb62e1c"
   }
  }
 },
 "nbformat": 4,
 "nbformat_minor": 2
}
