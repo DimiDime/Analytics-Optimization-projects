{
 "cells": [
  {
   "cell_type": "markdown",
   "metadata": {},
   "source": [
    "![uc3m](img/uc3m.jpg)"
   ]
  },
  {
   "cell_type": "markdown",
   "metadata": {},
   "source": [
    "# Price Optimization\n",
    "\n",
    "<a href=\"http://www.est.uc3m.es/nogales\" target=\"_blank\">Javier Nogales</a>"
   ]
  },
  {
   "cell_type": "markdown",
   "metadata": {},
   "source": [
    "We have a product and we want to sell it. What is the right price?\n",
    "\n",
    "![](img/rightprice.png)\n",
    "\n",
    "Price and consumption (quantity/demand/sales) are two fundamental variables that determine the bottom line of every business. Hence, setting the right price is one of the most important decisions a company can make \n",
    "\n",
    "- Under-pricing: harmful if consumers are willing to pay more\n",
    "\n",
    "- Over-pricing: also harmful if consumers are less inclined to buy the product at a higher price\n",
    "\n",
    "So, how to balance price and sales in order to maximize sales and profit?\n",
    "\n",
    "In this case study, we provide an analytical tool to price optimally a given product \n",
    "\n",
    "\n"
   ]
  },
  {
   "cell_type": "markdown",
   "metadata": {},
   "source": [
    "# Formula\n",
    "D(x1) * x1 - C * x1 = max_profit"
   ]
  },
  {
   "cell_type": "markdown",
   "metadata": {},
   "source": [
    "## Mathematical formulation\n",
    "\n",
    "If the main goal is to maximize the profit from sales, we need to analyze first the sales\n",
    "\n",
    "### The demand curve\n",
    "\n",
    "The sales (or demand, or consumption) will depend on the price, hence we need to know the relation between sales and prices\n",
    "\n",
    "<img src=\"img/demandcurve.png\" width=\"450\">\n",
    "\n",
    "The demand curve will depend on the price in a decreasing way\n",
    "\n",
    "Take care: in Economics, it is usual to plot the demand on the x-axis and the price on the y-axis, even if the interest is in explaining the demand as a function of price\n",
    "\n",
    "Usual formulations\n",
    "\n",
    "- Linear: $D(p) = \\alpha p + \\beta$\n",
    "\n",
    "- Power: $D(p) = \\beta p^\\alpha$\n",
    "\n",
    "- Logit: $D(p)=\\frac{c}{1+\\exp(-\\alpha p-\\beta)}$\n",
    "\n",
    "In these cases, $\\alpha$ is known as the price elasticity of demand, and it is usually negative\n",
    "\n",
    "If negative and big, elasticity is high and consumers are very sensitive to the price. Otherwise, if it is small, consumers are not sensitive and will buy or not the product independently of the price\n",
    "\n",
    "Examples:\n",
    "\n",
    "- electricity or gas consumption is usually inelastic to price \n",
    "\n",
    "- a smartphone or a house have a high elastic demand to price -> High elastic demand (elasticity -> Slope in linear)\n",
    "\n",
    "Finally, note the demand curve is not known in practice and must be estimated using data\n",
    "\n",
    "### Estimating the demand curve\n",
    "\n",
    "We can use statistical or ML tools to estimate the curve\n",
    "\n",
    "For instance, a simple model with predictors $x$ could be:\n",
    "\n",
    "$$\n",
    "  D(p_1,x) = \\beta_0 + \\beta_1 p_1 + \\beta_2 p_2 + \\beta_3 x_1 + \\beta_4 x_2 + \\varepsilon\n",
    "$$\n",
    "\n",
    "where $p_1$ is the own price (to be optimized), $p_2$ is a competitor price, $x_1$ is the season of the year, and $x_2$ is the customer's income\n",
    "\n",
    "- Note ML tools will have difficulties when finding the sensitivities (betas)\n",
    "\n",
    "- Also note the betas will be estimated with noise"
   ]
  },
  {
   "cell_type": "markdown",
   "metadata": {},
   "source": [
    "### The variables and objective function\n",
    "\n",
    "Imagine for the moment the demand curve is known, and $p$ is the price to be decided. What is the profit?\n",
    "\n",
    "\n",
    "\n",
    "### What is the right price?\n",
    "\n",
    "\n",
    "\n"
   ]
  },
  {
   "cell_type": "markdown",
   "metadata": {},
   "source": [
    "### Some comments\n",
    "\n",
    "- The right price, $p^*$, is only optimal if the demand curve is completely known and also its parameters\n",
    "\n",
    "- In practice they are not known and should be predicted using statistical or machine learning tools\n",
    "\n",
    "- But in any case, if the noise when predicting the curve is high, then $p^*$ will be sub-optimal"
   ]
  },
  {
   "cell_type": "markdown",
   "metadata": {},
   "source": [
    "### The linear case\n",
    "\n",
    "If $D(p) = \\alpha p + \\beta$, what is the right price? And the corresponding sales?"
   ]
  },
  {
   "cell_type": "markdown",
   "metadata": {},
   "source": [
    "### Example\n",
    "\n",
    "A widget company sells widgets with unit cost at 5eur. If $D(p)=1000-50p$, the right price is ?\n",
    "where the sales with this price will be ? units"
   ]
  },
  {
   "cell_type": "code",
   "execution_count": null,
   "metadata": {},
   "outputs": [],
   "source": []
  }
 ],
 "metadata": {
  "kernelspec": {
   "display_name": "Python 3.10.6 64-bit",
   "language": "python",
   "name": "python3"
  },
  "language_info": {
   "codemirror_mode": {
    "name": "ipython",
    "version": 3
   },
   "file_extension": ".py",
   "mimetype": "text/x-python",
   "name": "python",
   "nbconvert_exporter": "python",
   "pygments_lexer": "ipython3",
   "version": "3.10.6"
  },
  "vscode": {
   "interpreter": {
    "hash": "369f2c481f4da34e4445cda3fffd2e751bd1c4d706f27375911949ba6bb62e1c"
   }
  }
 },
 "nbformat": 4,
 "nbformat_minor": 2
}
