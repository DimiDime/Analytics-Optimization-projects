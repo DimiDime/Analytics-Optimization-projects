{
 "cells": [
  {
   "cell_type": "code",
   "execution_count": 65,
   "metadata": {},
   "outputs": [
    {
     "name": "stdout",
     "output_type": "stream",
     "text": [
      "Overwriting mincost.dat\n"
     ]
    }
   ],
   "source": [
    "%%writefile mincost.dat\n",
    "# Nodes set\n",
    "set N := Berlin Leipzig Munic Warschau Budapest Leningrad Moscow Stalingrad;\n",
    "# Arcs set\n",
    "set A := (Berlin, Warschau) (Berlin,Budapest) (Leipzig, Warschau) (Leipzig, Budapest) (Munic, Warschau) (Munic, Budapest) (Warschau, Leningrad) (Warschau, Moscow) (Warschau, Stalingrad) (Budapest, Leningrad) (Budapest, Moscow) (Budapest, Stalingrad);\n",
    "\n",
    "param origin := Berlin Leipzig Munic;\n",
    "\n",
    "#param destination := Leningrad Moscow Stalingrad;\n",
    "\n",
    "#param transition := Warschau Budapest;\n",
    "\n",
    "param: demand:=\n",
    "Leningrad 20\n",
    "Moscow 10\n",
    "Stalingrad 10;\n",
    "\n",
    "param: costs:= \n",
    "Berlin Warschau 1\n",
    "Berlin Budapest 1\n",
    "Leipzig Warschau 1\n",
    "Leipzig Budapest 1\n",
    "Munic Warschau 1\n",
    "Munic Budapest 1\n",
    "Warschau Leningrad 3\n",
    "Warschau Moscow 4\n",
    "Warschau Stalingrad 5\n",
    "Budapest Leningrad 4.5\n",
    "Budapest Moscow 3.5\n",
    "Budapest Stalingrad 3;\n",
    "\n",
    "param: capacity := \n",
    "Berlin Warschau 40\n",
    "Berlin Budapest 40\n",
    "Leipzig Warschau 40\n",
    "Leipzig Budapest 40\n",
    "Munic Warschau 40\n",
    "Munic Budapest 40\n",
    "Warschau Leningrad 40\n",
    "Warschau Moscow 40\n",
    "Warschau Stalingrad 40\n",
    "Budapest Leningrad 40\n",
    "Budapest Moscow 40\n",
    "Budapest Stalingrad 40;"
   ]
  },
  {
   "cell_type": "code",
   "execution_count": 66,
   "metadata": {},
   "outputs": [
    {
     "name": "stdout",
     "output_type": "stream",
     "text": [
      "Overwriting mincost.py\n"
     ]
    }
   ],
   "source": [
    "%%writefile mincost.py\n",
    "from pyomo.core import Constraint\n",
    "from pyomo.environ import *\n",
    "\n",
    "# Create an instance of the model\n",
    "model = AbstractModel()\n",
    "\n",
    "# Set Nodes list\n",
    "model.N = Set()\n",
    "# Set Arcs\n",
    "model.A = Set(within = model.N * model.N)\n",
    "\n",
    "# Set origin\n",
    "model.origin = Param(within = model.N)\n",
    "# Set destination\n",
    "#model.destination = Param(model.N)\n",
    "# Set transition\n",
    "#model.transition = Param(model.A)\n",
    "# Set costs\n",
    "model.costs = Param(model.A)\n",
    "# Set capacity\n",
    "model.capacity = Param(model.A)\n",
    "# Set demand\n",
    "model.demand = Param(model.N)\n",
    "\n",
    "# Set the decission variables => number of flows\n",
    "model.flow = Var(model.A,within=NonNegativeReals)\n",
    "\n",
    "# Define objective function\n",
    "def minCost_rule(model):\n",
    "    return sum((model.flow[i,j] * model.costs[i,j]) for (i,j) in model.A)\n",
    "model.minCost = Objective(rule=minCost_rule, sense=minimize)\n",
    "\n",
    "#Define minimum demand constraint\n",
    "def demand_rule(model,i):\n",
    "    if i == \"Leningrad\" or i == \"Moscow\" or i == \"Stalingrad\":\n",
    "        return sum(model.flow[s,d] for (s,d) in model.A if d==i)>=model.demand[i]\n",
    "    else: \n",
    "        return Constraint.Skip\n",
    "model.demandConstraint = Constraint(model.N, rule=demand_rule)\n",
    "\n",
    "# Create the capacity constraints\n",
    "def capacity_rule(model,i,j):\n",
    "    '''\n",
    "    Defines the capacity constraints, which ensure that the flow on each arc does not exceed the capacity of that arc. This constraint is defined over the set of arcs (model.A) using the Constraint class\n",
    "    '''\n",
    "    return model.flow[i,j] <= model.capacity[i,j]\n",
    "\n",
    "model.capacityConstraint = Constraint(model.A, rule=capacity_rule)\n",
    "\n",
    "\n",
    "# Create the flow conservation constraints\n",
    "def conservation_rule(model, node):\n",
    "    '''\n",
    "    Defines the flow conservation constraints, which ensure that flow is conserved at each node. This constraint is defined over the set of nodes (model.N) using the Constraint class.\n",
    "    '''\n",
    "    if node == \"Berlin\" or node == \"Laipzig\" or node == \"Munic\":\n",
    "        return Constraint.Skip\n",
    "    if node == \"Leningrad\" or node == \"Moscow\" or node == \"Stalingrad\":\n",
    "        #return sum(model.flow[arc] for arc in model.A if arc[1] == node) == 1\n",
    "        return Constraint.Skip\n",
    "    \n",
    "    incoming = sum(model.flow[i,j] for (i,j) in model.A if node==i) # in\n",
    "    outgoing = sum(model.flow[i,j] for (i,j) in model.A if node==j) # out\n",
    "    return incoming == outgoing\n",
    "\n",
    "model.conservationConstraint = Constraint(model.N, rule=conservation_rule)"
   ]
  },
  {
   "cell_type": "code",
   "execution_count": 67,
   "metadata": {},
   "outputs": [
    {
     "name": "stdout",
     "output_type": "stream",
     "text": [
      "[    0.00] Setting up Pyomo environment\n",
      "[    0.00] Applying Pyomo preprocessing actions\n",
      "[    0.01] Creating model\n",
      "[    0.03] Applying solver\n",
      "[    0.11] Processing results\n",
      "    Number of solutions: 1\n",
      "    Solution Information\n",
      "      Gap: 0.0\n",
      "      Status: feasible\n",
      "      Function Value: 165.0\n",
      "    Solver results file: results.yml\n",
      "[    0.11] Applying Pyomo postprocessing actions\n",
      "[    0.11] Pyomo Finished\n"
     ]
    }
   ],
   "source": [
    "!pyomo solve --solver=glpk mincost.py mincost.dat"
   ]
  }
 ],
 "metadata": {
  "kernelspec": {
   "display_name": "Python 3.10.6 64-bit",
   "language": "python",
   "name": "python3"
  },
  "language_info": {
   "codemirror_mode": {
    "name": "ipython",
    "version": 3
   },
   "file_extension": ".py",
   "mimetype": "text/x-python",
   "name": "python",
   "nbconvert_exporter": "python",
   "pygments_lexer": "ipython3",
   "version": "3.10.6"
  },
  "orig_nbformat": 4,
  "vscode": {
   "interpreter": {
    "hash": "369f2c481f4da34e4445cda3fffd2e751bd1c4d706f27375911949ba6bb62e1c"
   }
  }
 },
 "nbformat": 4,
 "nbformat_minor": 2
}
