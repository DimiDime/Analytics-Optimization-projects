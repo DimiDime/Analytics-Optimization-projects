{
 "cells": [
  {
   "cell_type": "markdown",
   "metadata": {},
   "source": [
    "![uc3m](img/uc3m.jpg)"
   ]
  },
  {
   "cell_type": "markdown",
   "metadata": {},
   "source": [
    "# Dating Website\n",
    "\n",
    "<a href=\"http://www.est.uc3m.es/nogales\" target=\"_blank\">Javier Nogales</a>"
   ]
  },
  {
   "cell_type": "markdown",
   "metadata": {},
   "source": [
    "## Summary\n",
    "\n",
    "<br> eHarmony is a dating site that uses a Compatibility **Matching** System \n",
    "\n",
    "Unlike other online dating\n",
    "websites, eHarmony does not\n",
    "have users browse others’\n",
    "profiles\n",
    "\n",
    "Instead, eHarmony computes\n",
    "a compatibility score between\n",
    "two people and uses\n",
    "optimization algorithms to\n",
    "determine their users’ best\n",
    "matches\n",
    "\n",
    "eHarmony Compatibility System: https://www.eharmony.com/tour/what-is-compatibility-system/\n",
    "\n",
    "![](img/eharmony.jpg)\n",
    "\n",
    "<br>\n",
    "\n",
    "The algorithm summary:\n",
    "\n",
    "<br>\n",
    "\n",
    "<li>Each user has to fill an extensive questionary (80 questions, around 20 minutes) about who you are, what you like and don’t like, what are your values and the type of person you want to share your life with.\n",
    "    \n",
    "    \n",
    "<li>Based on factor analysis, the information is transformed into \"dimensions of personality\": 32 personalitry traits. That means each person is summarized through 32 numbers. \n",
    "    \n",
    "<li> The company can then compute the distances between each possible couple and then  <font color=\"red\">estimates compatibility scores</font> associated to each possible couple. These are \"similarities\" that help predict a more satisfying relationship. \n",
    "    \n",
    "<li> Note similarities are roughly the inverse of distances. For example, if $d_{ij}=d(x_i,y_j)$ denotes the distance between couple $x_i$ and $y_j$, the compatibility score could be: $w_{ij} = 1-d_{ij}^2 / 2$\n",
    "\n",
    "\n",
    "<li>The objective is to match pairs to <font color=\"red\">maximize global compatibility</font>\n",
    "    \n",
    "\n"
   ]
  },
  {
   "cell_type": "markdown",
   "metadata": {},
   "source": [
    "### Mathematical formulation\n",
    "\n",
    "Let index $i$ represent women and $j$ represent men. Let $w_{ij}$ be the compatibility score between woman $i$ and man $j$.\n",
    "\n",
    "\n",
    "<font color=\"blue\">Decision variables:</font>\n",
    "\n",
    "$$\n",
    "x_{ij}=\n",
    "\\left\\{\\begin{array}{ll} \n",
    "1, & \\text{if we match user $i$ and user $j$,}\\\\\n",
    "0, & \\text{if we do not match user  $i$ and user $j$}\n",
    "\\end{array} \\right.\\quad i=1,2,3 \\quad j=1,2,3\n",
    "$$\n",
    "\n",
    "<font color=\"blue\">Data:</font>  \n",
    "  \n",
    "$w_{ij}$ | $j=1$ | $j=2$ | $j=3$\n",
    " -------|---|----|--------------\n",
    "  $i=1$ | 1 | 3 | 5 \n",
    "  $i=2$ | 4 | 2 | 2 \n",
    "  $i=3$ | 1 | 5 | 3\n",
    "  \n",
    "\n",
    "<font color=\"blue\">Formulation:</font>\n",
    "\n",
    "\\begin{align*}\n",
    "\\underset{x_{ij}}{\\max} & \\quad \\sum_{i=1}^{n}\\sum_{j=1}^{m}w_{ij}x_{ij}\\\\\n",
    "\\text{s.t.:}&\\\\\n",
    "  &\\sum_{i=1}^{n} x_{ij} =1 \\quad \\forall j\\\\\n",
    "  &\\sum_{j=1}^{m} x_{ij} = 1 \\quad \\forall i\\\\\n",
    "  &x_{ij} \\in \\{0,1\\} \\quad \\forall ij \n",
    "\\end{align*}\n"
   ]
  },
  {
   "cell_type": "markdown",
   "metadata": {},
   "source": [
    "## Formulation with Pyomo\n",
    "\n"
   ]
  },
  {
   "cell_type": "markdown",
   "metadata": {},
   "source": [
    "### The data\n",
    "\n",
    "Small example from slides"
   ]
  },
  {
   "cell_type": "code",
   "execution_count": 1,
   "metadata": {},
   "outputs": [],
   "source": [
    "import numpy as np\n",
    "\n",
    "# similarities\n",
    "w = np.array([[1, 3, 5], \n",
    "            [4, 2, 2], \n",
    "            [1, 5, 3]])\n",
    "\n",
    "(m,n) = w.shape"
   ]
  },
  {
   "cell_type": "markdown",
   "metadata": {},
   "source": [
    "### The model\n",
    "\n",
    "General formulation"
   ]
  },
  {
   "cell_type": "code",
   "execution_count": 2,
   "metadata": {},
   "outputs": [],
   "source": [
    "### Insert your code here\n",
    "\n",
    "from pyomo.environ import *\n",
    "\n",
    "model = ConcreteModel()\n",
    "\n",
    "# Index definition for women and men\n",
    "\n",
    "# variables\n",
    "model.x = Var()\n",
    "\n",
    "# objective function\n",
    "\n",
    "\n",
    "# Constraints\n",
    "\n",
    "# each male matches only one female\n",
    "\n",
    "# each female matches only one male"
   ]
  },
  {
   "cell_type": "markdown",
   "metadata": {},
   "source": [
    "### Obtain the solution"
   ]
  },
  {
   "cell_type": "code",
   "execution_count": 3,
   "metadata": {},
   "outputs": [
    {
     "name": "stdout",
     "output_type": "stream",
     "text": [
      "Model unknown\n",
      "\n",
      "  Variables:\n",
      "    x : Size=9, Index=x_index\n",
      "        Key    : Lower : Value : Upper : Fixed : Stale : Domain\n",
      "        (1, 1) :     0 :   0.0 :     1 : False : False : Binary\n",
      "        (1, 2) :     0 :   0.0 :     1 : False : False : Binary\n",
      "        (1, 3) :     0 :   1.0 :     1 : False : False : Binary\n",
      "        (2, 1) :     0 :   1.0 :     1 : False : False : Binary\n",
      "        (2, 2) :     0 :   0.0 :     1 : False : False : Binary\n",
      "        (2, 3) :     0 :   0.0 :     1 : False : False : Binary\n",
      "        (3, 1) :     0 :   0.0 :     1 : False : False : Binary\n",
      "        (3, 2) :     0 :   1.0 :     1 : False : False : Binary\n",
      "        (3, 3) :     0 :   0.0 :     1 : False : False : Binary\n",
      "\n",
      "  Objectives:\n",
      "    OBJ : Size=1, Index=None, Active=True\n",
      "        Key  : Active : Value\n",
      "        None :   True :  14.0\n",
      "\n",
      "  Constraints:\n",
      "    male_Constraint : Size=3\n",
      "        Key : Lower : Body : Upper\n",
      "          1 :   1.0 :  1.0 :   1.0\n",
      "          2 :   1.0 :  1.0 :   1.0\n",
      "          3 :   1.0 :  1.0 :   1.0\n",
      "    female_Constraint : Size=3\n",
      "        Key : Lower : Body : Upper\n",
      "          1 :   1.0 :  1.0 :   1.0\n",
      "          2 :   1.0 :  1.0 :   1.0\n",
      "          3 :   1.0 :  1.0 :   1.0\n"
     ]
    },
    {
     "data": {
      "text/plain": [
       "14.0"
      ]
     },
     "execution_count": 3,
     "metadata": {},
     "output_type": "execute_result"
    }
   ],
   "source": [
    "# Insert your code here\n",
    "\n",
    "\n",
    " "
   ]
  },
  {
   "cell_type": "code",
   "execution_count": 4,
   "metadata": {},
   "outputs": [
    {
     "name": "stdout",
     "output_type": "stream",
     "text": [
      "     1    2    3\n",
      "1  0.0  0.0  1.0\n",
      "2  1.0  0.0  0.0\n",
      "3  0.0  1.0  0.0\n"
     ]
    }
   ],
   "source": [
    "# display solution as data frame\n",
    "\n",
    "import pandas as pd\n",
    "\n",
    "table_results = pd.DataFrame()\n",
    "\n",
    "for i in model.I:\n",
    "    for j in model.J:\n",
    "        table_results.loc[i,j] = model.x[i,j]()\n",
    "        \n",
    "        \n",
    "print(table_results)"
   ]
  },
  {
   "cell_type": "markdown",
   "metadata": {},
   "source": [
    "### How to modify the formulation if there are more men than women?\n",
    "\n",
    "Let's do it with a bigger version"
   ]
  },
  {
   "cell_type": "code",
   "execution_count": 5,
   "metadata": {},
   "outputs": [],
   "source": [
    "import random\n",
    "\n",
    "random.seed(1234)\n",
    "n=300;\n",
    "m=320; # more men than women\n",
    "\n",
    "w=np.random.uniform(0,10,([n,m]));\n"
   ]
  },
  {
   "cell_type": "markdown",
   "metadata": {},
   "source": [
    "Pyomo formulation:"
   ]
  },
  {
   "cell_type": "code",
   "execution_count": 6,
   "metadata": {},
   "outputs": [],
   "source": [
    "### Insert your code here\n",
    "\n",
    "from pyomo.environ import *\n",
    "\n",
    "model = ConcreteModel()"
   ]
  },
  {
   "cell_type": "markdown",
   "metadata": {},
   "source": [
    "### The solution\n",
    "\n"
   ]
  },
  {
   "cell_type": "code",
   "execution_count": 7,
   "metadata": {},
   "outputs": [
    {
     "data": {
      "text/plain": [
       "2985.7142733221203"
      ]
     },
     "execution_count": 7,
     "metadata": {},
     "output_type": "execute_result"
    }
   ],
   "source": [
    "### Insert your code here"
   ]
  },
  {
   "cell_type": "code",
   "execution_count": 8,
   "metadata": {},
   "outputs": [
    {
     "name": "stdout",
     "output_type": "stream",
     "text": [
      "     1    2    3    4    5    6    7    8    9\n",
      "1  0.0  0.0  0.0  0.0  0.0  0.0  0.0  0.0  0.0\n",
      "2  0.0  0.0  0.0  0.0  0.0  0.0  0.0  0.0  0.0\n",
      "3  0.0  0.0  0.0  0.0  0.0  0.0  0.0  0.0  0.0\n",
      "4  0.0  0.0  0.0  0.0  0.0  0.0  0.0  0.0  0.0\n",
      "5  0.0  0.0  0.0  0.0  0.0  0.0  0.0  0.0  0.0\n",
      "6  0.0  0.0  0.0  0.0  0.0  0.0  0.0  0.0  0.0\n",
      "7  0.0  0.0  0.0  0.0  0.0  0.0  0.0  0.0  0.0\n",
      "8  0.0  0.0  0.0  0.0  0.0  0.0  0.0  0.0  0.0\n",
      "9  0.0  0.0  0.0  0.0  0.0  0.0  0.0  0.0  0.0\n"
     ]
    }
   ],
   "source": [
    "# display the solution in a data frame\n",
    "\n",
    "table_results = pd.DataFrame()\n",
    "\n",
    "for i in range(1,10):\n",
    "    for j in range(1,10):\n",
    "        table_results.loc[i,j] = model.x[i,j]()\n",
    "               \n",
    "print(table_results)"
   ]
  },
  {
   "cell_type": "markdown",
   "metadata": {},
   "source": [
    "Practical question: what if we want to show woman 4th her two most compatible men?"
   ]
  },
  {
   "cell_type": "markdown",
   "metadata": {},
   "source": [
    "Add your answer (mathematically) here:"
   ]
  },
  {
   "cell_type": "code",
   "execution_count": null,
   "metadata": {},
   "outputs": [],
   "source": []
  }
 ],
 "metadata": {
  "kernelspec": {
   "display_name": "Python 3.10.6 64-bit",
   "language": "python",
   "name": "python3"
  },
  "language_info": {
   "codemirror_mode": {
    "name": "ipython",
    "version": 3
   },
   "file_extension": ".py",
   "mimetype": "text/x-python",
   "name": "python",
   "nbconvert_exporter": "python",
   "pygments_lexer": "ipython3",
   "version": "3.10.6"
  },
  "vscode": {
   "interpreter": {
    "hash": "369f2c481f4da34e4445cda3fffd2e751bd1c4d706f27375911949ba6bb62e1c"
   }
  }
 },
 "nbformat": 4,
 "nbformat_minor": 2
}
