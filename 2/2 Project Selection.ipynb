{
 "cells": [
  {
   "cell_type": "markdown",
   "metadata": {},
   "source": [
    "![uc3m](img/uc3m.jpg)"
   ]
  },
  {
   "cell_type": "markdown",
   "metadata": {},
   "source": [
    "# Project Selection\n",
    "\n",
    "<a href=\"http://www.est.uc3m.es/nogales\" target=\"_blank\">Javier Nogales</a>"
   ]
  },
  {
   "cell_type": "markdown",
   "metadata": {},
   "source": [
    "## Summary\n",
    "\n",
    "<li>A company is evaluating 5 projects to develop during the next 3 years.\n",
    "\n",
    "<li>These projects require an investment during the 3 years period.\n",
    "\n",
    "<li>There is a maximum budget per year of $25$ million euros.\n",
    "\n",
    "<li>Which are the projects to be selected to <font color=\"red\">maximize</font> total profits?\n",
    "\n",
    "<li>The expected profit from each project (millions of euros) and the investment that needs to be made for each project \n",
    "and year (millions of euros) are:\n",
    "\n",
    " Project | Inv. t=1 | Inv. t=2 | Inv. t=3 | Profit\n",
    " -------|--------|--|--|---------\n",
    "  1 |  5 | 1 | 8  | 20\n",
    "  2 |  4 | 7 | 10 | 40\n",
    "  3 |  3 | 9 | 2  |  20\n",
    "  4 |  7 | 4 | 1  |  15\n",
    "  5 |  8 | 6 | 10 |  30\n",
    "\n",
    "\n",
    "<li> <font color=\"blue\">Decision variables:</font>\n",
    "$$\n",
    "x_i =\n",
    "\\left\\{\\begin{array}{ll} \n",
    "1, & \\text{if project $i$ is selected,}\\\\\n",
    "0, & \\text{if project $i$ is not selected}\n",
    "\\end{array} \\right.\\quad i=1,2,3,4,5\n",
    "$$\n",
    "\n",
    "<li> <font color=\"blue\">Objective:</font> maximize total expected profit.\n",
    "$$\n",
    "20 x_1 + 40 x_2 + 20 x_3 + 15 x_4 + 30 x_5\n",
    "$$\n",
    "\n",
    "\n",
    "<li><font color=\"blue\">Constraints:</font>\n",
    "<ul>\n",
    "\n",
    "<li>Anual project's budget:\n",
    "$$\n",
    "\\begin{array}{ll}\n",
    "5x_1 + 4 x_2 + 3 x_3 + 7 x_4 + 8 x_5 \\leq 25 & \\text{(year 1 budget)}\n",
    "\\\\\n",
    "1x_1 + 7 x_2 + 9 x_3 + 4 x_4 + 6 x_5 \\leq 25 & \\text{(year 2 budget)}\n",
    "\\\\\n",
    "8 x_1 + 10 x_2 + 2 x_3 + 1 x_4 + 10 x_5 \\leq 25 &\n",
    "\\text{(year 3 budget)}\n",
    "\\end{array}\n",
    "$$\n",
    "\n",
    "<li>Binary variables:\n",
    "$$\n",
    "x_i \\in \\{ 0,1\\}, i=1,2,3,4,5\n",
    "$$\n",
    "</ul>\n",
    "\n",
    "\n"
   ]
  },
  {
   "cell_type": "markdown",
   "metadata": {},
   "source": [
    "## Formulation with Pyomo\n",
    "\n"
   ]
  },
  {
   "cell_type": "code",
   "execution_count": 2,
   "metadata": {},
   "outputs": [],
   "source": [
    "from pyomo.environ import *\n",
    "\n",
    "model = ConcreteModel()\n",
    "\n",
    "# variables\n",
    "model.x = Var([1,2,3,4,5], domain=Binary)\n",
    "\n",
    "# objective function\n",
    "#model.OBJ = Objective()\n",
    "P = [20,40,20,15,30] \n",
    "I = range(len(P)) \n",
    "model.OBJ = Objective(rule=sum(model.x[i+1]*P[i] for i in I),sense=maximize,doc='profit')\n",
    "\n",
    "# constraints\n",
    "model.cons1 = Constraint(expr = 5*model.x[1]+4*model.x[2]+3*model.x[3]+7*model.x[4]+8*model.x[5] <=25)\n",
    "\n",
    "model.cons2 = Constraint(expr = 1*model.x[1]+7*model.x[2]+9*model.x[3]+4*model.x[4]+6*model.x[5] <=25)\n",
    "\n",
    "model.cons3 = Constraint(expr = 8*model.x[1]+10*model.x[2]+2*model.x[3]+1*model.x[4]+10*model.x[5] <=25)\n"
   ]
  },
  {
   "cell_type": "markdown",
   "metadata": {},
   "source": [
    "### Solution\n"
   ]
  },
  {
   "cell_type": "code",
   "execution_count": 3,
   "metadata": {},
   "outputs": [
    {
     "name": "stdout",
     "output_type": "stream",
     "text": [
      "WARNING: Could not locate the 'glpsol' executable, which is required for\n",
      "    solver 'glpk'\n"
     ]
    },
    {
     "ename": "ApplicationError",
     "evalue": "No executable found for solver 'glpk'",
     "output_type": "error",
     "traceback": [
      "\u001b[1;31m---------------------------------------------------------------------------\u001b[0m",
      "\u001b[1;31mApplicationError\u001b[0m                          Traceback (most recent call last)",
      "Input \u001b[1;32mIn [3]\u001b[0m, in \u001b[0;36m<cell line: 4>\u001b[1;34m()\u001b[0m\n\u001b[0;32m      1\u001b[0m Solver \u001b[38;5;241m=\u001b[39m SolverFactory(\u001b[38;5;124m'\u001b[39m\u001b[38;5;124mglpk\u001b[39m\u001b[38;5;124m'\u001b[39m)\n\u001b[0;32m      2\u001b[0m \u001b[38;5;66;03m#Solver = SolverFactory('gurobi')\u001b[39;00m\n\u001b[1;32m----> 4\u001b[0m Results \u001b[38;5;241m=\u001b[39m \u001b[43mSolver\u001b[49m\u001b[38;5;241;43m.\u001b[39;49m\u001b[43msolve\u001b[49m\u001b[43m(\u001b[49m\u001b[43mmodel\u001b[49m\u001b[43m)\u001b[49m\n\u001b[0;32m      6\u001b[0m \u001b[38;5;66;03m# Display solution\u001b[39;00m\n\u001b[0;32m      7\u001b[0m display(model)\n",
      "File \u001b[1;32m~\\AppData\\Roaming\\Python\\Python39\\site-packages\\pyomo\\opt\\base\\solvers.py:513\u001b[0m, in \u001b[0;36mOptSolver.solve\u001b[1;34m(self, *args, **kwds)\u001b[0m\n\u001b[0;32m    510\u001b[0m \u001b[38;5;28;01mdef\u001b[39;00m \u001b[38;5;21msolve\u001b[39m(\u001b[38;5;28mself\u001b[39m, \u001b[38;5;241m*\u001b[39margs, \u001b[38;5;241m*\u001b[39m\u001b[38;5;241m*\u001b[39mkwds):\n\u001b[0;32m    511\u001b[0m     \u001b[38;5;124;03m\"\"\" Solve the problem \"\"\"\u001b[39;00m\n\u001b[1;32m--> 513\u001b[0m     \u001b[38;5;28;43mself\u001b[39;49m\u001b[38;5;241;43m.\u001b[39;49m\u001b[43mavailable\u001b[49m\u001b[43m(\u001b[49m\u001b[43mexception_flag\u001b[49m\u001b[38;5;241;43m=\u001b[39;49m\u001b[38;5;28;43;01mTrue\u001b[39;49;00m\u001b[43m)\u001b[49m\n\u001b[0;32m    514\u001b[0m     \u001b[38;5;66;03m#\u001b[39;00m\n\u001b[0;32m    515\u001b[0m     \u001b[38;5;66;03m# If the inputs are models, then validate that they have been\u001b[39;00m\n\u001b[0;32m    516\u001b[0m     \u001b[38;5;66;03m# constructed! Collect suffix names to try and import from solution.\u001b[39;00m\n\u001b[0;32m    517\u001b[0m     \u001b[38;5;66;03m#\u001b[39;00m\n\u001b[0;32m    518\u001b[0m     \u001b[38;5;28;01mfrom\u001b[39;00m \u001b[38;5;21;01mpyomo\u001b[39;00m\u001b[38;5;21;01m.\u001b[39;00m\u001b[38;5;21;01mcore\u001b[39;00m\u001b[38;5;21;01m.\u001b[39;00m\u001b[38;5;21;01mbase\u001b[39;00m\u001b[38;5;21;01m.\u001b[39;00m\u001b[38;5;21;01mblock\u001b[39;00m \u001b[38;5;28;01mimport\u001b[39;00m _BlockData\n",
      "File \u001b[1;32m~\\AppData\\Roaming\\Python\\Python39\\site-packages\\pyomo\\opt\\solver\\shellcmd.py:129\u001b[0m, in \u001b[0;36mSystemCallSolver.available\u001b[1;34m(self, exception_flag)\u001b[0m\n\u001b[0;32m    127\u001b[0m     \u001b[38;5;28;01mif\u001b[39;00m exception_flag:\n\u001b[0;32m    128\u001b[0m         msg \u001b[38;5;241m=\u001b[39m \u001b[38;5;124m\"\u001b[39m\u001b[38;5;124mNo executable found for solver \u001b[39m\u001b[38;5;124m'\u001b[39m\u001b[38;5;132;01m%s\u001b[39;00m\u001b[38;5;124m'\u001b[39m\u001b[38;5;124m\"\u001b[39m\n\u001b[1;32m--> 129\u001b[0m         \u001b[38;5;28;01mraise\u001b[39;00m ApplicationError(msg \u001b[38;5;241m%\u001b[39m \u001b[38;5;28mself\u001b[39m\u001b[38;5;241m.\u001b[39mname)\n\u001b[0;32m    130\u001b[0m     \u001b[38;5;28;01mreturn\u001b[39;00m \u001b[38;5;28;01mFalse\u001b[39;00m\n\u001b[0;32m    131\u001b[0m \u001b[38;5;28;01mreturn\u001b[39;00m \u001b[38;5;28;01mTrue\u001b[39;00m\n",
      "\u001b[1;31mApplicationError\u001b[0m: No executable found for solver 'glpk'"
     ]
    }
   ],
   "source": [
    "Solver = SolverFactory('glpk')\n",
    "#Solver = SolverFactory('gurobi')\n",
    "\n",
    "Results = Solver.solve(model)\n",
    "\n",
    "# Display solution\n",
    "display(model)"
   ]
  },
  {
   "cell_type": "code",
   "execution_count": null,
   "metadata": {},
   "outputs": [],
   "source": [
    "\"\"\"\n",
    "Model unknown\n",
    "\n",
    "  Variables:\n",
    "    x : Size=5, Index=x_index\n",
    "        Key : Lower : Value : Upper : Fixed : Stale : Domain\n",
    "          1 :     0 :   1.0 :     1 : False : False : Binary\n",
    "          2 :     0 :   1.0 :     1 : False : False : Binary\n",
    "          3 :     0 :   1.0 :     1 : False : False : Binary\n",
    "          4 :     0 :   1.0 :     1 : False : False : Binary\n",
    "          5 :     0 :   0.0 :     1 : False : False : Binary\n",
    "\n",
    "  Objectives:\n",
    "    OBJ : Size=1, Index=None, Active=True\n",
    "        Key  : Active : Value\n",
    "        None :   True :  95.0\n",
    "\n",
    "  Constraints:\n",
    "    cons1 : Size=1\n",
    "        Key  : Lower : Body : Upper\n",
    "        None :  None : 19.0 :  25.0\n",
    "    cons2 : Size=1\n",
    "        Key  : Lower : Body : Upper\n",
    "        None :  None : 21.0 :  25.0\n",
    "    cons3 : Size=1\n",
    "        Key  : Lower : Body : Upper\n",
    "        None :  None : 21.0 :  25.0\n",
    "\"\"\""
   ]
  }
 ],
 "metadata": {
  "kernelspec": {
   "display_name": "Python 3 (ipykernel)",
   "language": "python",
   "name": "python3"
  },
  "language_info": {
   "codemirror_mode": {
    "name": "ipython",
    "version": 3
   },
   "file_extension": ".py",
   "mimetype": "text/x-python",
   "name": "python",
   "nbconvert_exporter": "python",
   "pygments_lexer": "ipython3",
   "version": "3.9.12"
  }
 },
 "nbformat": 4,
 "nbformat_minor": 2
}
