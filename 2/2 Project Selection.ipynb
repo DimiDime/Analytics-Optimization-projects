{
 "cells": [
  {
   "cell_type": "markdown",
   "metadata": {},
   "source": [
    "![uc3m](img/uc3m.jpg)"
   ]
  },
  {
   "cell_type": "markdown",
   "metadata": {},
   "source": [
    "# Project Selection\n",
    "\n",
    "<a href=\"http://www.est.uc3m.es/nogales\" target=\"_blank\">Javier Nogales</a>"
   ]
  },
  {
   "cell_type": "markdown",
   "metadata": {},
   "source": [
    "## Summary\n",
    "\n",
    "<li>A company is evaluating 5 projects to develop during the next 3 years.\n",
    "\n",
    "<li>These projects require an investment during the 3 years period.\n",
    "\n",
    "<li>There is a maximum budget per year of $25$ million euros.\n",
    "\n",
    "<li>Which are the projects to be selected to <font color=\"red\">maximize</font> total profits?\n",
    "\n",
    "<li>The expected profit from each project (millions of euros) and the investment that needs to be made for each project \n",
    "and year (millions of euros) are:\n",
    "\n",
    " Project | Inv. t=1 | Inv. t=2 | Inv. t=3 | Profit\n",
    " -------|--------|--|--|---------\n",
    "  1 |  5 | 1 | 8  | 20\n",
    "  2 |  4 | 7 | 10 | 40\n",
    "  3 |  3 | 9 | 2  |  20\n",
    "  4 |  7 | 4 | 1  |  15\n",
    "  5 |  8 | 6 | 10 |  30\n",
    "\n",
    "\n",
    "<li> <font color=\"blue\">Decision variables:</font>\n",
    "$$\n",
    "x_i =\n",
    "\\left\\{\\begin{array}{ll} \n",
    "1, & \\text{if project $i$ is selected,}\\\\\n",
    "0, & \\text{if project $i$ is not selected}\n",
    "\\end{array} \\right.\\quad i=1,2,3,4,5\n",
    "$$\n",
    "\n",
    "<li> <font color=\"blue\">Objective:</font> maximize total expected profit.\n",
    "$$\n",
    "20 x_1 + 40 x_2 + 20 x_3 + 15 x_4 + 30 x_5\n",
    "$$\n",
    "\n",
    "\n",
    "<li><font color=\"blue\">Constraints:</font>\n",
    "<ul>\n",
    "\n",
    "<li>Anual project's budget:\n",
    "$$\n",
    "\\begin{array}{ll}\n",
    "5x_1 + 4 x_2 + 3 x_3 + 7 x_4 + 8 x_5 \\leq 25 & \\text{(year 1 budget)}\n",
    "\\\\\n",
    "1x_1 + 7 x_2 + 9 x_3 + 4 x_4 + 6 x_5 \\leq 25 & \\text{(year 2 budget)}\n",
    "\\\\\n",
    "8 x_1 + 10 x_2 + 2 x_3 + 1 x_4 + 10 x_5 \\leq 25 &\n",
    "\\text{(year 3 budget)}\n",
    "\\end{array}\n",
    "$$\n",
    "\n",
    "<li>Binary variables:\n",
    "$$\n",
    "x_i \\in \\{ 0,1\\}, i=1,2,3,4,5\n",
    "$$\n",
    "</ul>\n",
    "\n",
    "\n"
   ]
  },
  {
   "cell_type": "markdown",
   "metadata": {},
   "source": [
    "## Formulation with Pyomo\n",
    "\n"
   ]
  },
  {
   "cell_type": "code",
   "execution_count": 2,
   "metadata": {},
   "outputs": [],
   "source": [
    "from pyomo.environ import *\n",
    "\n",
    "model = ConcreteModel()\n",
    "\n",
    "# variables\n",
    "model.x = Var([1,2,3,4,5], domain=Binary)\n",
    "\n",
    "# objective function\n",
    "#model.OBJ = Objective()\n",
    "P = [20,40,20,15,30] \n",
    "I = range(len(P)) \n",
    "model.OBJ = Objective(rule=sum(model.x[i+1]*P[i] for i in I),sense=maximize,doc='profit')\n",
    "\n",
    "# constraints\n",
    "model.cons1 = Constraint(expr = 5*model.x[1]+4*model.x[2]+3*model.x[3]+7*model.x[4]+8*model.x[5] <=25)\n",
    "\n",
    "model.cons2 = Constraint(expr = 1*model.x[1]+7*model.x[2]+9*model.x[3]+4*model.x[4]+6*model.x[5] <=25)\n",
    "\n",
    "model.cons3 = Constraint(expr = 8*model.x[1]+10*model.x[2]+2*model.x[3]+1*model.x[4]+10*model.x[5] <=25)\n"
   ]
  },
  {
   "cell_type": "markdown",
   "metadata": {},
   "source": [
    "### Solution\n"
   ]
  },
  {
   "cell_type": "code",
   "execution_count": 1,
   "metadata": {},
   "outputs": [],
   "source": [
    "# IMPORTS\n",
    "from pyomo.opt import SolverFactory\n",
    "import sys\n",
    "import pyomo.environ as pyo\n",
    "\n",
    "solvername='glpk'\n",
    "solverpath_folder='C:\\\\w64'\n",
    "solverpath_exe='C:\\\\w64\\\\glpsol'\n",
    "\n",
    "sys.path.append(solverpath_folder)\n",
    "solver=SolverFactory(solvername, executable=solverpath_exe)"
   ]
  },
  {
   "cell_type": "code",
   "execution_count": null,
   "metadata": {},
   "outputs": [],
   "source": [
    "\"\"\"\n",
    "Model unknown\n",
    "\n",
    "  Variables:\n",
    "    x : Size=5, Index=x_index\n",
    "        Key : Lower : Value : Upper : Fixed : Stale : Domain\n",
    "          1 :     0 :   1.0 :     1 : False : False : Binary\n",
    "          2 :     0 :   1.0 :     1 : False : False : Binary\n",
    "          3 :     0 :   1.0 :     1 : False : False : Binary\n",
    "          4 :     0 :   1.0 :     1 : False : False : Binary\n",
    "          5 :     0 :   0.0 :     1 : False : False : Binary\n",
    "\n",
    "  Objectives:\n",
    "    OBJ : Size=1, Index=None, Active=True\n",
    "        Key  : Active : Value\n",
    "        None :   True :  95.0\n",
    "\n",
    "  Constraints:\n",
    "    cons1 : Size=1\n",
    "        Key  : Lower : Body : Upper\n",
    "        None :  None : 19.0 :  25.0\n",
    "    cons2 : Size=1\n",
    "        Key  : Lower : Body : Upper\n",
    "        None :  None : 21.0 :  25.0\n",
    "    cons3 : Size=1\n",
    "        Key  : Lower : Body : Upper\n",
    "        None :  None : 21.0 :  25.0\n",
    "\"\"\""
   ]
  }
 ],
 "metadata": {
  "kernelspec": {
   "display_name": "Python 3.10.6 64-bit",
   "language": "python",
   "name": "python3"
  },
  "language_info": {
   "codemirror_mode": {
    "name": "ipython",
    "version": 3
   },
   "file_extension": ".py",
   "mimetype": "text/x-python",
   "name": "python",
   "nbconvert_exporter": "python",
   "pygments_lexer": "ipython3",
   "version": "3.10.6"
  },
  "vscode": {
   "interpreter": {
    "hash": "369f2c481f4da34e4445cda3fffd2e751bd1c4d706f27375911949ba6bb62e1c"
   }
  }
 },
 "nbformat": 4,
 "nbformat_minor": 2
}
