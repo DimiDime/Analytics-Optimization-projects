{
 "cells": [
  {
   "cell_type": "markdown",
   "metadata": {},
   "source": [
    "![uc3m](img/uc3m.jpg)"
   ]
  },
  {
   "cell_type": "markdown",
   "metadata": {},
   "source": [
    "# Production Problem\n",
    "\n",
    "<a href=\"http://www.est.uc3m.es/nogales\" target=\"_blank\">Javier Nogales</a>"
   ]
  },
  {
   "cell_type": "markdown",
   "metadata": {},
   "source": [
    "## Summary\n",
    "\n",
    "\n",
    "A company manufactures tomato sauce in five plants\n",
    "\n",
    "![](img/ketchup.jpg)\n",
    "\n",
    "\n",
    "These plants have different costs\n",
    "\n",
    "- Both variable costs and fixed operation costs\n",
    "\n",
    "- And also different production capacities\n",
    "\n",
    "The product is distributed to four major distribution companies\n",
    "\n",
    "- With contracts defining the yearly amounts to be supplied (demands)\n",
    "\n",
    "- With known production and distribution costs\n",
    "\n",
    "\n",
    "The production and transportation costs from each plant to each distribution center are:\n",
    "\n",
    "\n",
    " Plant/Distribution | C1 | C2 | C3 | C4\n",
    " -------|--------|--|--|---------\n",
    "  P1 |  1180 | 1160 | 1190  | 1200\n",
    "  P2 |  810 | 800 | 850 | 760\n",
    "  P3 |  850 | 830 | 890  |  840\n",
    "  P4 |  770 | 750 | 810  |  780\n",
    "  P5 |  800 | 770 | 820 |  830\n",
    "  \n",
    "The plant capacities and fixed costs are:  \n",
    "  \n",
    "   Plant | P1 | P2 | P3 | P4 | P5\n",
    " -------|--------|--|--|---------|---------\n",
    "  Capacity |  300 | 200 | 300  | 200 | 400\n",
    "  Fixed Cost |  35000 | 45000 | 40000 | 42000 | 40000\n",
    "  \n",
    "The demands at each distribution center are:\n",
    "\n",
    "   Center | C1 | C2 | C3 | C4 \n",
    " -------|--------|--|--|---------\n",
    "  Demand |  200 | 300 | 200  | 250 \n",
    "\n",
    "\n",
    "If the goal is to determine the optimal production and distribution schedule by\n",
    "\n",
    "- Reducing the total cost\n",
    "\n",
    "You need to help this company to attain this goal.\n"
   ]
  },
  {
   "cell_type": "markdown",
   "metadata": {},
   "source": [
    "### Add your mathematical formulation here:"
   ]
  },
  {
   "cell_type": "markdown",
   "metadata": {},
   "source": [
    "Decision variables?\n",
    "\n",
    "Objective?\n",
    "\n",
    "Constraints?\n"
   ]
  },
  {
   "cell_type": "markdown",
   "metadata": {},
   "source": [
    "## Formulation with Pyomo\n",
    "\n"
   ]
  },
  {
   "cell_type": "markdown",
   "metadata": {},
   "source": [
    "### The data"
   ]
  },
  {
   "cell_type": "code",
   "execution_count": null,
   "metadata": {},
   "outputs": [],
   "source": [
    "Demand = {\n",
    "   'C1':   200,       \n",
    "   'C2':   300,       \n",
    "   'C3':   200,        \n",
    "   'C4':   250\n",
    "}\n",
    "\n",
    "Capacity = {\n",
    "   'P1':   300,      \n",
    "   'P2':   200,\n",
    "   'P3':   300,      \n",
    "   'P4':   200,\n",
    "   'P5':   400      \n",
    "}\n",
    "\n",
    "Fixed_Cost = {\n",
    "   'P1':   35000,      \n",
    "   'P2':   45000,\n",
    "   'P3':   40000,      \n",
    "   'P4':   42000,\n",
    "   'P5':   40000      \n",
    "}\n",
    "\n",
    "Cost = {\n",
    "    ('P1','C1'): 1180,\n",
    "    ('P1','C2'): 1160,\n",
    "    ('P1','C3'): 1190,\n",
    "    ('P1','C4'): 1200,\n",
    "    ('P2','C1'): 810,\n",
    "    ('P2','C2'): 800,\n",
    "    ('P2','C3'): 850,\n",
    "    ('P2','C4'): 760,\n",
    "    ('P3','C1'): 850,\n",
    "    ('P3','C2'): 830,\n",
    "    ('P3','C3'): 890,\n",
    "    ('P3','C4'): 840,\n",
    "    ('P4','C1'): 770,\n",
    "    ('P4','C2'): 750,\n",
    "    ('P4','C3'): 810,\n",
    "    ('P4','C4'): 780,\n",
    "    ('P5','C1'): 800,\n",
    "    ('P5','C2'): 770,\n",
    "    ('P5','C3'): 820,\n",
    "    ('P5','C4'): 830\n",
    "}"
   ]
  },
  {
   "cell_type": "markdown",
   "metadata": {},
   "source": [
    "### Add here your model"
   ]
  },
  {
   "cell_type": "code",
   "execution_count": null,
   "metadata": {},
   "outputs": [],
   "source": [
    "from pyomo.environ import *\n",
    "\n",
    "# Create an instance of the model\n",
    "model = ConcreteModel()\n",
    "\n",
    "# Define index sets\n",
    "Plant = list(Capacity.keys())\n",
    "Center = list(Demand.keys())\n",
    "\n",
    "\n",
    "    \n"
   ]
  },
  {
   "cell_type": "markdown",
   "metadata": {},
   "source": [
    "### The solution\n",
    "\n"
   ]
  },
  {
   "cell_type": "code",
   "execution_count": null,
   "metadata": {},
   "outputs": [],
   "source": [
    "# Solution\n",
    "\n",
    "# Define the solver\n",
    "#opt = SolverFactory('glpk')\n",
    "opt = SolverFactory('gurobi')\n",
    "\n",
    "# Solve\n",
    "results = opt.solve(model)\n",
    "\n",
    "     "
   ]
  },
  {
   "cell_type": "markdown",
   "metadata": {},
   "source": [
    "### Questions:\n",
    "\n",
    "- Which plants are not operating during the considered period?\n",
    "\n",
    "- Are all the operating plants working at maximum capacity?\n",
    "\n",
    "- Is there any distribution center receiving its demand from a single plant?\n",
    "\n",
    "- How would you impose the additional condition that Center 2 should receive at least half its demand from Plant 3?\n"
   ]
  },
  {
   "cell_type": "code",
   "execution_count": null,
   "metadata": {},
   "outputs": [],
   "source": []
  },
  {
   "cell_type": "code",
   "execution_count": null,
   "metadata": {},
   "outputs": [],
   "source": []
  }
 ],
 "metadata": {
  "kernelspec": {
   "display_name": "Python 3.10.6 64-bit",
   "language": "python",
   "name": "python3"
  },
  "language_info": {
   "codemirror_mode": {
    "name": "ipython",
    "version": 3
   },
   "file_extension": ".py",
   "mimetype": "text/x-python",
   "name": "python",
   "nbconvert_exporter": "python",
   "pygments_lexer": "ipython3",
   "version": "3.10.6"
  },
  "vscode": {
   "interpreter": {
    "hash": "369f2c481f4da34e4445cda3fffd2e751bd1c4d706f27375911949ba6bb62e1c"
   }
  }
 },
 "nbformat": 4,
 "nbformat_minor": 2
}
