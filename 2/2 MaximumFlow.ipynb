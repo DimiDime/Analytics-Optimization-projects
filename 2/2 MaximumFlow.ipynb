{
 "cells": [
  {
   "cell_type": "markdown",
   "metadata": {},
   "source": [
    "![uc3m](img/uc3m.jpg)"
   ]
  },
  {
   "cell_type": "markdown",
   "metadata": {},
   "source": [
    "# The maximum flow problem\n",
    "\n",
    "<a href=\"http://www.est.uc3m.es/nogales\" target=\"_blank\">Javier Nogales</a>\n",
    "\n",
    "## Summary\n",
    "\n",
    "Model in Pyomo the maximum flow problem in the Google OR-Tools: https://developers.google.com/optimization/flow/maxflow\n",
    "\n",
    "![uc3m](img/maxflow.png)\n",
    "\n",
    "\n",
    "\n",
    "\n",
    "    \n",
    "\n"
   ]
  },
  {
   "cell_type": "markdown",
   "metadata": {},
   "source": [
    "## Formulation with Pyomo\n",
    "\n"
   ]
  },
  {
   "cell_type": "markdown",
   "metadata": {},
   "source": [
    "### The data\n",
    "\n"
   ]
  },
  {
   "cell_type": "code",
   "execution_count": null,
   "metadata": {},
   "outputs": [],
   "source": [
    "%%writefile maxflow.dat\n",
    "set N := node0 node1 node2 node3 node4;\n",
    "set A := (node0,node1) (node0,node2) (node0,node3) (node1,node2) (node1,node4) (node2,node3) (node2,node4) (node3,node2) (node3,node4);\n",
    "    \n",
    "param source := node0;\n",
    "param sink := node4;\n",
    "param: capacity :=\n",
    "node0 node1 20\n",
    "node0 node2 30\n",
    "node0 node3 10\n",
    "node1 node2 40\n",
    "node1 node4 30\n",
    "node2 node3 10\n",
    "node2 node4 20\n",
    "node3 node2 5\n",
    "node3 node4 20;\n",
    "\n"
   ]
  },
  {
   "cell_type": "markdown",
   "metadata": {},
   "source": [
    "### The model\n",
    "\n"
   ]
  },
  {
   "cell_type": "code",
   "execution_count": null,
   "metadata": {},
   "outputs": [],
   "source": [
    "%%writefile maxflow.py\n",
    "\n",
    "from pyomo.environ import *\n",
    "\n",
    "model = AbstractModel()\n",
    "\n",
    "## Nodes in the network\n",
    "model.N = Set() # there are 5 (0,1,2,3,4)\n",
    "## Network arcs\n",
    "model.A = Set(within = model.N*model.N)  # there are 9 \n",
    "    # Set this limit since we cannot have more than one arc between two nodes (at most one arc from node i to node j) (there are no loops)\n",
    "    # It defines expected properties\n",
    "\n",
    "## Source node\n",
    "model.source = Param(within = model.N) # it is node 0 (according to the statement)\n",
    "## Sink node \n",
    "model.sink = Param(within = model.N) # it is node 4 (according to the statement)\n",
    "## Flow capacity limits\n",
    "model.capacity = Param(model.A) # we cannot exceed these flow capacity limits\n",
    "\n",
    "'Define decision variables'\n",
    "# The flow over each arc\n",
    "# Number of decision variables = number of arcs. In our case, we have 9 arcs. This means that we have 9 decision variables (x01,x02,x03,x12,x14,x23,x24,x32,x34)\n",
    "model.flow = # WRITE HERE YOUR FORMULATION  # model.A contains all arcs in an ordered way \n",
    "\n",
    "'Objective'\n",
    "# Maximize the flow into the sink node\n",
    "def obj(model):\n",
    "    # WRITE HERE YOUR FORMULATION\n",
    "\n",
    "'Constraints'\n",
    "def upper_limit(model, i, j):\n",
    "    # WRITE HERE YOUR FORMULATION\n",
    "\n",
    "def total_flow_rule(model, k):\n",
    "    # WRITE HERE YOUR FORMULATION"
   ]
  },
  {
   "cell_type": "markdown",
   "metadata": {},
   "source": [
    "### Obtain the solution"
   ]
  },
  {
   "cell_type": "code",
   "execution_count": null,
   "metadata": {},
   "outputs": [],
   "source": [
    "!pyomo solve --solver=glpk maxflow.py maxflow.dat\n",
    "\n",
    "\n",
    " "
   ]
  },
  {
   "cell_type": "code",
   "execution_count": null,
   "metadata": {},
   "outputs": [],
   "source": [
    "# Display\n",
    "!cat results.yml"
   ]
  },
  {
   "cell_type": "code",
   "execution_count": null,
   "metadata": {},
   "outputs": [],
   "source": [
    "import yaml\n",
    "with open('results.yml') as f:\n",
    "    doc = yaml.load(f,Loader=yaml.FullLoader)\n",
    "    l1 = doc[\"Solution\"][1][\"Variable\"]\n",
    "    l1 = list(l1.items())\n",
    "    \n",
    "# positive flows:    \n",
    "for i in l1:\n",
    "    print(i[1][\"Value\"])\n"
   ]
  },
  {
   "cell_type": "markdown",
   "metadata": {},
   "source": [
    "### Interpretation"
   ]
  },
  {
   "cell_type": "markdown",
   "metadata": {},
   "source": [
    "This problem has a feasible solution. The solution found for the maximum flow *(objective function)* is **60**.\n",
    "\n",
    "The flow amounts across each arc are:\n",
    "\n",
    "$Arc$ | $Flow$ | $Capacity$ \n",
    " -------|---|----\n",
    "  $node 0$ --> $node 1$ | 20 | 20\n",
    "  $node 0$ --> $node 2$ | 30 | 30 \n",
    "  $node 0$ --> $node 3$ | 10 | 10\n",
    "  $node 1$ --> $node 2$ | 0  | 40 \n",
    "  $node 1$ --> $node 4$ | 20 | 30 \n",
    "  $node 2$ --> $node 3$ | 10 | 10 \n",
    "  $node 2$ --> $node 4$ | 20 | 20 \n",
    "  $node 3$ --> $node 2$ | 0  | 5 \n",
    "  $node 3$ --> $node 4$ | 20 | 20 \n",
    "  \n"
   ]
  },
  {
   "cell_type": "code",
   "execution_count": null,
   "metadata": {},
   "outputs": [],
   "source": []
  }
 ],
 "metadata": {
  "kernelspec": {
   "display_name": "Python 3.10.6 64-bit",
   "language": "python",
   "name": "python3"
  },
  "language_info": {
   "codemirror_mode": {
    "name": "ipython",
    "version": 3
   },
   "file_extension": ".py",
   "mimetype": "text/x-python",
   "name": "python",
   "nbconvert_exporter": "python",
   "pygments_lexer": "ipython3",
   "version": "3.10.6"
  },
  "vscode": {
   "interpreter": {
    "hash": "369f2c481f4da34e4445cda3fffd2e751bd1c4d706f27375911949ba6bb62e1c"
   }
  }
 },
 "nbformat": 4,
 "nbformat_minor": 2
}
