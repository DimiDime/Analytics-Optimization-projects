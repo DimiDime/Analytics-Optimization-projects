{
 "cells": [
  {
   "cell_type": "markdown",
   "metadata": {},
   "source": [
    "![uc3m](img/uc3m.jpg)"
   ]
  },
  {
   "cell_type": "markdown",
   "metadata": {},
   "source": [
    "# Introduction: The Transportation Problem\n",
    "\n",
    "<a href=\"http://www.est.uc3m.es/nogales\" target=\"_blank\">Javier Nogales</a>"
   ]
  },
  {
   "cell_type": "markdown",
   "metadata": {},
   "source": [
    "## Statement\n",
    "\n",
    "We have a set of factories I = [1,2] and set of demand markets J = [1,2,3]. Each market has some product demand $d_j$ and each factory has production capacity $M_i$. There are also transportation costs to deliver one unit from factory i to market j. The goal is to satisfy the demand with minimum cost.\n",
    "\n",
    "  Distance      | M1 | M2 | M3 | offer\n",
    "  --------------|-----|---|----|--\n",
    "  F1  | 2.5 | 1.7 | 1.8 | 350\n",
    "  F2  | 2.5 | 1.7 | 1.8 | 350\n",
    "  demand  | 325 | 300 | 275 |"
   ]
  },
  {
   "cell_type": "markdown",
   "metadata": {},
   "source": [
    "### Import of the Pyomo module"
   ]
  },
  {
   "cell_type": "code",
   "execution_count": 8,
   "metadata": {},
   "outputs": [],
   "source": [
    "from pyomo.opt import SolverFactory\n",
    "import sys\n",
    "from pyomo.environ import *  # import environment\n",
    "import pyomo.environ as pyo\n",
    "\n",
    "solvername='glpk'\n",
    "solverpath_folder='C:\\\\w64'\n",
    "solverpath_exe='C:\\\\w64\\\\glpsol'\n",
    "\n",
    "sys.path.append(solverpath_folder)\n",
    "solver=SolverFactory(solvername, executable=solverpath_exe)"
   ]
  },
  {
   "cell_type": "markdown",
   "metadata": {},
   "source": [
    "### Optimization framework"
   ]
  },
  {
   "cell_type": "markdown",
   "metadata": {},
   "source": [
    "Input (data) $\\rightarrow$ Model (var, obj, const) $\\rightarrow$ Output (solution)"
   ]
  },
  {
   "cell_type": "markdown",
   "metadata": {},
   "source": [
    "### Define problem data: sets and parameters\n",
    "\n",
    "Sets are created as attributes object of the main model objects \n",
    "\n",
    "Parameter objects are created specifying the sets over which they are defined and are initialised with either a python dictionary or a scalar"
   ]
  },
  {
   "cell_type": "code",
   "execution_count": 2,
   "metadata": {},
   "outputs": [],
   "source": [
    "# The data\n",
    "\n",
    "mTransport = ConcreteModel('Transportation Problem')\n",
    "#Define i and j\n",
    "mTransport.i = Set(initialize=['P1', 'P2'], doc='origins' )\n",
    "mTransport.j = Set(initialize=['M1', 'M2', 'M3'], doc='destinations')\n",
    "#Define capacity and demand\n",
    "mTransport.Cap = Param(mTransport.i, initialize={'P1' : 350, 'P2': 600 }, doc='origin capacity' )\n",
    "mTransport.Dem = Param(mTransport.j, initialize={'M1': 325, 'M2': 300, 'M3': 275}, doc='destination demand')\n",
    "\n",
    "TransportationCost = {\n",
    "    ('P1', 'M1' ): 2.5,\n",
    "    ('P1', 'M2'): 1.7,\n",
    "    ('P1', 'M3' ): 1.8,\n",
    "    ('P2', 'M1' ): 2.5,\n",
    "    ('P2', 'M2'): 1.8,\n",
    "    ('P2', 'M3' ): 1.4\n",
    "    }\n",
    "\n",
    "\n",
    "mTransport.Dist = Param(mTransport.i, mTransport.j, initialize=TransportationCost, doc='Distance in hundreds of km')\n",
    "mTransport.f = 90 # Fixed cost per 100 km in euros\n",
    "\n",
    "#  Parameter c(i,j)  transport cost in thousands of dollars per case\n",
    "#            c(i,j) = f * Dist(i,j) \n",
    "\n",
    "def cost_euro(mTransport, i, j):\n",
    "  return mTransport.f * mTransport.Dist[i,j] \n",
    "\n",
    "mTransport.Cost = Param(mTransport.i, mTransport.j, initialize=cost_euro, doc='Transportation cost per 100 km in eur')"
   ]
  },
  {
   "cell_type": "code",
   "execution_count": 3,
   "metadata": {},
   "outputs": [
    {
     "name": "stdout",
     "output_type": "stream",
     "text": [
      "4 Set Declarations\n",
      "    Cost_index : Size=1, Index=None, Ordered=True\n",
      "        Key  : Dimen : Domain : Size : Members\n",
      "        None :     2 :    i*j :    6 : {('P1', 'M1'), ('P1', 'M2'), ('P1', 'M3'), ('P2', 'M1'), ('P2', 'M2'), ('P2', 'M3')}\n",
      "    Dist_index : Size=1, Index=None, Ordered=True\n",
      "        Key  : Dimen : Domain : Size : Members\n",
      "        None :     2 :    i*j :    6 : {('P1', 'M1'), ('P1', 'M2'), ('P1', 'M3'), ('P2', 'M1'), ('P2', 'M2'), ('P2', 'M3')}\n",
      "    i : origins\n",
      "        Size=1, Index=None, Ordered=Insertion\n",
      "        Key  : Dimen : Domain : Size : Members\n",
      "        None :     1 :    Any :    2 : {'P1', 'P2'}\n",
      "    j : destinations\n",
      "        Size=1, Index=None, Ordered=Insertion\n",
      "        Key  : Dimen : Domain : Size : Members\n",
      "        None :     1 :    Any :    3 : {'M1', 'M2', 'M3'}\n",
      "\n",
      "4 Param Declarations\n",
      "    Cap : origin capacity\n",
      "        Size=2, Index=i, Domain=Any, Default=None, Mutable=False\n",
      "        Key : Value\n",
      "         P1 :   350\n",
      "         P2 :   600\n",
      "    Cost : Transportation cost per 100 km in eur\n",
      "        Size=6, Index=Cost_index, Domain=Any, Default=None, Mutable=False\n",
      "        Key          : Value\n",
      "        ('P1', 'M1') :              225.0\n",
      "        ('P1', 'M2') :              153.0\n",
      "        ('P1', 'M3') :              162.0\n",
      "        ('P2', 'M1') :              225.0\n",
      "        ('P2', 'M2') :              162.0\n",
      "        ('P2', 'M3') : 125.99999999999999\n",
      "    Dem : destination demand\n",
      "        Size=3, Index=j, Domain=Any, Default=None, Mutable=False\n",
      "        Key : Value\n",
      "         M1 :   325\n",
      "         M2 :   300\n",
      "         M3 :   275\n",
      "    Dist : Distance in hundreds of km\n",
      "        Size=6, Index=Dist_index, Domain=Any, Default=None, Mutable=False\n",
      "        Key          : Value\n",
      "        ('P1', 'M1') :   2.5\n",
      "        ('P1', 'M2') :   1.7\n",
      "        ('P1', 'M3') :   1.8\n",
      "        ('P2', 'M1') :   2.5\n",
      "        ('P2', 'M2') :   1.8\n",
      "        ('P2', 'M3') :   1.4\n",
      "\n",
      "8 Declarations: i j Cap Dem Dist_index Dist Cost_index Cost\n"
     ]
    }
   ],
   "source": [
    "mTransport.pprint()"
   ]
  },
  {
   "cell_type": "markdown",
   "metadata": {},
   "source": [
    "### General formulation for the transportation problem\n",
    "\n",
    "\\begin{align*}\n",
    "\\underset{x_{ij}}{\\min} & \\quad \\sum_{i=1}^{n}\\sum_{j=1}^{m}c_{ij}x_{ij}\\\\\n",
    "\\text{s.t.:}&\\\\\n",
    "  &\\sum_{i=1}^{n} x_{ij} \\geq D_{j} \\quad \\forall j\\\\\n",
    "  &\\sum_{j=1}^{m} x_{ij} \\leq \\bar{C}_{i} \\quad \\forall i\\\\\n",
    "  &x_{ij} \\geq 0 \\quad \\forall ij \n",
    "\\end{align*}"
   ]
  },
  {
   "cell_type": "markdown",
   "metadata": {},
   "source": [
    "### 1. Define the variables"
   ]
  },
  {
   "cell_type": "code",
   "execution_count": 4,
   "metadata": {},
   "outputs": [],
   "source": [
    "# define x(i,j)\n",
    "mTransport.x = Var(mTransport.i, mTransport.j, doc='units transported', within=NonNegativeReals)"
   ]
  },
  {
   "cell_type": "markdown",
   "metadata": {},
   "source": [
    "### 2. Define the objective function"
   ]
  },
  {
   "cell_type": "code",
   "execution_count": 5,
   "metadata": {},
   "outputs": [],
   "source": [
    "def objective_rule(mTransport):\n",
    "  return sum(mTransport.Cost[i,j]*mTransport.x[i,j] for i in mTransport.i for j in mTransport.j)\n",
    "\n",
    "mTransport.objective = Objective(rule=objective_rule, sense=minimize, doc='transportation cost')\n"
   ]
  },
  {
   "cell_type": "markdown",
   "metadata": {},
   "source": [
    "### 3. Define the constraints"
   ]
  },
  {
   "cell_type": "code",
   "execution_count": 6,
   "metadata": {},
   "outputs": [],
   "source": [
    "def Capacity(mTransport, i):\n",
    "  return sum(mTransport.x[i,j] for j in mTransport.j) <= mTransport.Cap[i]\n",
    "\n",
    "mTransport.Capacity = Constraint(mTransport.i, rule=Capacity, doc='capacity at origin')\n",
    "    \n",
    "def Demand (mTransport, j):\n",
    "  return sum(mTransport.x[i,j] for i in mTransport.i) >= mTransport.Dem[j]\n",
    "\n",
    "mTransport.Demand = Constraint(mTransport.j, rule=Demand, doc='demand at destination' )\n",
    "\n"
   ]
  },
  {
   "cell_type": "markdown",
   "metadata": {},
   "source": [
    "### Let's see the solution"
   ]
  },
  {
   "cell_type": "code",
   "execution_count": 9,
   "metadata": {
    "scrolled": true
   },
   "outputs": [
    {
     "name": "stdout",
     "output_type": "stream",
     "text": [
      "x : units transported\n",
      "    Size=6, Index=x_index\n",
      "    Key          : Lower : Value : Upper : Fixed : Stale : Domain\n",
      "    ('P1', 'M1') :     0 :  50.0 :  None : False : False : NonNegativeReals\n",
      "    ('P1', 'M2') :     0 : 300.0 :  None : False : False : NonNegativeReals\n",
      "    ('P1', 'M3') :     0 :   0.0 :  None : False : False : NonNegativeReals\n",
      "    ('P2', 'M1') :     0 : 275.0 :  None : False : False : NonNegativeReals\n",
      "    ('P2', 'M2') :     0 :   0.0 :  None : False : False : NonNegativeReals\n",
      "    ('P2', 'M3') :     0 : 275.0 :  None : False : False : NonNegativeReals\n"
     ]
    }
   ],
   "source": [
    "Results = solver.solve(mTransport)\n",
    "\n",
    "# Display solution\n",
    "mTransport.x.display()\n"
   ]
  },
  {
   "cell_type": "markdown",
   "metadata": {},
   "source": [
    "Display solution using pandas"
   ]
  },
  {
   "cell_type": "code",
   "execution_count": 10,
   "metadata": {},
   "outputs": [
    {
     "name": "stdout",
     "output_type": "stream",
     "text": [
      "       M1     M2     M3\n",
      "P1   50.0  300.0    0.0\n",
      "P2  275.0    0.0  275.0\n"
     ]
    }
   ],
   "source": [
    "import pandas as pd\n",
    "\n",
    "transp_results = pd.DataFrame()\n",
    "\n",
    "for i in mTransport.i:\n",
    "    for j in mTransport.j:\n",
    "        transp_results.loc[i,j] = mTransport.x[i,j]()\n",
    "        \n",
    "        \n",
    "print(transp_results)"
   ]
  },
  {
   "cell_type": "markdown",
   "metadata": {},
   "source": [
    "### Now the minimum cost"
   ]
  },
  {
   "cell_type": "code",
   "execution_count": 11,
   "metadata": {
    "scrolled": true
   },
   "outputs": [
    {
     "data": {
      "text/plain": [
       "153675.0"
      ]
     },
     "execution_count": 11,
     "metadata": {},
     "output_type": "execute_result"
    }
   ],
   "source": [
    "mTransport.objective()"
   ]
  },
  {
   "cell_type": "markdown",
   "metadata": {},
   "source": [
    "### Interpretation\n",
    "\n",
    "In order to attain the minimum transport costs, 50 units should be sent from P1 to M1, 300 from P1 to M2, 275 from P2 to M1, and 275 from P2 to M3\n",
    "\n",
    "The total transport costs will be 153675 euros"
   ]
  },
  {
   "cell_type": "markdown",
   "metadata": {},
   "source": [
    "### We are done"
   ]
  },
  {
   "cell_type": "markdown",
   "metadata": {},
   "source": [
    "![uc3m](img/wedidit.png)"
   ]
  }
 ],
 "metadata": {
  "kernelspec": {
   "display_name": "Python 3.10.6 64-bit",
   "language": "python",
   "name": "python3"
  },
  "language_info": {
   "codemirror_mode": {
    "name": "ipython",
    "version": 3
   },
   "file_extension": ".py",
   "mimetype": "text/x-python",
   "name": "python",
   "nbconvert_exporter": "python",
   "pygments_lexer": "ipython3",
   "version": "3.10.6"
  },
  "vscode": {
   "interpreter": {
    "hash": "369f2c481f4da34e4445cda3fffd2e751bd1c4d706f27375911949ba6bb62e1c"
   }
  }
 },
 "nbformat": 4,
 "nbformat_minor": 2
}
