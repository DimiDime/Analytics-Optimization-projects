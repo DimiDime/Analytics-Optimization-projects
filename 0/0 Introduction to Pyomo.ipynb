{
 "cells": [
  {
   "cell_type": "markdown",
   "metadata": {},
   "source": [
    "![uc3m](img/uc3m.jpg)"
   ]
  },
  {
   "cell_type": "markdown",
   "metadata": {},
   "source": [
    "# Introduction: Pyomo framework\n",
    "\n",
    "<a href=\"http://www.est.uc3m.es/nogales\" target=\"_blank\">Javier Nogales</a>"
   ]
  },
  {
   "cell_type": "markdown",
   "metadata": {},
   "source": [
    "## What is Pyomo?\n",
    "\n",
    "    Python Optimization Modeling Objects\n",
    "\n",
    "Pyomo supports the formulation and analysis of mathematical models for complex optimization applications"
   ]
  },
  {
   "cell_type": "markdown",
   "metadata": {},
   "source": [
    "## Why Pyomo?\n",
    "\n",
    "- open cource\n",
    "- customizable \n",
    "- allows solver integration\n",
    "- modern optimization language"
   ]
  },
  {
   "cell_type": "markdown",
   "metadata": {},
   "source": [
    "### Using Pyomo\n",
    "\n",
    "See http://www.pyomo.org/installation to install\n",
    "\n",
    "In the terminal, type:\n",
    "\n",
    "    conda install -c conda-forge pyomo"
   ]
  },
  {
   "cell_type": "markdown",
   "metadata": {},
   "source": [
    "### Install the optimization algorithms (GLPK)\n",
    "\n",
    "In the terminal, type\n",
    "\n",
    "    conda install -c conda-forge glpk"
   ]
  },
  {
   "cell_type": "markdown",
   "metadata": {},
   "source": [
    "## Modeling with Pyomo\n",
    "\n",
    "Remember the three basic elements of an optimization problem:\n",
    "\n",
    "- Decision variables\n",
    "\n",
    "- Objective function\n",
    "\n",
    "- Constraints"
   ]
  },
  {
   "cell_type": "markdown",
   "metadata": {},
   "source": [
    "### Pyomo modeling classes\n",
    "\n",
    "- Var\n",
    "\n",
    "    decision variables in a model\n",
    "\n",
    "- Objective\n",
    "\n",
    "    expressions that are minimized or maximized in a model\n",
    "\n",
    "- Constraint\n",
    "\n",
    "    constraint expressions that impose restrictions on variable values in a model\n",
    "\n",
    "- Set\n",
    "\n",
    "    set data that is used to define a model instance\n",
    "\n",
    "- Param\n",
    "\n",
    "     parameter data that is used to define a model instance\n"
   ]
  },
  {
   "cell_type": "markdown",
   "metadata": {},
   "source": [
    "### Try the next optimization problem\n",
    "\n",
    "maximize $2x_1 + 4x_2 - 2x_3$\n",
    "\n",
    "subject to $x_1+x_2+x_3=1$\n",
    "\n",
    "&nbsp;  &nbsp;  &nbsp;  &nbsp; $-1 \\leq x_2 \\leq 1$ and $x_3\\geq 0$"
   ]
  },
  {
   "cell_type": "code",
   "execution_count": 28,
   "metadata": {},
   "outputs": [
    {
     "name": "stdout",
     "output_type": "stream",
     "text": [
      "WARNING: Failed to create solver with name '_glpk_shell': Failed to set\n",
      "    executable for solver glpk. File with\n",
      "    name=C:\\Users\\Dimi\\.conda\\pkgs\\pyomo-6.4.2-py39h415ef7b_0\\Lib\\site-\n",
      "    packages\\pyomo\\solvers\\plugins\\converter\\glpsol either does not exist or\n",
      "    it is not executable. To skip this validation, call set_executable with\n",
      "    validate=False.\n",
      "Traceback (most recent call last):\n",
      "  File \"c:\\Python310\\lib\\site-packages\\pyomo\\opt\\base\\solvers.py\", line 153, in __call__\n",
      "    opt = self._cls[_name](**kwds)\n",
      "  File \"c:\\Python310\\lib\\site-packages\\pyomo\\solvers\\plugins\\solvers\\GLPK.py\", line 85, in __init__\n",
      "    SystemCallSolver.__init__(self, **kwargs)\n",
      "  File \"c:\\Python310\\lib\\site-packages\\pyomo\\opt\\solver\\shellcmd.py\", line 56, in __init__\n",
      "    self.set_executable(name=executable, validate=validate)\n",
      "  File \"c:\\Python310\\lib\\site-packages\\pyomo\\opt\\solver\\shellcmd.py\", line 104, in set_executable\n",
      "    raise ValueError(\n",
      "ValueError: Failed to set executable for solver glpk. File with name=C:\\Users\\Dimi\\.conda\\pkgs\\pyomo-6.4.2-py39h415ef7b_0\\Lib\\site-packages\\pyomo\\solvers\\plugins\\converter\\glpsol either does not exist or it is not executable. To skip this validation, call set_executable with validate=False.\n"
     ]
    },
    {
     "ename": "RuntimeError",
     "evalue": "Attempting to use an unavailable solver.\n\nThe SolverFactory was unable to create the solver \"_glpk_shell\"\nand returned an UnknownSolver object.  This error is raised at the point\nwhere the UnknownSolver object was used as if it were valid (by calling\nmethod \"solve\").\n\nThe original solver was created with the following parameters:\n\texecutable: C:\\Users\\Dimi\\.conda\\pkgs\\pyomo-6.4.2-py39h415ef7b_0\\Lib\\site-packages\\pyomo\\solvers\\plugins\\converter\\glpsol\n\ttype: _glpk_shell\n\t_args: ()\n\toptions: {}",
     "output_type": "error",
     "traceback": [
      "\u001b[1;31m---------------------------------------------------------------------------\u001b[0m",
      "\u001b[1;31mRuntimeError\u001b[0m                              Traceback (most recent call last)",
      "Cell \u001b[1;32mIn [28], line 29\u001b[0m\n\u001b[0;32m     24\u001b[0m M\u001b[39m.\u001b[39mcons \u001b[39m=\u001b[39m Constraint(\n\u001b[0;32m     25\u001b[0m     expr \u001b[39m=\u001b[39m M\u001b[39m.\u001b[39mx1\u001b[39m+\u001b[39mM\u001b[39m.\u001b[39mx2\u001b[39m+\u001b[39mM\u001b[39m.\u001b[39mx3 \u001b[39m==\u001b[39m \u001b[39m1\u001b[39m)\n\u001b[0;32m     27\u001b[0m \u001b[39m# obtain the solution \u001b[39;00m\n\u001b[0;32m     28\u001b[0m \u001b[39m#solver = SolverFactory(\"glpk\") # define the solver\u001b[39;00m\n\u001b[1;32m---> 29\u001b[0m solution \u001b[39m=\u001b[39m solver\u001b[39m.\u001b[39;49msolve(M)\n",
      "File \u001b[1;32mc:\\Python310\\lib\\site-packages\\pyomo\\opt\\base\\solvers.py:106\u001b[0m, in \u001b[0;36mUnknownSolver.solve\u001b[1;34m(self, *args, **kwds)\u001b[0m\n\u001b[0;32m    104\u001b[0m \u001b[39mdef\u001b[39;00m \u001b[39msolve\u001b[39m(\u001b[39mself\u001b[39m, \u001b[39m*\u001b[39margs, \u001b[39m*\u001b[39m\u001b[39m*\u001b[39mkwds):\n\u001b[0;32m    105\u001b[0m     \u001b[39m\"\"\"Perform optimization and return an SolverResults object.\"\"\"\u001b[39;00m\n\u001b[1;32m--> 106\u001b[0m     \u001b[39mself\u001b[39;49m\u001b[39m.\u001b[39;49m_solver_error(\u001b[39m'\u001b[39;49m\u001b[39msolve\u001b[39;49m\u001b[39m'\u001b[39;49m)\n",
      "File \u001b[1;32mc:\\Python310\\lib\\site-packages\\pyomo\\opt\\base\\solvers.py:123\u001b[0m, in \u001b[0;36mUnknownSolver._solver_error\u001b[1;34m(self, method_name)\u001b[0m\n\u001b[0;32m    122\u001b[0m     \u001b[39mdef\u001b[39;00m \u001b[39m_solver_error\u001b[39m(\u001b[39mself\u001b[39m, method_name):\n\u001b[1;32m--> 123\u001b[0m         \u001b[39mraise\u001b[39;00m \u001b[39mRuntimeError\u001b[39;00m(\u001b[39m\"\"\"\u001b[39m\u001b[39mAttempting to use an unavailable solver.\u001b[39m\n\u001b[0;32m    124\u001b[0m \n\u001b[0;32m    125\u001b[0m \u001b[39mThe SolverFactory was unable to create the solver \u001b[39m\u001b[39m\"\u001b[39m\u001b[39m%s\u001b[39;00m\u001b[39m\"\u001b[39m\n\u001b[0;32m    126\u001b[0m \u001b[39mand returned an UnknownSolver object.  This error is raised at the point\u001b[39m\n\u001b[0;32m    127\u001b[0m \u001b[39mwhere the UnknownSolver object was used as if it were valid (by calling\u001b[39m\n\u001b[0;32m    128\u001b[0m \u001b[39mmethod \u001b[39m\u001b[39m\"\u001b[39m\u001b[39m%s\u001b[39;00m\u001b[39m\"\u001b[39m\u001b[39m).\u001b[39m\n\u001b[0;32m    129\u001b[0m \n\u001b[0;32m    130\u001b[0m \u001b[39mThe original solver was created with the following parameters:\u001b[39m\n\u001b[0;32m    131\u001b[0m \u001b[39m\\t\u001b[39;00m\u001b[39m\"\"\"\u001b[39m \u001b[39m%\u001b[39m ( \u001b[39mself\u001b[39m\u001b[39m.\u001b[39mtype, method_name )\n\u001b[0;32m    132\u001b[0m \u001b[39m+\u001b[39m \u001b[39m\"\u001b[39m\u001b[39m\\n\u001b[39;00m\u001b[39m\\t\u001b[39;00m\u001b[39m\"\u001b[39m\u001b[39m.\u001b[39mjoin(\u001b[39m\"\u001b[39m\u001b[39m%s\u001b[39;00m\u001b[39m: \u001b[39m\u001b[39m%s\u001b[39;00m\u001b[39m\"\u001b[39m \u001b[39m%\u001b[39m i \u001b[39mfor\u001b[39;00m i \u001b[39min\u001b[39;00m \u001b[39msorted\u001b[39m(\u001b[39mself\u001b[39m\u001b[39m.\u001b[39m_kwds\u001b[39m.\u001b[39mitems()))\n\u001b[0;32m    133\u001b[0m \u001b[39m+\u001b[39m \u001b[39m\"\u001b[39m\u001b[39m\\n\u001b[39;00m\u001b[39m\\t\u001b[39;00m\u001b[39m_args: \u001b[39m\u001b[39m%s\u001b[39;00m\u001b[39m\"\u001b[39m \u001b[39m%\u001b[39m ( \u001b[39mself\u001b[39m\u001b[39m.\u001b[39m_args, )\n\u001b[0;32m    134\u001b[0m \u001b[39m+\u001b[39m \u001b[39m\"\u001b[39m\u001b[39m\\n\u001b[39;00m\u001b[39m\\t\u001b[39;00m\u001b[39moptions: \u001b[39m\u001b[39m%s\u001b[39;00m\u001b[39m\"\u001b[39m \u001b[39m%\u001b[39m ( \u001b[39mself\u001b[39m\u001b[39m.\u001b[39moptions, ) )\n",
      "\u001b[1;31mRuntimeError\u001b[0m: Attempting to use an unavailable solver.\n\nThe SolverFactory was unable to create the solver \"_glpk_shell\"\nand returned an UnknownSolver object.  This error is raised at the point\nwhere the UnknownSolver object was used as if it were valid (by calling\nmethod \"solve\").\n\nThe original solver was created with the following parameters:\n\texecutable: C:\\Users\\Dimi\\.conda\\pkgs\\pyomo-6.4.2-py39h415ef7b_0\\Lib\\site-packages\\pyomo\\solvers\\plugins\\converter\\glpsol\n\ttype: _glpk_shell\n\t_args: ()\n\toptions: {}"
     ]
    }
   ],
   "source": [
    "from pyomo.environ import *  # import environment\n",
    "import pyomo.environ as pyo\n",
    "\n",
    "solvername='glpk'\n",
    "solverpath_exe= \"C:\\\\Users\\\\Dimi\\\\.conda\\\\pkgs\\\\pyomo-6.4.2-py39h415ef7b_0\\\\Lib\\\\site-packages\\\\pyomo\\\\solvers\\\\plugins\\\\converter\\\\glpsol\"\n",
    "#solverpath_exe = 'C:\\Users\\Dimi\\.conda\\pkgs\\pyomo-6.4.2-py39h415ef7b_0\\Lib\\site-packages\\pyomo\\solvers\\plugins\\converter\\glpsol'\n",
    "#solverpath_exe = 'C:\\\\Users\\\\Dimi\\\\Downloads\\\\glpk-0.4.6'\n",
    "#solverpath_exe = 'C:\\\\Users\\\\Dimi\\\\Else\\\\.conda\\\\pkgs\\\\pyomo-6.4.2-py39h415ef7b_0\\\\Lib\\\\site-packages\\\\pyomo\\\\solvers\\\\plugins\\\\solvers\\\\GLPK'\n",
    "\n",
    "solver=SolverFactory(solvername,executable = solverpath_exe) #executable=\n",
    "\n",
    "M = ConcreteModel()  # create a model with name M\n",
    "\n",
    "M.x1 = Var()  # create x1\n",
    "M.x2 = Var(bounds=(-1,1))  # create x2 \n",
    "M.x3 = Var(within = NonNegativeReals)  # create x3\n",
    "\n",
    "# define objective\n",
    "M.obj = Objective(\n",
    "    expr=2*M.x1 + 4*M.x2 - 2*M.x3,\n",
    "    sense=maximize)\n",
    "\n",
    "# constraints\n",
    "M.cons = Constraint(\n",
    "    expr = M.x1+M.x2+M.x3 == 1)\n",
    "\n",
    "# obtain the solution \n",
    "#solver = SolverFactory(\"glpk\") # define the solver\n",
    "solution = solver.solve(M) # solve\n"
   ]
  },
  {
   "cell_type": "code",
   "execution_count": 8,
   "metadata": {
    "scrolled": true
   },
   "outputs": [
    {
     "name": "stdout",
     "output_type": "stream",
     "text": [
      "Model unknown\n",
      "\n",
      "  Variables:\n",
      "    x1 : Size=1, Index=None\n",
      "        Key  : Lower : Value : Upper : Fixed : Stale : Domain\n",
      "        None :  None :  None :  None : False :  True :  Reals\n",
      "    x2 : Size=1, Index=None\n",
      "        Key  : Lower : Value : Upper : Fixed : Stale : Domain\n",
      "        None :    -1 :  None :     1 : False :  True :  Reals\n",
      "    x3 : Size=1, Index=None\n",
      "        Key  : Lower : Value : Upper : Fixed : Stale : Domain\n",
      "        None :     0 :  None :  None : False :  True : NonNegativeReals\n",
      "\n",
      "  Objectives:\n",
      "    obj : Size=1, Index=None, Active=True\n",
      "ERROR: evaluating object as numeric value: x1\n",
      "        (object: <class 'pyomo.core.base.var.ScalarVar'>)\n",
      "    No value for uninitialized NumericValue object x1\n",
      "ERROR: evaluating object as numeric value: obj\n",
      "        (object: <class 'pyomo.core.base.objective.ScalarObjective'>)\n",
      "    No value for uninitialized NumericValue object x1\n",
      "        Key : Active : Value\n",
      "        None :   None :  None\n",
      "\n",
      "  Constraints:\n",
      "    cons : Size=1\n",
      "        Key  : Lower : Body : Upper\n",
      "        None :   1.0 : None :   1.0\n"
     ]
    }
   ],
   "source": [
    "# display solution\n",
    "M.display()"
   ]
  },
  {
   "cell_type": "markdown",
   "metadata": {},
   "source": [
    "The solution is $x=(0, 1, 0)$\n",
    "\n",
    "The optimal value of the objective function is 4"
   ]
  }
 ],
 "metadata": {
  "kernelspec": {
   "display_name": "Python 3.10.6 64-bit",
   "language": "python",
   "name": "python3"
  },
  "language_info": {
   "codemirror_mode": {
    "name": "ipython",
    "version": 3
   },
   "file_extension": ".py",
   "mimetype": "text/x-python",
   "name": "python",
   "nbconvert_exporter": "python",
   "pygments_lexer": "ipython3",
   "version": "3.10.6"
  },
  "vscode": {
   "interpreter": {
    "hash": "369f2c481f4da34e4445cda3fffd2e751bd1c4d706f27375911949ba6bb62e1c"
   }
  }
 },
 "nbformat": 4,
 "nbformat_minor": 2
}
