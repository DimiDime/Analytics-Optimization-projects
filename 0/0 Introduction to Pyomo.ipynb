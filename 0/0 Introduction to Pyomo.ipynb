{
 "cells": [
  {
   "cell_type": "markdown",
   "metadata": {},
   "source": [
    "![uc3m](img/uc3m.jpg)"
   ]
  },
  {
   "cell_type": "markdown",
   "metadata": {},
   "source": [
    "# Introduction: Pyomo framework\n",
    "\n",
    "<a href=\"http://www.est.uc3m.es/nogales\" target=\"_blank\">Javier Nogales</a>"
   ]
  },
  {
   "cell_type": "markdown",
   "metadata": {},
   "source": [
    "## What is Pyomo?\n",
    "\n",
    "    Python Optimization Modeling Objects\n",
    "\n",
    "Pyomo supports the formulation and analysis of mathematical models for complex optimization applications"
   ]
  },
  {
   "cell_type": "markdown",
   "metadata": {},
   "source": [
    "## Why Pyomo?\n",
    "\n",
    "- open cource\n",
    "- customizable \n",
    "- allows solver integration\n",
    "- modern optimization language"
   ]
  },
  {
   "cell_type": "markdown",
   "metadata": {},
   "source": [
    "### Using Pyomo\n",
    "\n",
    "See http://www.pyomo.org/installation to install\n",
    "\n",
    "In the terminal, type:\n",
    "\n",
    "    conda install -c conda-forge pyomo"
   ]
  },
  {
   "cell_type": "markdown",
   "metadata": {},
   "source": [
    "### Install the optimization algorithms (GLPK)\n",
    "\n",
    "In the terminal, type\n",
    "\n",
    "    conda install -c conda-forge glpk"
   ]
  },
  {
   "cell_type": "markdown",
   "metadata": {},
   "source": [
    "## Modeling with Pyomo\n",
    "\n",
    "Remember the three basic elements of an optimization problem:\n",
    "\n",
    "- Decision variables\n",
    "\n",
    "- Objective function\n",
    "\n",
    "- Constraints"
   ]
  },
  {
   "cell_type": "markdown",
   "metadata": {},
   "source": [
    "### Pyomo modeling classes\n",
    "\n",
    "- Var\n",
    "\n",
    "    decision variables in a model\n",
    "\n",
    "- Objective\n",
    "\n",
    "    expressions that are minimized or maximized in a model\n",
    "\n",
    "- Constraint\n",
    "\n",
    "    constraint expressions that impose restrictions on variable values in a model\n",
    "\n",
    "- Set\n",
    "\n",
    "    set data that is used to define a model instance\n",
    "\n",
    "- Param\n",
    "\n",
    "     parameter data that is used to define a model instance\n"
   ]
  },
  {
   "cell_type": "markdown",
   "metadata": {},
   "source": [
    "### Try the next optimization problem\n",
    "\n",
    "maximize $2x_1 + 4x_2 - 2x_3$\n",
    "\n",
    "subject to $x_1+x_2+x_3=1$\n",
    "\n",
    "&nbsp;  &nbsp;  &nbsp;  &nbsp; $-1 \\leq x_2 \\leq 1$ and $x_3\\geq 0$"
   ]
  },
  {
   "cell_type": "code",
   "execution_count": 1,
   "metadata": {},
   "outputs": [],
   "source": [
    "import sys\n",
    "from pyomo.environ import *  # import environment\n",
    "import pyomo.environ as pyo\n",
    "\n",
    "solvername='glpk'\n",
    "solverpath_folder='C:\\\\w64'\n",
    "solverpath_exe='C:\\\\w64\\\\glpsol'\n",
    "\n",
    "sys.path.append(solverpath_folder)\n",
    "solver=SolverFactory(solvername, executable=solverpath_exe)\n",
    "\n",
    "M = ConcreteModel()  # create a model with name M\n",
    "\n",
    "M.x1 = Var()  # create x1\n",
    "M.x2 = Var(bounds=(-1,1))  # create x2 \n",
    "M.x3 = Var(within = NonNegativeReals)  # create x3\n",
    "\n",
    "# define objective\n",
    "M.obj = Objective(\n",
    "    expr=2*M.x1 + 4*M.x2 - 2*M.x3,\n",
    "    sense=maximize)\n",
    "\n",
    "# constraints\n",
    "M.cons = Constraint(\n",
    "    expr = M.x1+M.x2+M.x3 == 1)\n",
    "\n",
    "# obtain the solution \n",
    "#solver = SolverFactory(\"glpk\") # define the solver\n",
    "solution = solver.solve(M) # solve\n"
   ]
  },
  {
   "cell_type": "code",
   "execution_count": 2,
   "metadata": {
    "scrolled": true
   },
   "outputs": [
    {
     "name": "stdout",
     "output_type": "stream",
     "text": [
      "Model unknown\n",
      "\n",
      "  Variables:\n",
      "    x1 : Size=1, Index=None\n",
      "        Key  : Lower : Value : Upper : Fixed : Stale : Domain\n",
      "        None :  None :   0.0 :  None : False : False :  Reals\n",
      "    x2 : Size=1, Index=None\n",
      "        Key  : Lower : Value : Upper : Fixed : Stale : Domain\n",
      "        None :    -1 :   1.0 :     1 : False : False :  Reals\n",
      "    x3 : Size=1, Index=None\n",
      "        Key  : Lower : Value : Upper : Fixed : Stale : Domain\n",
      "        None :     0 :   0.0 :  None : False : False : NonNegativeReals\n",
      "\n",
      "  Objectives:\n",
      "    obj : Size=1, Index=None, Active=True\n",
      "        Key  : Active : Value\n",
      "        None :   True :   4.0\n",
      "\n",
      "  Constraints:\n",
      "    cons : Size=1\n",
      "        Key  : Lower : Body : Upper\n",
      "        None :   1.0 :  1.0 :   1.0\n"
     ]
    }
   ],
   "source": [
    "# display solution\n",
    "M.display()"
   ]
  },
  {
   "cell_type": "markdown",
   "metadata": {},
   "source": [
    "The solution is $x=(0, 1, 0)$\n",
    "\n",
    "The optimal value of the objective function is 4"
   ]
  }
 ],
 "metadata": {
  "kernelspec": {
   "display_name": "Python 3.10.6 64-bit",
   "language": "python",
   "name": "python3"
  },
  "language_info": {
   "codemirror_mode": {
    "name": "ipython",
    "version": 3
   },
   "file_extension": ".py",
   "mimetype": "text/x-python",
   "name": "python",
   "nbconvert_exporter": "python",
   "pygments_lexer": "ipython3",
   "version": "3.10.6"
  },
  "vscode": {
   "interpreter": {
    "hash": "369f2c481f4da34e4445cda3fffd2e751bd1c4d706f27375911949ba6bb62e1c"
   }
  }
 },
 "nbformat": 4,
 "nbformat_minor": 2
}
